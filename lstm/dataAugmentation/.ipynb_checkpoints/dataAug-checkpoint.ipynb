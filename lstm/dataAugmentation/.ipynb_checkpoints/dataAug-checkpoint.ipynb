{
 "cells": [
  {
   "cell_type": "code",
   "execution_count": 27,
   "metadata": {},
   "outputs": [],
   "source": [
    "from keras.models import Sequential\n",
    "from keras.layers.core import Dense, Activation, Dropout\n",
    "from keras.layers.recurrent import LSTM\n",
    "import numpy as np"
   ]
  },
  {
   "cell_type": "code",
   "execution_count": 28,
   "metadata": {},
   "outputs": [
    {
     "name": "stdout",
     "output_type": "stream",
     "text": [
      "('nb sequences:', 3514080)\n"
     ]
    }
   ],
   "source": [
    "# read file content\n",
    "filename = \"smallShortComments\"\n",
    "raw_text = open(filename).read()\n",
    "raw_text = raw_text.lower()\n",
    "\n",
    "# All unique characters in text\n",
    "chars = set(raw_text)\n",
    "\n",
    "# mapping character to intiger\n",
    "char_indices = dict((c, i) for i, c in enumerate(chars))\n",
    "# mapping integer to character back\n",
    "indices_char = dict((i, c) for i, c in enumerate(chars))\n",
    "\n",
    "# number of previous characters require to predict next character\n",
    "maxlen = 100\n",
    "\n",
    "sentences = []\n",
    "next_chars = []\n",
    "for i in range(0, len(raw_text) - maxlen, 1):\n",
    "    sentences.append(raw_text[i: i + maxlen])\n",
    "    next_chars.append(raw_text[i + maxlen])\n",
    "print('nb sequences:', len(sentences))\n",
    "\n",
    "\n",
    "\n",
    "X = np.zeros((len(sentences), maxlen, len(chars)), dtype=np.bool)\n",
    "y = np.zeros((len(sentences), len(chars)), dtype=np.bool)\n",
    "for i, sentence in enumerate(sentences):\n",
    "    for t, char in enumerate(sentence):\n",
    "        X[i, t, char_indices[char]] = 1\n",
    "    y[i, char_indices[next_chars[i]]] = 1"
   ]
  },
  {
   "cell_type": "code",
   "execution_count": 30,
   "metadata": {
    "collapsed": true
   },
   "outputs": [],
   "source": [
    "\n",
    "# defining a model\n",
    "model = Sequential()\n",
    "model.add(LSTM(512,  input_shape=(maxlen,len(chars)), return_sequences=True))\n",
    "model.add(Dropout(0.20))\n",
    "\n",
    "# you may use this unused layers for bigger dataset, I'm not using it\n",
    "# model.add(LSTM(512, return_sequences=True))\n",
    "# model.add(Dropout(0.20))\n",
    "\n",
    "# model.add(LSTM(512, return_sequences=True))\n",
    "# model.add(Dropout(0.20))\n",
    "\n",
    "model.add(LSTM(256, return_sequences=False))\n",
    "model.add(Dropout(0.20))\n",
    "\n",
    "model.add(Dense(len(chars)))\n",
    "model.add(Activation('softmax'))\n",
    "\n",
    "# compile or load weights then compile depending\n"
   ]
  },
  {
   "cell_type": "code",
   "execution_count": 17,
   "metadata": {
    "collapsed": true
   },
   "outputs": [],
   "source": [
    "def generatetext(i,model):\n",
    "    \"\"\"\n",
    "    To generate text from trained modle\n",
    "    i = can be any integer, while training you may pass epoch iterator as i to keep watch on quality of model.\n",
    "    modle =  a trained model\n",
    "    \"\"\"\n",
    "    # seed text  provides previous n( here 100) characters on basis of which n+ characters will be predicted.\n",
    "    seed_text = \"Another great John Wayne movie.  Lots of action.  Lots of stars.  A great attempt to keep reality in play and of course the good guys win.\".lower()\n",
    "    generated = '' + seed_text[-100:]\n",
    "    print(i,\"Seed\",seed_text)\n",
    "    # will print next 300 characters\n",
    "    for iteration in range(300):\n",
    "            # create x vector from seed to predict on\n",
    "            #generating numpy array as generated above\n",
    "            x = np.zeros((1, maxlen, len(chars)))\n",
    "            for t, char in enumerate(seed_text[-100:]):\n",
    "                x[0, t, char_indices[char]] = 1.\n",
    "            #predict next character\n",
    "            preds = model.predict(x, verbose=0)[0]\n",
    "            next_index = np.argmax(preds)\n",
    "            next_char = indices_char[next_index]\n",
    "            \n",
    "            #append next character to seed text, on the basis on new 100 character generate next to next character and so on. \n",
    "            generated += next_char\n",
    "            seed_text = seed_text[1:] + next_char\n",
    "#             print seed_text,next_char\n",
    "    print('follow up with: ' + generated)"
   ]
  },
  {
   "cell_type": "code",
   "execution_count": 31,
   "metadata": {},
   "outputs": [],
   "source": [
    "model.compile(loss='categorical_crossentropy', optimizer='rmsprop',metrics=['accuracy'])"
   ]
  },
  {
   "cell_type": "code",
   "execution_count": 19,
   "metadata": {
    "collapsed": true
   },
   "outputs": [],
   "source": [
    "# model.load_weights('One_go_larger_network_0.h5')"
   ]
  },
  {
   "cell_type": "code",
   "execution_count": 32,
   "metadata": {
    "scrolled": true
   },
   "outputs": [],
   "source": [
    "# run for number of specified epochs\n",
    "epochs = 20\n",
    "for i in range(0,epochs):\n",
    "    model.fit(X,y, batch_size=1000,nb_epoch=1)\n",
    "    model.save_weights('data_augmentation_'+str(i)+'.h5')\n",
    "    generatetext(i,model)"
   ]
  },
  {
   "cell_type": "code",
   "execution_count": null,
   "metadata": {
    "collapsed": true
   },
   "outputs": [],
   "source": [
    "\n"
   ]
  },
  {
   "cell_type": "code",
   "execution_count": null,
   "metadata": {
    "collapsed": true
   },
   "outputs": [],
   "source": []
  }
 ],
 "metadata": {
  "kernelspec": {
   "display_name": "Python 2",
   "language": "python",
   "name": "python2"
  },
  "language_info": {
   "codemirror_mode": {
    "name": "ipython",
    "version": 2
   },
   "file_extension": ".py",
   "mimetype": "text/x-python",
   "name": "python",
   "nbconvert_exporter": "python",
   "pygments_lexer": "ipython2",
   "version": "2.7.13"
  }
 },
 "nbformat": 4,
 "nbformat_minor": 1
}
