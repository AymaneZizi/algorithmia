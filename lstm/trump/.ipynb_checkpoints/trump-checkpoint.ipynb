{
 "cells": [
  {
   "cell_type": "code",
   "execution_count": 1,
   "metadata": {},
   "outputs": [
    {
     "name": "stderr",
     "output_type": "stream",
     "text": [
      "Using Theano backend.\n",
      "WARNING (theano.sandbox.cuda): The cuda backend is deprecated and will be removed in the next release (v0.10).  Please switch to the gpuarray backend. You can get more information about how to switch at this URL:\n",
      " https://github.com/Theano/Theano/wiki/Converting-to-the-new-gpu-back-end%28gpuarray%29\n",
      "\n",
      "Using gpu device 0: Quadro M6000 (CNMeM is enabled with initial size: 95.0% of memory, cuDNN not available)\n"
     ]
    }
   ],
   "source": [
    "from keras.models import Sequential\n",
    "from keras.layers.core import Dense, Activation, Dropout\n",
    "from keras.layers.recurrent import LSTM\n",
    "import numpy as np\n"
   ]
  },
  {
   "cell_type": "code",
   "execution_count": 2,
   "metadata": {},
   "outputs": [
    {
     "name": "stdout",
     "output_type": "stream",
     "text": [
      "('nb sequences:', 916951)\n"
     ]
    }
   ],
   "source": [
    "filename = \"trump_speech.txt\"\n",
    "raw_text = open(filename).read()\n",
    "raw_text = raw_text.lower()\n",
    "chars = set(raw_text)\n",
    "\n",
    "char_indices = dict((c, i) for i, c in enumerate(chars))\n",
    "indices_char = dict((i, c) for i, c in enumerate(chars))\n",
    "\n",
    "\n",
    "maxlen = 100\n",
    "step = 1\n",
    "sentences = []\n",
    "next_chars = []\n",
    "for i in range(0, len(raw_text) - maxlen, step):\n",
    "    sentences.append(raw_text[i: i + maxlen])\n",
    "    next_chars.append(raw_text[i + maxlen])\n",
    "print('nb sequences:', len(sentences))\n",
    "\n",
    "\n",
    "\n",
    "X = np.zeros((len(sentences), maxlen, len(chars)), dtype=np.bool)\n",
    "y = np.zeros((len(sentences), len(chars)), dtype=np.bool)\n",
    "for i, sentence in enumerate(sentences):\n",
    "    for t, char in enumerate(sentence):\n",
    "        X[i, t, char_indices[char]] = 1\n",
    "    y[i, char_indices[next_chars[i]]] = 1"
   ]
  },
  {
   "cell_type": "code",
   "execution_count": null,
   "metadata": {
    "collapsed": true
   },
   "outputs": [],
   "source": []
  },
  {
   "cell_type": "code",
   "execution_count": 8,
   "metadata": {
    "collapsed": true
   },
   "outputs": [],
   "source": [
    "model = Sequential()\n",
    "model.add(LSTM(512,  input_shape=(100,69), return_sequences=True))\n",
    "model.add(Dropout(0.20))\n",
    "\n",
    "# model.add(LSTM(512, return_sequences=True))\n",
    "# model.add(Dropout(0.20))\n",
    "\n",
    "# model.add(LSTM(512, return_sequences=True))\n",
    "# model.add(Dropout(0.20))\n",
    "\n",
    "model.add(LSTM(256, return_sequences=False))\n",
    "model.add(Dropout(0.20))\n",
    "\n",
    "model.add(Dense(len(chars)))\n",
    "model.add(Activation('softmax'))\n",
    "\n",
    "# compile or load weights then compile depending\n"
   ]
  },
  {
   "cell_type": "code",
   "execution_count": 13,
   "metadata": {
    "collapsed": true
   },
   "outputs": [],
   "source": [
    "# \"This above all: to thine own self be true\". - Hamlet (Act I, Scene III).\n",
    "def generatetext(i):\n",
    "    seed_text = \"Yet Hillary Clinton, for months, and despite so many attacks, repeatedly refused to even say the words radical Islam until I challenged her yesterday.\".lower()\n",
    "    generated = '' + seed_text[-100:]\n",
    "    print(i,\"Seed\",seed_text)\n",
    "    for iteration in range(300):\n",
    "            # create x vector from seed to predict off of\n",
    "            x = np.zeros((1, 100, len(chars)))\n",
    "            for t, char in enumerate(seed_text[-100:]):\n",
    "                x[0, t, char_indices[char]] = 1.\n",
    "\n",
    "            preds = model.predict(x, verbose=0)[0]\n",
    "            next_index = np.argmax(preds)\n",
    "            next_char = indices_char[next_index]\n",
    "\n",
    "            generated += next_char\n",
    "            seed_text = seed_text[1:] + next_char\n",
    "#             print seed_text,next_char\n",
    "    print('follow up with: ' + generated)"
   ]
  },
  {
   "cell_type": "code",
   "execution_count": 14,
   "metadata": {
    "collapsed": true
   },
   "outputs": [],
   "source": [
    "model.compile(loss='categorical_crossentropy', optimizer='rmsprop',metrics=['accuracy'])"
   ]
  },
  {
   "cell_type": "code",
   "execution_count": 15,
   "metadata": {
    "collapsed": true
   },
   "outputs": [],
   "source": [
    "# model.load_weights('One_go_larger_network_0.h5')"
   ]
  },
  {
   "cell_type": "code",
   "execution_count": 17,
   "metadata": {
    "scrolled": true
   },
   "outputs": [
    {
     "name": "stdout",
     "output_type": "stream",
     "text": [
      "Epoch 1/1\n",
      "916951/916951 [==============================] - 1124s - loss: 1.0908 - acc: 0.6644  \n",
      "(12, 'Seed', 'yet hillary clinton, for months, and despite so many attacks, repeatedly refused to even say the words radical islam until i challenged her yesterday.')\n",
      "follow up with: ny attacks, repeatedly refused to even say the words radical islam until i challenged her yesterday. the world that we have to do it and the world that we have to do it. i don’t know what they don’t want to be a lot of money. i don’t know what they don’t want to be a lot of money. i don’t know what they don’t want to be a lot of money. i don’t know what they don’t want to be a lot \n",
      "Epoch 1/1\n",
      "916951/916951 [==============================] - 1125s - loss: 1.0740 - acc: 0.6690  \n",
      "(13, 'Seed', 'yet hillary clinton, for months, and despite so many attacks, repeatedly refused to even say the words radical islam until i challenged her yesterday.')\n",
      "follow up with: ny attacks, repeatedly refused to even say the words radical islam until i challenged her yesterday. it’s a great company that we have to do it. we have to do it. we have to do it. i want to be a lot of money to do it. i want to be a lot of money to do it. i want to be a lot of money to do it. i want to be a lot of money to do it. i want to be a lot of money to do it. i want to be a lot of money\n",
      "Epoch 1/1\n",
      "916951/916951 [==============================] - 1125s - loss: 1.0593 - acc: 0.6729  \n",
      "(14, 'Seed', 'yet hillary clinton, for months, and despite so many attacks, repeatedly refused to even say the words radical islam until i challenged her yesterday.')\n",
      "follow up with: ny attacks, repeatedly refused to even say the words radical islam until i challenged her yesterday. the worst thing is the only one of the problem is the way it was a great person and the press wants to be a lot of money. i want to be a lot of money. i don’t know what they’re going to be a lot of money. i don’t know what they’re going to be able to do it. i don’t know what they’re goi\n",
      "Epoch 1/1\n",
      "916951/916951 [==============================] - 1124s - loss: 1.0447 - acc: 0.6769  \n",
      "(15, 'Seed', 'yet hillary clinton, for months, and despite so many attacks, repeatedly refused to even say the words radical islam until i challenged her yesterday.')\n",
      "follow up with: ny attacks, repeatedly refused to even say the words radical islam until i challenged her yesterday. i will never ever be the worst thing in the world. i was a great people and i was a great people and i was a great people and i was a great people and the press was a great people and i was a great people and i was a great people and i was a great people and i was a great people and the press was a\n",
      "Epoch 1/1\n",
      "916951/916951 [==============================] - 1125s - loss: 1.0345 - acc: 0.6800  \n",
      "(16, 'Seed', 'yet hillary clinton, for months, and despite so many attacks, repeatedly refused to even say the words radical islam until i challenged her yesterday.')\n",
      "follow up with: ny attacks, repeatedly refused to even say the words radical islam until i challenged her yesterday. i was a great deal and i said, \"what do you want to do it?\" i said, \"what do you want to do it?\" i said, \"what do you want to do it?\" i said, \"what do you want to do it?\" i said, \"what do you want to do it?\" i said, \"what do you want to do it?\" i said, \"what do you want to do it?\" i said, \"what do \n",
      "Epoch 1/1\n",
      "916951/916951 [==============================] - 1125s - loss: 1.0209 - acc: 0.6835  \n",
      "(17, 'Seed', 'yet hillary clinton, for months, and despite so many attacks, repeatedly refused to even say the words radical islam until i challenged her yesterday.')\n",
      "follow up with: ny attacks, repeatedly refused to even say the words radical islam until i challenged her yesterday. they want to be a lot of the states and they don’t know what they’re going to be a lot of the people of the polls. we’re going to be so good to me and they’re going to be a lot of the people of the people of the polls. we’re going to be a lot of the people of the polls. we’re going to b\n",
      "Epoch 1/1\n",
      "916951/916951 [==============================] - 1125s - loss: 1.0098 - acc: 0.6864  \n",
      "(18, 'Seed', 'yet hillary clinton, for months, and despite so many attacks, repeatedly refused to even say the words radical islam until i challenged her yesterday.')\n",
      "follow up with: ny attacks, repeatedly refused to even say the words radical islam until i challenged her yesterday. the world was a great people. i don’t know what the world is a great people. i don’t know what the people that are the same thing that we have to be a lot of money. we have to be a lot of money. we have to be a lot of money. we have to be a lot of money. we have to be a lot of money. we have to\n",
      "Epoch 1/1\n",
      "916951/916951 [==============================] - 1125s - loss: 1.0002 - acc: 0.6886  \n",
      "(19, 'Seed', 'yet hillary clinton, for months, and despite so many attacks, repeatedly refused to even say the words radical islam until i challenged her yesterday.')\n",
      "follow up with: ny attacks, repeatedly refused to even say the words radical islam until i challenged her yesterday. the whole thing we have the world is a great company and they want to do it. i want to do it. i want to do it. i want to do it. i want to do it. i want to do it. i want to do it. i want to do it. i want to do it. i want to do it. i want to do it. i want to do it. i want to do it. i want to do it. i\n",
      "Epoch 1/1\n",
      "916951/916951 [==============================] - 1124s - loss: 0.9911 - acc: 0.6915  \n",
      "(20, 'Seed', 'yet hillary clinton, for months, and despite so many attacks, repeatedly refused to even say the words radical islam until i challenged her yesterday.')\n",
      "follow up with: ny attacks, repeatedly refused to even say the words radical islam until i challenged her yesterday. the world was a great company that we have to be a lot of money. we have to be a lot of money. we have to be a lot of money. we have to be a lot of money. we have to be a lot of money. we have to be a lot of money. we have to be a lot of money. we have to be a lot of money. we have to be a lot of m\n",
      "Epoch 1/1\n",
      "916951/916951 [==============================] - 1125s - loss: 0.9823 - acc: 0.6939  \n",
      "(21, 'Seed', 'yet hillary clinton, for months, and despite so many attacks, repeatedly refused to even say the words radical islam until i challenged her yesterday.')\n",
      "follow up with: ny attacks, repeatedly refused to even say the words radical islam until i challenged her yesterday. the world is a great people and the press where i was a great job. i want to be a lot of money. i want to take care of our vets. we have to be a lot of money. we have to be a lot of money. we have to be a lot of money. we have to be a lot of money. we have to be a lot of money. we have to be a lot \n",
      "Epoch 1/1\n",
      "916951/916951 [==============================] - 1125s - loss: 0.9728 - acc: 0.6964  \n",
      "(22, 'Seed', 'yet hillary clinton, for months, and despite so many attacks, repeatedly refused to even say the words radical islam until i challenged her yesterday.')\n",
      "follow up with: ny attacks, repeatedly refused to even say the words radical islam until i challenged her yesterday. it’s a great company. i was a great deal for the world trade deals. i was a problem. i was a problem. i was a problem. i was a problem. i was a problem. i was a problem. i was a friend of mine who was a great deal for the american people and the world will be a lot of things that are the worst th\n",
      "Epoch 1/1\n",
      "916951/916951 [==============================] - 1125s - loss: 0.9664 - acc: 0.6983  \n",
      "(23, 'Seed', 'yet hillary clinton, for months, and despite so many attacks, repeatedly refused to even say the words radical islam until i challenged her yesterday.')\n",
      "follow up with: ny attacks, repeatedly refused to even say the words radical islam until i challenged her yesterday. i will tell you that i was a great people. i was the one that was a great deal with the statement that i said the state of the state of the state is a great deal for the state of the state of the states and the state of the states are the second amendment that we have to be a lot of them back. they\n",
      "Epoch 1/1\n"
     ]
    },
    {
     "name": "stdout",
     "output_type": "stream",
     "text": [
      "916951/916951 [==============================] - 1125s - loss: 0.9593 - acc: 0.7003  \n",
      "(24, 'Seed', 'yet hillary clinton, for months, and despite so many attacks, repeatedly refused to even say the words radical islam until i challenged her yesterday.')\n",
      "follow up with: ny attacks, repeatedly refused to even say the words radical islam until i challenged her yesterday. the worst thing that i was a great company and i was a great company and i was a great company and i was a great company and i was a great company and i was a great company and i was a great company and i was a great company and i was a great company and i was a great company and i was a great comp\n",
      "Epoch 1/1\n",
      "916951/916951 [==============================] - 1125s - loss: 0.9521 - acc: 0.7024  \n",
      "(25, 'Seed', 'yet hillary clinton, for months, and despite so many attacks, repeatedly refused to even say the words radical islam until i challenged her yesterday.')\n",
      "follow up with: ny attacks, repeatedly refused to even say the words radical islam until i challenged her yesterday. it will be a major that we have to be a man of the world trade deals. we have to stop it. we have to be smart. we have to do it. we have to be smart. we have to do it. we have to be smart. we have to do it. we have to be smart. we have to do it. we have to be smart. we have to do it. we have to be \n",
      "Epoch 1/1\n",
      "916951/916951 [==============================] - 1125s - loss: 0.9441 - acc: 0.7045  \n",
      "(26, 'Seed', 'yet hillary clinton, for months, and despite so many attacks, repeatedly refused to even say the words radical islam until i challenged her yesterday.')\n",
      "follow up with: ny attacks, repeatedly refused to even say the words radical islam until i challenged her yesterday. the worst thing that i was a statement and i said, \"what do you think? i don’t know what the hell he does that?\" i said, \"what do you think? i don’t know what the hell he does that?\" i said, \"what do you think? i don’t know what the hell he does that?\" i said, \"what do you think? i don’t kn\n",
      "Epoch 1/1\n",
      "916951/916951 [==============================] - 1126s - loss: 0.9373 - acc: 0.7061  \n",
      "(27, 'Seed', 'yet hillary clinton, for months, and despite so many attacks, repeatedly refused to even say the words radical islam until i challenged her yesterday.')\n",
      "follow up with: ny attacks, repeatedly refused to even say the words radical islam until i challenged her yesterday. the world was a friend of mine who was a total disaster. i was a tough country. i was a tough country. i was a tough country. i was the one that had a great deal with the world that i was the worst thing in the world, and i was a tough country. i was a tough country. i was the one that had a great \n",
      "Epoch 1/1\n",
      "916951/916951 [==============================] - 1125s - loss: 0.9309 - acc: 0.7077  \n",
      "(28, 'Seed', 'yet hillary clinton, for months, and despite so many attacks, repeatedly refused to even say the words radical islam until i challenged her yesterday.')\n",
      "follow up with: ny attacks, repeatedly refused to even say the words radical islam until i challenged her yesterday. the world is a statement that was a total disaster. i was a great company and i said, \"what are you going to go to the country and they do it?\" i said, \"what do you think? i don’t know what the hell is it was a tough country. i don’t know what they do is that i don’t know what they do is that\n",
      "Epoch 1/1\n",
      "916951/916951 [==============================] - 1125s - loss: 0.9255 - acc: 0.7093  \n",
      "(29, 'Seed', 'yet hillary clinton, for months, and despite so many attacks, repeatedly refused to even say the words radical islam until i challenged her yesterday.')\n",
      "follow up with: ny attacks, repeatedly refused to even say the words radical islam until i challenged her yesterday. the world is a great company. i was a tough company. i was a tough company. i was a tough country. i was a great person. i was a tough country. i was a tough country. i was a tough country. i was a tough country. i was a great person. i was a tough country. i was a tough country. i was a tough coun\n"
     ]
    }
   ],
   "source": [
    "epochs = 30\n",
    "for i in range(12,epochs):\n",
    "    model.fit(X,y, batch_size=1000,nb_epoch=1)\n",
    "    model.save_weights('trump_layers'+str(i)+'.h5')\n",
    "    generatetext(i)"
   ]
  },
  {
   "cell_type": "code",
   "execution_count": null,
   "metadata": {
    "collapsed": true
   },
   "outputs": [],
   "source": [
    "generatetext(i)\n"
   ]
  },
  {
   "cell_type": "code",
   "execution_count": null,
   "metadata": {
    "collapsed": true
   },
   "outputs": [],
   "source": []
  }
 ],
 "metadata": {
  "kernelspec": {
   "display_name": "Python 2",
   "language": "python",
   "name": "python2"
  },
  "language_info": {
   "codemirror_mode": {
    "name": "ipython",
    "version": 2
   },
   "file_extension": ".py",
   "mimetype": "text/x-python",
   "name": "python",
   "nbconvert_exporter": "python",
   "pygments_lexer": "ipython2",
   "version": "2.7.13"
  }
 },
 "nbformat": 4,
 "nbformat_minor": 1
}
