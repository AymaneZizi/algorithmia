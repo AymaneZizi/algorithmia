{
 "cells": [
  {
   "cell_type": "code",
   "execution_count": 58,
   "metadata": {
    "collapsed": true
   },
   "outputs": [],
   "source": [
    "import matplotlib.pyplot as plt\n",
    "import numpy as np\n",
    "import time\n",
    "import csv\n",
    "from scipy.misc import toimage\n",
    "# # from keras.models import Sequential\n",
    "# # from keras.layers.core import Dense, Activation, Dropout\n",
    "# # from keras.layers.recurrent import LSTM, SimpleRNN\n",
    "# # from keras.layers.wrappers import TimeDistributed\n",
    "# import argparse\n",
    "# from RNN_utils import *\n",
    "from matplotlib import pyplot\n",
    "%matplotlib inline"
   ]
  },
  {
   "cell_type": "code",
   "execution_count": 73,
   "metadata": {
    "collapsed": true
   },
   "outputs": [],
   "source": [
    "SEQ_LENGTH = 50\n",
    "HIDDEN_DIM = 500\n",
    "SEQUENCE_LENGHT = 50"
   ]
  },
  {
   "cell_type": "code",
   "execution_count": 74,
   "metadata": {
    "collapsed": false
   },
   "outputs": [],
   "source": [
    "def make_data():\n",
    "    \"\"\"\n",
    "    To read data from file and and generate training set\n",
    "    \"\"\"\n",
    "    fileContent = open('shakespeare_input.txt', 'r').read()\n",
    "    charactersInFile = list(set(fileContent))\n",
    "    uniqueCharacters = len(charactersInFile)\n",
    "\n",
    "    number_to_Character = {number:character for number, character in enumerate(charactersInFile)}\n",
    "    Character_to_number = {character:number for number, character in enumerate(charactersInFile)}\n",
    "\n",
    "    X = np.zeros((len(fileContent)/SEQUENCE_LENGHT, SEQUENCE_LENGHT, uniqueCharacters))\n",
    "    y = np.zeros((len(fileContent)/SEQUENCE_LENGHT, SEQUENCE_LENGHT, uniqueCharacters))\n",
    "\n",
    "    for i in range(0, len(fileContent)/SEQUENCE_LENGHT):\n",
    "        X_sequence = fileContent[i*SEQUENCE_LENGHT:(i+1)*SEQUENCE_LENGHT]\n",
    "\n",
    "        print (\"X_Sequence : \", X_sequence)\n",
    "        X_sequence_ix = [Character_to_number[value] for value in X_sequence]\n",
    "    #     print (X_sequence_ix)\n",
    "        input_sequence = np.zeros((SEQUENCE_LENGHT, uniqueCharacters))\n",
    "        for eachCharNo in range(SEQUENCE_LENGHT):\n",
    "            input_sequence[eachCharNo][X_sequence_ix[eachCharNo]] = 1.\n",
    "            X[i] = input_sequence\n",
    "    #     print (list(input_sequence))\n",
    "        y_sequence = fileContent[i*SEQUENCE_LENGHT+1:(i+1)*SEQUENCE_LENGHT+1]\n",
    "        print  (\"y_Sequence : \",y_sequence)\n",
    "        y_sequence_ix = [Character_to_number[value] for value in y_sequence]\n",
    "        target_sequence = np.zeros((SEQUENCE_LENGHT, uniqueCharacters))\n",
    "        for eachCharNo in range(eachCharNo):\n",
    "            target_sequence[eachCharNo][y_sequence_ix[eachCharNo]] = 1.\n",
    "            y[i] = target_sequence\n",
    "        # This code snippet is for visualization only\n",
    "        print (\"Original String\")\n",
    "        pyplot.imshow(toimage(input_sequence)) #showing first image\n",
    "        pyplot.show()\n",
    "        print (\"Mutated String\")\n",
    "        pyplot.imshow(toimage(target_sequence)) #showing first image\n",
    "        pyplot.show()\n",
    "        break\n",
    "        return X, y, uniqueCharacters, number_to_Character"
   ]
  },
  {
   "cell_type": "code",
   "execution_count": 75,
   "metadata": {
    "collapsed": false
   },
   "outputs": [
    {
     "name": "stdout",
     "output_type": "stream",
     "text": [
      "X_Sequence :  We are accounted poor citizens, the patricians goo\n",
      "y_Sequence :  e are accounted poor citizens, the patricians good\n",
      "Original String\n"
     ]
    },
    {
     "data": {
      "image/png": "[encoded data removed]",
      "text/plain": [
       "<matplotlib.figure.Figure at 0x7f7e3044ad50>"
      ]
     },
     "metadata": {},
     "output_type": "display_data"
    },
    {
     "name": "stdout",
     "output_type": "stream",
     "text": [
      "Mutated String\n"
     ]
    },
    {
     "data": {
      "image/png": "[encoded data removed]",
      "text/plain": [
       "<matplotlib.figure.Figure at 0x7f7ec436e390>"
      ]
     },
     "metadata": {},
     "output_type": "display_data"
    }
   ],
   "source": [
    "make_data()"
   ]
  },
  {
   "cell_type": "code",
   "execution_count": null,
   "metadata": {
    "collapsed": false
   },
   "outputs": [],
   "source": [
    "# Creating and compiling the Network\n",
    "model = Sequential()\n",
    "model.add(LSTM(HIDDEN_DIM, input_shape=(None, VOCAB_SIZE), return_sequences=True))\n",
    "for i in range(LAYER_NUM - 1):\n",
    "  model.add(LSTM(HIDDEN_DIM, return_sequences=True))\n",
    "model.add(TimeDistributed(Dense(VOCAB_SIZE)))\n",
    "model.add(Activation('softmax'))\n",
    "model.compile(loss=\"categorical_crossentropy\", optimizer=\"rmsprop\")"
   ]
  }
 ],
 "metadata": {
  "kernelspec": {
   "display_name": "Python [Root]",
   "language": "python",
   "name": "Python [Root]"
  },
  "language_info": {
   "codemirror_mode": {
    "name": "ipython",
    "version": 2.0
   },
   "file_extension": ".py",
   "mimetype": "text/x-python",
   "name": "python",
   "nbconvert_exporter": "python",
   "pygments_lexer": "ipython2",
   "version": "2.7.12"
  }
 },
 "nbformat": 4,
 "nbformat_minor": 0
}