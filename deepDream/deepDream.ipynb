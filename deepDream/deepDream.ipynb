{
 "cells": [
  {
   "cell_type": "code",
   "execution_count": 1,
   "metadata": {
    "collapsed": false
   },
   "outputs": [
    {
     "name": "stderr",
     "output_type": "stream",
     "text": [
      "Using Theano backend.\n"
     ]
    }
   ],
   "source": [
    "from keras.models import Sequential\n",
    "from keras.layers import Convolution2D, ZeroPadding2D, MaxPooling2D"
   ]
  },
  {
   "cell_type": "code",
   "execution_count": 2,
   "metadata": {
    "collapsed": true
   },
   "outputs": [],
   "source": [
    "img_width, img_height = 128, 128"
   ]
  },
  {
   "cell_type": "code",
   "execution_count": 3,
   "metadata": {
    "collapsed": true
   },
   "outputs": [],
   "source": [
    "# build the VGG16 network\n",
    "model = Sequential()\n",
    "model.add(ZeroPadding2D((1, 1), batch_input_shape=(1, 3, img_width, img_height)))\n",
    "first_layer = model.layers[-1]\n",
    "# this is a placeholder tensor that will contain our generated images\n",
    "input_img = first_layer.input"
   ]
  },
  {
   "cell_type": "code",
   "execution_count": 4,
   "metadata": {
    "collapsed": true
   },
   "outputs": [],
   "source": [
    "# build the rest of the network\n",
    "model.add(Convolution2D(64, 3, 3, activation='relu', name='conv1_1'))\n",
    "model.add(ZeroPadding2D((1, 1)))\n",
    "model.add(Convolution2D(64, 3, 3, activation='relu', name='conv1_2'))\n",
    "model.add(MaxPooling2D((2, 2), strides=(2, 2)))\n",
    "\n",
    "model.add(ZeroPadding2D((1, 1)))\n",
    "model.add(Convolution2D(128, 3, 3, activation='relu', name='conv2_1'))\n",
    "model.add(ZeroPadding2D((1, 1)))\n",
    "model.add(Convolution2D(128, 3, 3, activation='relu', name='conv2_2'))\n",
    "model.add(MaxPooling2D((2, 2), strides=(2, 2)))\n",
    "\n",
    "model.add(ZeroPadding2D((1, 1)))\n",
    "model.add(Convolution2D(256, 3, 3, activation='relu', name='conv3_1'))\n",
    "model.add(ZeroPadding2D((1, 1)))\n",
    "model.add(Convolution2D(256, 3, 3, activation='relu', name='conv3_2'))\n",
    "model.add(ZeroPadding2D((1, 1)))\n",
    "model.add(Convolution2D(256, 3, 3, activation='relu', name='conv3_3'))\n",
    "model.add(MaxPooling2D((2, 2), strides=(2, 2)))\n",
    "\n",
    "model.add(ZeroPadding2D((1, 1)))\n",
    "model.add(Convolution2D(512, 3, 3, activation='relu', name='conv4_1'))\n",
    "model.add(ZeroPadding2D((1, 1)))\n",
    "model.add(Convolution2D(512, 3, 3, activation='relu', name='conv4_2'))\n",
    "model.add(ZeroPadding2D((1, 1)))\n",
    "model.add(Convolution2D(512, 3, 3, activation='relu', name='conv4_3'))\n",
    "model.add(MaxPooling2D((2, 2), strides=(2, 2)))\n",
    "\n",
    "model.add(ZeroPadding2D((1, 1)))\n",
    "model.add(Convolution2D(512, 3, 3, activation='relu', name='conv5_1'))\n",
    "model.add(ZeroPadding2D((1, 1)))\n",
    "model.add(Convolution2D(512, 3, 3, activation='relu', name='conv5_2'))\n",
    "model.add(ZeroPadding2D((1, 1)))\n",
    "model.add(Convolution2D(512, 3, 3, activation='relu', name='conv5_3'))\n",
    "model.add(MaxPooling2D((2, 2), strides=(2, 2)))"
   ]
  },
  {
   "cell_type": "code",
   "execution_count": 5,
   "metadata": {
    "collapsed": true
   },
   "outputs": [],
   "source": [
    "# get the symbolic outputs of each \"key\" layer (we gave them unique names).\n",
    "layer_dict = dict([(layer.name, layer) for layer in model.layers])"
   ]
  },
  {
   "cell_type": "code",
   "execution_count": 6,
   "metadata": {
    "collapsed": false
   },
   "outputs": [
    {
     "data": {
      "text/plain": [
       "{'conv1_1': <keras.layers.convolutional.Convolution2D at 0x7f0b5fd2ee50>,\n",
       " 'conv1_2': <keras.layers.convolutional.Convolution2D at 0x7f0b5fd2ee10>,\n",
       " 'conv2_1': <keras.layers.convolutional.Convolution2D at 0x7f0b5f4e40d0>,\n",
       " 'conv2_2': <keras.layers.convolutional.Convolution2D at 0x7f0b5f4b5510>,\n",
       " 'conv3_1': <keras.layers.convolutional.Convolution2D at 0x7f0b5f460f50>,\n",
       " 'conv3_2': <keras.layers.convolutional.Convolution2D at 0x7f0b5f46bfd0>,\n",
       " 'conv3_3': <keras.layers.convolutional.Convolution2D at 0x7f0b5f498a90>,\n",
       " 'conv4_1': <keras.layers.convolutional.Convolution2D at 0x7f0b5f3e7c50>,\n",
       " 'conv4_2': <keras.layers.convolutional.Convolution2D at 0x7f0b5f3fc3d0>,\n",
       " 'conv4_3': <keras.layers.convolutional.Convolution2D at 0x7f0b5f3b3750>,\n",
       " 'conv5_1': <keras.layers.convolutional.Convolution2D at 0x7f0b5f364950>,\n",
       " 'conv5_2': <keras.layers.convolutional.Convolution2D at 0x7f0b5f38c790>,\n",
       " 'conv5_3': <keras.layers.convolutional.Convolution2D at 0x7f0b5f33b610>,\n",
       " 'maxpooling2d_1': <keras.layers.pooling.MaxPooling2D at 0x7f0b5f53b2d0>,\n",
       " 'maxpooling2d_2': <keras.layers.pooling.MaxPooling2D at 0x7f0b5f4b5610>,\n",
       " 'maxpooling2d_3': <keras.layers.pooling.MaxPooling2D at 0x7f0b5f3e7990>,\n",
       " 'maxpooling2d_4': <keras.layers.pooling.MaxPooling2D at 0x7f0b5f3674d0>,\n",
       " 'maxpooling2d_5': <keras.layers.pooling.MaxPooling2D at 0x7f0b5f351e50>,\n",
       " 'zeropadding2d_1': <keras.layers.convolutional.ZeroPadding2D at 0x7f0b5feb3ad0>,\n",
       " 'zeropadding2d_10': <keras.layers.convolutional.ZeroPadding2D at 0x7f0b5f35c5d0>,\n",
       " 'zeropadding2d_11': <keras.layers.convolutional.ZeroPadding2D at 0x7f0b5f372090>,\n",
       " 'zeropadding2d_12': <keras.layers.convolutional.ZeroPadding2D at 0x7f0b5f330810>,\n",
       " 'zeropadding2d_13': <keras.layers.convolutional.ZeroPadding2D at 0x7f0b5f2dd450>,\n",
       " 'zeropadding2d_2': <keras.layers.convolutional.ZeroPadding2D at 0x7f0b5f52a150>,\n",
       " 'zeropadding2d_3': <keras.layers.convolutional.ZeroPadding2D at 0x7f0b5f4f1b10>,\n",
       " 'zeropadding2d_4': <keras.layers.convolutional.ZeroPadding2D at 0x7f0b5f4b1b50>,\n",
       " 'zeropadding2d_5': <keras.layers.convolutional.ZeroPadding2D at 0x7f0b5f46b190>,\n",
       " 'zeropadding2d_6': <keras.layers.convolutional.ZeroPadding2D at 0x7f0b5f491d90>,\n",
       " 'zeropadding2d_7': <keras.layers.convolutional.ZeroPadding2D at 0x7f0b5f435dd0>,\n",
       " 'zeropadding2d_8': <keras.layers.convolutional.ZeroPadding2D at 0x7f0b5f43cc10>,\n",
       " 'zeropadding2d_9': <keras.layers.convolutional.ZeroPadding2D at 0x7f0b5f3a5590>}"
      ]
     },
     "execution_count": 6,
     "metadata": {},
     "output_type": "execute_result"
    }
   ],
   "source": [
    ""
   ]
  },
  {
   "cell_type": "code",
   "execution_count": null,
   "metadata": {
    "collapsed": true
   },
   "outputs": [],
   "source": [
    ""
   ]
  }
 ],
 "metadata": {
  "kernelspec": {
   "display_name": "Python 2",
   "language": "python",
   "name": "python2"
  },
  "language_info": {
   "codemirror_mode": {
    "name": "ipython",
    "version": 2.0
   },
   "file_extension": ".py",
   "mimetype": "text/x-python",
   "name": "python",
   "nbconvert_exporter": "python",
   "pygments_lexer": "ipython2",
   "version": "2.7.11"
  }
 },
 "nbformat": 4,
 "nbformat_minor": 0
}