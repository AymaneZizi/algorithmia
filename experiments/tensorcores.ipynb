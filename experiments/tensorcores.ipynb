{
 "cells": [
  {
   "cell_type": "markdown",
   "metadata": {},
   "source": [
    "# Simple Network"
   ]
  },
  {
   "cell_type": "code",
   "execution_count": 1,
   "metadata": {
    "collapsed": true
   },
   "outputs": [],
   "source": [
    "import torch\n"
   ]
  },
  {
   "cell_type": "code",
   "execution_count": 2,
   "metadata": {
    "collapsed": true
   },
   "outputs": [],
   "source": [
    "N, t_in, t_out = 64, 128, 256"
   ]
  },
  {
   "cell_type": "code",
   "execution_count": 3,
   "metadata": {
    "collapsed": true
   },
   "outputs": [],
   "source": [
    "X = torch.randn(N, t_in).cuda()\n",
    "y = torch.randn(N, t_out).cuda()"
   ]
  },
  {
   "cell_type": "code",
   "execution_count": 4,
   "metadata": {
    "collapsed": true
   },
   "outputs": [],
   "source": [
    "model = torch.nn.Linear(in_features=t_in, out_features=t_out).cuda()"
   ]
  },
  {
   "cell_type": "code",
   "execution_count": 5,
   "metadata": {
    "collapsed": true
   },
   "outputs": [],
   "source": [
    "optimizer = torch.optim.Adam(model.parameters(), lr=0.001)"
   ]
  },
  {
   "cell_type": "code",
   "execution_count": 6,
   "metadata": {},
   "outputs": [
    {
     "name": "stdout",
     "output_type": "stream",
     "text": [
      "CPU times: user 0 ns, sys: 0 ns, total: 0 ns\n",
      "Wall time: 6.91 µs\n"
     ]
    }
   ],
   "source": [
    "%time\n",
    "optimizer.zero_grad()\n",
    "predicted = model(X)\n",
    "loss = torch.nn.functional.mse_loss(predicted, y)\n",
    "loss.backward()\n",
    "optimizer.step()\n",
    "    "
   ]
  },
  {
   "cell_type": "markdown",
   "metadata": {},
   "source": [
    "#  Pure half-Precision"
   ]
  },
  {
   "cell_type": "code",
   "execution_count": 7,
   "metadata": {
    "collapsed": true
   },
   "outputs": [],
   "source": [
    "X = torch.randn(N, t_in).cuda().half()\n",
    "y = torch.randn(N, t_out).cuda().half()\n",
    "model = torch.nn.Linear(in_features=t_in, out_features=t_out).cuda().half()"
   ]
  },
  {
   "cell_type": "code",
   "execution_count": 8,
   "metadata": {},
   "outputs": [
    {
     "name": "stdout",
     "output_type": "stream",
     "text": [
      "CPU times: user 0 ns, sys: 0 ns, total: 0 ns\n",
      "Wall time: 10.7 µs\n"
     ]
    }
   ],
   "source": [
    "%time\n",
    "optimizer.zero_grad()\n",
    "predicted = model(X)\n",
    "loss = torch.nn.functional.mse_loss(predicted, y)\n",
    "loss.backward()\n",
    "optimizer.step()"
   ]
  },
  {
   "cell_type": "markdown",
   "metadata": {},
   "source": [
    "# Mixed precision"
   ]
  },
  {
   "cell_type": "markdown",
   "metadata": {},
   "source": [
    "# master weight"
   ]
  },
  {
   "cell_type": "code",
   "execution_count": 9,
   "metadata": {
    "collapsed": true
   },
   "outputs": [],
   "source": [
    "def pre_param_list(model:torch.nn.Module):\n",
    "    model_params = [p for p in model.parameters() if p.requires_grad]\n",
    "    master_params = [p.detach().clone().float() for p  in model.parameters()]\n",
    "    for p in model_params:\n",
    "        p.requires_grad = True\n",
    "    \n",
    "    return model_params, master_params"
   ]
  },
  {
   "cell_type": "markdown",
   "metadata": {},
   "source": [
    "## weight sync"
   ]
  },
  {
   "cell_type": "code",
   "execution_count": 10,
   "metadata": {
    "collapsed": true
   },
   "outputs": [],
   "source": [
    "def master_param_to_model_param(model_param, master_param):\n",
    "    for model, master in zip(model_param, master_param):\n",
    "        model.data.copy_(master.data)\n",
    "        "
   ]
  },
  {
   "cell_type": "code",
   "execution_count": 11,
   "metadata": {
    "collapsed": true
   },
   "outputs": [],
   "source": [
    "X = torch.randn(N, t_in).cuda().half()\n",
    "y = torch.randn(N, t_out).cuda().half()\n",
    "model = torch.nn.Linear(in_features=t_in, out_features=t_out).cuda().half()"
   ]
  },
  {
   "cell_type": "code",
   "execution_count": 12,
   "metadata": {
    "collapsed": true
   },
   "outputs": [],
   "source": [
    "model_params, master_params = pre_param_list(model)"
   ]
  },
  {
   "cell_type": "code",
   "execution_count": 13,
   "metadata": {
    "collapsed": true
   },
   "outputs": [],
   "source": [
    "def model_grad_to_master_grad(model_param, master_param):\n",
    "    for model, master in zip(model_param, master_param):\n",
    "        if master.grad is None:\n",
    "            master.grad = torch.autograd.Variable(master.data.new(*master.data.size()))\n",
    "    master.grad.data.copy_(model.grad.data)"
   ]
  },
  {
   "cell_type": "code",
   "execution_count": null,
   "metadata": {
    "collapsed": true
   },
   "outputs": [],
   "source": [
    "model_params, master_params = pre_param_list(model)\n",
    "optimizer = torch.optim.Adam(master_params, lr=0.001)\n",
    "scale_factor  =128"
   ]
  },
  {
   "cell_type": "code",
   "execution_count": 15,
   "metadata": {},
   "outputs": [
    {
     "name": "stdout",
     "output_type": "stream",
     "text": [
      "CPU times: user 0 ns, sys: 0 ns, total: 0 ns\n",
      "Wall time: 5.72 µs\n"
     ]
    }
   ],
   "source": [
    "%time\n",
    "optimizer.zero_grad()\n",
    "predicted = model(X)\n",
    "loss = torch.nn.functional.mse_loss(predicted, y)\n",
    "scaled_loss = loss.float() * scale_factor\n",
    "scaled_loss.backward()\n",
    "model_grad_to_master_grad(model_params, master_params)\n",
    "for p in master_params:\n",
    "    p.grad.data.mul_(1/scaled_loss)\n",
    "optimizer.step()\n",
    "master_param_to_model_param(model_params, master_params)"
   ]
  },
  {
   "cell_type": "code",
   "execution_count": null,
   "metadata": {
    "collapsed": true
   },
   "outputs": [],
   "source": []
  }
 ],
 "metadata": {
  "kernelspec": {
   "display_name": "Python 3",
   "language": "python",
   "name": "python3"
  },
  "language_info": {
   "codemirror_mode": {
    "name": "ipython",
    "version": 3
   },
   "file_extension": ".py",
   "mimetype": "text/x-python",
   "name": "python",
   "nbconvert_exporter": "python",
   "pygments_lexer": "ipython3",
   "version": "3.6.8"
  }
 },
 "nbformat": 4,
 "nbformat_minor": 2
}
