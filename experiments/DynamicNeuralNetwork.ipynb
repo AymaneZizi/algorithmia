{
 "cells": [
  {
   "cell_type": "markdown",
   "metadata": {},
   "source": [
    "This is a demonstration of how neural networks can be used for to replace the dynamic programming for beam search"
   ]
  },
  {
   "cell_type": "markdown",
   "metadata": {},
   "source": [
    "Importing Requirements"
   ]
  },
  {
   "cell_type": "code",
   "execution_count": 1,
   "metadata": {},
   "outputs": [],
   "source": [
    "import random\n",
    "import numpy as np\n",
    "import torch\n",
    "from math import log\n",
    "from numpy import array\n",
    "from numpy import argmax\n",
    "import torch.nn.functional as F\n",
    "import  matplotlib.pyplot as plt\n",
    "import numpy as np"
   ]
  },
  {
   "cell_type": "markdown",
   "metadata": {},
   "source": [
    "Beam search by dynamic algorithm to get truth value"
   ]
  },
  {
   "cell_type": "code",
   "execution_count": 2,
   "metadata": {},
   "outputs": [],
   "source": [
    "def beam_search_decoder(data, k):\n",
    "    path =[[list(), 1.0]]\n",
    "    for row in range(len(data)):\n",
    "        selected_path = []\n",
    "        index_score = []\n",
    "        for i in path:\n",
    "            sequence, score = i\n",
    "            for j in range(len(data[row])):\n",
    "                index_score.append([sequence+[j],score * -log(data[row][j])])\n",
    "            selected_path.append(index_score)\n",
    "        sorted_index_score = sorted(index_score, key= lambda tup : tup[1])\n",
    "        path = sorted_index_score[:k]\n",
    "    return path"
   ]
  },
  {
   "cell_type": "markdown",
   "metadata": {},
   "source": [
    "To one hot truth value"
   ]
  },
  {
   "cell_type": "code",
   "execution_count": 3,
   "metadata": {},
   "outputs": [],
   "source": [
    "def to_one_hot(array):\n",
    "    one_hot_array = np.zeros([10,10])\n",
    "    for i, n in enumerate(array):\n",
    "        one_hot_array[i][n] = 1 \n",
    "    return one_hot_array"
   ]
  },
  {
   "cell_type": "markdown",
   "metadata": {},
   "source": [
    "Get the data and truth value"
   ]
  },
  {
   "cell_type": "code",
   "execution_count": 4,
   "metadata": {},
   "outputs": [],
   "source": [
    "def get_data():\n",
    "    data = np.random.rand(10,10)\n",
    "    data = array(data)\n",
    "    result = beam_search_decoder(data, 1)\n",
    "    return torch.Tensor(data), torch.Tensor(to_one_hot(result[0][0]))"
   ]
  },
  {
   "cell_type": "markdown",
   "metadata": {},
   "source": [
    "Defining neural network "
   ]
  },
  {
   "cell_type": "code",
   "execution_count": 5,
   "metadata": {},
   "outputs": [],
   "source": [
    "class nn_dynamic(torch.nn.Module):\n",
    "    def __init__(self):\n",
    "        super(nn_dynamic,self).__init__()\n",
    "        self.cnnGRU = torch.nn.GRU(10,100,1)\n",
    "        self.dense = torch.nn.Linear(100, 10)\n",
    "    def forward(self,input):\n",
    "        input = input.view(1, 10,10)\n",
    "        GRU_out = self.cnnGRU(torch.Tensor(input))[0]\n",
    "        GRU_out = F.relu(GRU_out)\n",
    "        GRU_out= GRU_out.view(10,100)\n",
    "        out = self.dense(GRU_out)\n",
    "        out = F.relu(out)\n",
    "        return torch.softmax(out,1)"
   ]
  },
  {
   "cell_type": "code",
   "execution_count": 6,
   "metadata": {},
   "outputs": [],
   "source": [
    "nnd = nn_dynamic()"
   ]
  },
  {
   "cell_type": "markdown",
   "metadata": {},
   "source": [
    "Defining loss and optimizer"
   ]
  },
  {
   "cell_type": "code",
   "execution_count": 9,
   "metadata": {},
   "outputs": [],
   "source": [
    "criteria = torch.nn.BCELoss()\n",
    "optimizer = torch.optim.SGD(nnd.parameters(), lr=0.1, momentum=0.9)"
   ]
  },
  {
   "cell_type": "markdown",
   "metadata": {},
   "source": [
    "Running Training"
   ]
  },
  {
   "cell_type": "code",
   "execution_count": 10,
   "metadata": {},
   "outputs": [],
   "source": [
    "loss_accumlator = []\n",
    "for i in range(10000):\n",
    "    data, truth = get_data()\n",
    "    optimizer.zero_grad()\n",
    "    predicted = nnd(data)\n",
    "    loss = criteria(predicted, truth)\n",
    "    loss_accumlator.append(loss.item())\n",
    "    loss.backward()\n",
    "    optimizer.step()"
   ]
  },
  {
   "cell_type": "markdown",
   "metadata": {},
   "source": [
    "Plotting loss"
   ]
  },
  {
   "cell_type": "code",
   "execution_count": 11,
   "metadata": {},
   "outputs": [
    {
     "data": {
      "text/plain": [
       "[<matplotlib.lines.Line2D at 0x7fdd9e3d9bd0>]"
      ]
     },
     "execution_count": 11,
     "metadata": {},
     "output_type": "execute_result"
    },
    {
     "data": {
      "image/png": "[encoded data removed]",
      "text/plain": [
       "<Figure size 432x288 with 1 Axes>"
      ]
     },
     "metadata": {
      "needs_background": "light"
     },
     "output_type": "display_data"
    }
   ],
   "source": [
    "plt.plot(loss_accumlator)"
   ]
  },
  {
   "cell_type": "code",
   "execution_count": null,
   "metadata": {},
   "outputs": [],
   "source": []
  }
 ],
 "metadata": {
  "kernelspec": {
   "display_name": "Python 2",
   "language": "python",
   "name": "python2"
  },
  "language_info": {
   "codemirror_mode": {
    "name": "ipython",
    "version": 2
   },
   "file_extension": ".py",
   "mimetype": "text/x-python",
   "name": "python",
   "nbconvert_exporter": "python",
   "pygments_lexer": "ipython2",
   "version": "2.7.15"
  }
 },
 "nbformat": 4,
 "nbformat_minor": 2
}
