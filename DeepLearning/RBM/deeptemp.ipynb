{
 "cells": [
  {
   "cell_type": "code",
   "execution_count": 2,
   "metadata": {
    "collapsed": true
   },
   "outputs": [],
   "source": [
    "import numpy as np\n",
    "from sklearn import datasets\n",
    "import matplotlib.pyplot as plt\n",
    "%matplotlib inline"
   ]
  },
  {
   "cell_type": "code",
   "execution_count": 3,
   "metadata": {},
   "outputs": [],
   "source": [
    "class RBM:\n",
    "    def __init__(self, learning_rate=0.1):\n",
    "        self.ministData = self.getMinistData()\n",
    "        self.numHidden = 10\n",
    "        self.numVisible = self.ministData.shape[1] # 64\n",
    "        self.learningRate = 0.5\n",
    "        np.random.seed(123)\n",
    "\n",
    "        # Initialize a weight matrix, of dimensions (num_visible x num_hidden), using\n",
    "        # a Gaussian distribution with mean 0 and standard deviation 0.1.\n",
    "        self.weights = 0.1 * np.random.randn(self.numVisible, self.numHidden)\n",
    "        # Insert weights for the bias units into the first row and first column.\n",
    "        self.visibleNodeBias = np.ones(self.numVisible, dtype=float)\n",
    "        self.hiddenNodeBias = np.ones(self.numHidden, dtype=float)\n",
    "        self.middlelayer = 100\n",
    "        self.middlelayerBias = np.ones(self.middlelayer, dtype=float)\n",
    "\n",
    "\n",
    "    def activation_logistic(self, x):\n",
    "        return 1.0 / (1 + np.exp(-x))\n",
    "\n",
    "    def rmse(self, predictions, targets):\n",
    "        return np.sqrt(((predictions - targets) ** 2).mean())\n",
    "\n",
    "    def train(self, data,epochs):\n",
    "        \"\"\"\n",
    "        to train RBM as per Hinton's \"A Practical Guide to Training Restricted Boltzmann Machines\"\n",
    "        :param data: \n",
    "        :return: stores weights in RBM object\n",
    "        \"\"\"\n",
    "\n",
    "        for epoch in range(epochs):\n",
    "            numberOfData = data.shape[0]\n",
    "            # forward phase\n",
    "            positiveHiddenProbability = self.activation_logistic(np.dot(data, self.weights) + self.hiddenNodeBias)\n",
    "            positiveHiddenStates = positiveHiddenProbability > np.random.rand(numberOfData, self.numHidden)\n",
    "            \n",
    "            \n",
    "            \n",
    "\n",
    "\n",
    "            # reconstruction phase\n",
    "            # 1) Generating reconstructed data\n",
    "            reconstructedData = self.activation_logistic(\n",
    "                np.dot(positiveHiddenStates, self.weights.T) + self.visibleNodeBias)\n",
    "\n",
    "            # 2) Generating reconstructed output\n",
    "            reconstructedOutput = self.activation_logistic(\n",
    "                np.dot(reconstructedData, self.weights) + self.hiddenNodeBias)\n",
    "\n",
    "            # 3) calculating positive Association and negative Association\n",
    "            # 3.A)  positive Association = <Vi * Hj> original\n",
    "            positiveAssociation = np.dot(data.T, positiveHiddenProbability)\n",
    "            # 3.B)  negative Association = <Vi * Hj> reconstructed\n",
    "            negativeAssociation = np.dot(reconstructedData.T, reconstructedOutput)\n",
    "\n",
    "            # 4) weight change\n",
    "            changeInWeight = self.learningRate * ((positiveAssociation - negativeAssociation) / numberOfData)\n",
    "            self.weights += 1.2 * changeInWeight\n",
    "\n",
    "            error = np.sum((data - reconstructedData) ** 2)\n",
    "            # print(\" %s\" % (error))\n",
    "\n",
    "    def getHidden(self, data):\n",
    "        \"\"\"\n",
    "\n",
    "        :param data: \n",
    "        :return: \n",
    "        \"\"\"\n",
    "        numberofSample = data.shape[0]\n",
    "        output = self.activation_logistic(np.dot(data, self.weights) + self.hiddenNodeBias)\n",
    "        outputStates = output > np.random.rand(numberofSample, self.numHidden)\n",
    "        print (outputStates)\n",
    "\n",
    "    def getVisible(self, data):\n",
    "        \"\"\"\n",
    "\n",
    "        :param data: \n",
    "        :return: \n",
    "        \"\"\"\n",
    "        numberofSample = data.shape[0]\n",
    "        reconstructedData = self.activation_logistic(np.dot(data, self.weights.T) + self.visibleNodeBias)\n",
    "        data = reconstructedData > np.random.rand(numberofSample, self.numVisible)\n",
    "        print data\n",
    "\n",
    "    def dreaming(self, numberOfTimes):\n",
    "        \"\"\"\n",
    "        :return: \n",
    "        \"\"\"\n",
    "        samples = np.ones((numberOfTimes, self.numVisible))\n",
    "        sample = samples[0]\n",
    "        for sampleno in range(numberOfTimes):\n",
    "            # forward pass\n",
    "            positiveHiddenProbability = self.activation_logistic(np.dot(sample, self.weights) + self.hiddenNodeBias)\n",
    "            positiveHiddenStates = positiveHiddenProbability > np.random.rand(1, self.numHidden)\n",
    "\n",
    "            # reconstruction phase\n",
    "            # 1) Generating reconstructed data\n",
    "            reconstructedData = self.activation_logistic(\n",
    "                np.dot(positiveHiddenStates, self.weights.T) + self.visibleNodeBias)\n",
    "\n",
    "            reconstructedStates = reconstructedData > np.random.rand(self.numVisible)\n",
    "            # print reconstructedStates\n",
    "            sample = reconstructedStates\n",
    "            samples[sampleno] = reconstructedStates\n",
    "        return samples\n",
    "    def getMinistData(self):\n",
    "        digits = datasets.load_digits()\n",
    "        flatten = []\n",
    "        for eachDigit in digits['images']:\n",
    "            temp = []\n",
    "            for eachrow in eachDigit:\n",
    "                temp.extend(eachrow)\n",
    "            flatten.append(temp)\n",
    "        return np.asarray(flatten,dtype='int8')"
   ]
  },
  {
   "cell_type": "code",
   "execution_count": 6,
   "metadata": {
    "collapsed": false
   },
   "outputs": [
    {
     "data": {
      "image/png": "[encoded data removed]",
      "text/plain": [
       "<matplotlib.figure.Figure at 0x7f0ec1a40bd0>"
      ]
     },
     "metadata": {},
     "output_type": "display_data"
    },
    {
     "data": {
      "image/png": "[encoded data removed]",
      "text/plain": [
       "<matplotlib.figure.Figure at 0x7f0ec1a98310>"
      ]
     },
     "metadata": {},
     "output_type": "display_data"
    },
    {
     "data": {
      "image/png": "[encoded data removed]",
      "text/plain": [
       "<matplotlib.figure.Figure at 0x7f0ec196b510>"
      ]
     },
     "metadata": {},
     "output_type": "display_data"
    },
    {
     "data": {
      "image/png": "[encoded data removed]",
      "text/plain": [
       "<matplotlib.figure.Figure at 0x7f0ec191d190>"
      ]
     },
     "metadata": {},
     "output_type": "display_data"
    },
    {
     "data": {
      "image/png": "[encoded data removed]",
      "text/plain": [
       "<matplotlib.figure.Figure at 0x7f0ec1ad3e10>"
      ]
     },
     "metadata": {},
     "output_type": "display_data"
    },
    {
     "data": {
      "image/png": "[encoded data removed]",
      "text/plain": [
       "<matplotlib.figure.Figure at 0x7f0ec1dac090>"
      ]
     },
     "metadata": {},
     "output_type": "display_data"
    },
    {
     "data": {
      "image/png": "[encoded data removed]",
      "text/plain": [
       "<matplotlib.figure.Figure at 0x7f0ec1ba9910>"
      ]
     },
     "metadata": {},
     "output_type": "display_data"
    },
    {
     "data": {
      "image/png": "[encoded data removed]",
      "text/plain": [
       "<matplotlib.figure.Figure at 0x7f0ec3ff6b90>"
      ]
     },
     "metadata": {},
     "output_type": "display_data"
    },
    {
     "data": {
      "image/png": "[encoded data removed]",
      "text/plain": [
       "<matplotlib.figure.Figure at 0x7f0ec1c98690>"
      ]
     },
     "metadata": {},
     "output_type": "display_data"
    },
    {
     "data": {
      "image/png": "[encoded data removed]",
      "text/plain": [
       "<matplotlib.figure.Figure at 0x7f0ec1829d50>"
      ]
     },
     "metadata": {},
     "output_type": "display_data"
    }
   ],
   "source": [
    "if __name__ == '__main__':\n",
    "    r = RBM(learning_rate=0.5)\n",
    "    training_data = r.ministData\n",
    "    r.train(training_data,epochs = 5000)\n",
    "    # # print r.weights\n",
    "    # # user = np.array([[0, 0, 0, 1, 1, 0]])\n",
    "    # # r.getHidden(user)\n",
    "    # # user = np.array([[1, 0]])\n",
    "    # # r.getVisible(user)\n",
    "    dream =  r.dreaming(10)\n",
    "    for deamNo in range(len(dream)):\n",
    "        temp = dream[deamNo]\n",
    "        temp = np.reshape(np.asarray(temp),(8,8))\n",
    "    \n",
    "        fig = plt.figure(frameon=False)\n",
    "        # setting image size\n",
    "        fig.set_size_inches(3, 3)\n",
    "        # setting image axis to off (not to show axis)\n",
    "        ax = plt.Axes(fig, [0., 0., 1., 1.])\n",
    "        ax.set_axis_off()\n",
    "        fig.add_axes(ax)\n",
    "        # creating columns inside html\n",
    "        plt.axis('off')\n",
    "        ax.imshow(temp.squeeze(), interpolation='nearest', aspect='normal')# ,interpolation='nearest'\n",
    "        plt.savefig(str(deamNo)+\".jpg\")"
   ]
  },
  {
   "cell_type": "code",
   "execution_count": 3,
   "metadata": {},
   "outputs": [],
   "source": [
    ""
   ]
  },
  {
   "cell_type": "code",
   "execution_count": null,
   "metadata": {},
   "outputs": [],
   "source": [
    ""
   ]
  }
 ],
 "metadata": {
  "kernelspec": {
   "display_name": "Python 2",
   "language": "python",
   "name": "python2"
  },
  "language_info": {
   "codemirror_mode": {
    "name": "ipython",
    "version": 2.0
   },
   "file_extension": ".py",
   "mimetype": "text/x-python",
   "name": "python",
   "nbconvert_exporter": "python",
   "pygments_lexer": "ipython2",
   "version": "2.7.6"
  }
 },
 "nbformat": 4,
 "nbformat_minor": 0
}