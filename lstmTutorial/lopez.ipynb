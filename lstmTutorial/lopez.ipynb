{
 "cells": [
  {
   "cell_type": "code",
   "execution_count": 84,
   "metadata": {
    "collapsed": false
   },
   "outputs": [],
   "source": [
    "\n",
    "import keras.preprocessing.text\n",
    "import numpy as np\n",
    "\n",
    "np.random.seed(1337)  # for reproducibility\n",
    "\n",
    "from keras.preprocessing import sequence\n",
    "from keras.models import Sequential\n",
    "from keras.layers.core import Dense, Activation\n",
    "from keras.layers.embeddings import Embedding\n",
    "from keras.layers.recurrent import LSTM"
   ]
  },
  {
   "cell_type": "code",
   "execution_count": 85,
   "metadata": {
    "collapsed": false,
    "scrolled": true
   },
   "outputs": [
    {
     "name": "stdout",
     "output_type": "stream",
     "text": [
      "Loading data...\n"
     ]
    }
   ],
   "source": [
    "print('Loading data...')\n",
    "import pandas\n",
    "\n",
    "thedata = pandas.read_csv(\"xaa\", sep=', ', delimiter='\\t', header='infer', names=None)"
   ]
  },
  {
   "cell_type": "code",
   "execution_count": 86,
   "metadata": {
    "collapsed": false
   },
   "outputs": [],
   "source": [
    "x = thedata['review']\n",
    "y = thedata['sentiment']"
   ]
  },
  {
   "cell_type": "code",
   "execution_count": 87,
   "metadata": {
    "collapsed": false
   },
   "outputs": [],
   "source": [
    "x = x.loc[:].values\n",
    "X_train = x[:50]\n",
    "X_test = x[51:]\n",
    "y = y.loc[:].values\n",
    "Y_train = y[:50]\n",
    "Y_test = y[51:]"
   ]
  },
  {
   "cell_type": "code",
   "execution_count": 88,
   "metadata": {
    "collapsed": false
   },
   "outputs": [
    {
     "data": {
      "text/plain": [
       "array([ 'Though it had the misfortune to hit the festival circuit here in Austin (SXSW Film) just as we were getting tired of things like Shakespeare in Love, and Elizabeth, this movie deserves an audience. An inside look at the staging of \\\\The Scottish Play\\\\\" as actors call \\\\\"Macbeth\\\\\" when producing it to avoid the curse, this is a crisp, efficient and stylish treatment of the treachery which befalls the troupe. With a wonderfully evocative score, and looking and sounding far better than its small budget would suggest, this is a quiet gem, not world-class, but totally satisfying.\"',\n",
       "       \"Yikes. This is pretty bad. The play isn't great to begin with, and the decision to transfer it to film does it no favours - especially as Peploe doesn't decide how she wants to treat the material's theatrical origins (we get occasional glances of an observing theatre audience etc.) and has decided to go with a jumpy editing style that is intended to keep reminding you that you're watching a film, whereas in fact it only serves to remind you that you are watching a very poor film by a director who is overwhelmed by her material. Mira Sorvino's central performance is breath-takingly poor: stage-y and plummy, it's as if she's playing the part via Helena Bonham-Carter's Merchant Ivory oeuvre. Only Fiona Shaw delivers a performance of note - and it may be that her theatrical pedigree means that she is best able to handle the material - but it's hard to watch a film for one performance alone, even if that performance is as light, truthful and entire as Shaw's. Ben Kingsley turns in an average and disengaged turn, and Diana Rigg's daughter, Rachel Stirling plays her supporting role as just that. Sadly, none of Bertolucci's magic has rubbed off on his wife if this film is to be the evidence.\",\n",
       "       'Last week, I took a look at the weekly Nielsen ratings, and there was Veronica Mars, supposedly \\\\the best show you\\'re not watching\\\\\".<br /><br />Well, they\\'re right that you\\'re not watching it. It aired twice and was ranked 147 and 145 out of 147.<br /><br />Translation: this is the lowest-rated show on any nationally broadcast network... and deservedly so. I tried to watch it a couple of times because of all the press coverage hyping it as a \\\\\"great\\\\\" show, a \\\\\"realistic look\\\\\" at life and all such nonsense. The reality was otherwise. Veronica Mars is a bore. It\\'s as unrealistic as it gets, and it richly deserves to be canceled.<br /><br />The only Mystery is why CW felt compelled to put on its inaugural schedule the lowest-rated show in memory, after two years of continued commercial and artistic failure.\"',\n",
       "       \"<br /><br />What an absolutely crappy film this is. How or why this movie was made and what the hell Billy Bob Thornton and Charlize Theron were doing signing up for this mediocre waste of time is beyond me. Strong advise for anyone sitting down to catch a flick: DO NOT waste your time on this 'film'.\",\n",
       "       'Elizabeth Ward Gracen, who will probably only be remembered as one of Bill Clinton\\'s \\\\bimbo eruptions\\\\\" (they have pills for that now!) is probably the weakest element of this show. It really continues the tired formula of the Highlander Series- The hero immortal encounters another immortal with flashbacks about the last time they met, but there is some conflict, and there is a sword fight at the end where you have a cheap special effects sequence.<br /><br />Then you have the character of Nick Wolf. Basically, your typical unshaven 90\\'s hero, with the typical \\\\\"Sexual tension\\\\\" storyline. (Seriously, why do you Hollywood types think sexual tension is more interesting than sex.) This was a joint Canadian/French production, so half the series takes place in Vancouver imitating New York, and the other half is in Paris... Just like Highlander did.\"',\n",
       "       \"'They All Laughed' is a superb Peter Bogdanovich that is finally getting the recognition it deserves, and why? their are many reasons the fact that it's set in new york which truly sets the tone, the fantastic soundtrack, the appealing star turns from Ben Gazzara, and the late John Ritter who is superb. and of course no classic is complete without Audrey Hepburn. the film is a light and breezy romantic comedy that is very much in the vein of screwball comedy from the thirties, film is essentially about the Odyssey detective agency which is run by Gazzara who with his fellow detectives pot smoking and roller skating eccentric Blaine Novak(the films co-producer) and John Ritter, basically the Gazzara falls for a rich tycoon magnate's wife(Hepburn) and Ritter falls for beautiful Dorothy Stratten who sadly murdered infamously after production, 'They All Laughed is essential viewing for Bogdanovich fans.\",\n",
       "       'What a stunning episode for this fine series. This is television excellence at its best. The story takes place in 1968 and it\\'s beautifully filmed in black & white, almost a film noir style with its deep shadows and stark images. This is a story about two men who fall in love, but I don\\'t want to spoil this. It is a rare presentation of what homosexuals faced in the 1960s in America. Written by the superb Tom Pettit, and directed by the great Jeannot Szwarc, we move through their lives, their love for each other, and their tragedy. Taking on such a sensitive issue makes this episode all the more stunning. Our emotions are as torn and on edge as the characters. Chills ran up my spine at the end when they played Bob Dylan\\'s gorgeous, \\\\Ah, but I was so much older then, I\\'m younger than that now,\\\\\" as sung by the Byrds. This one goes far past a 10 and all the way to the stars. Beautiful.\"',\n",
       "       \"This movie was o.k. but it could have been much better. There are some spooky moments but there aren't enough of them to make me ever want to see this movie again. There are some scenes you could fast forward through & not miss anything. The biggest flaw is that it is so predictable, & that is the reason why I rated it so low. It's watchable but don't expect anything great.\",\n",
       "       'As I understand it, after the Chinese took over Hong Kong, the infamous Cat. 3 Hong Kong movies kind of disappeared. At least until now, and what an amazing movie this one is. I knew it was a rough crime drama going in, but being the first Cat. 3 I\\'ve purchased that\\'s been made recently, I wasn\\'t sure what to expect.<br /><br />A Cambodian hit-man goes to Hong Kong to knock off the wife of a judge, who is also a lawyer. Turns out, the Judge made the arrangements for the hit-man, because she was divorcing the judge, and threatening to take all his money. This is all known within the first ten minutes, so nothing is being given away. After the hit, the cops locate the hit-man pretty fast, but in trying to arrest him, several police officers and civilians are killed. He eludes the police and now the race is on to catch the guy, before he escapes back to Cambodia. This is a movie that never stops, and hardly gives the viewer a chance to catch their breath. Yes, it is very violent and intense, many cops are killed, as the hit-man proves very very hard to track, and take down when they do locate him. Along the way, the hit-man in trying to hide in a dump, finds a women being raped and mistreated by some man. He helps her, and saves her from the guy, and she persuades the hit-man to take her along with him in his escape. I loved this movie, it\\'s like a roller-coaster that just keeps moving and moving at high speed, as one incident leads to another, and the police at times are just as bad or worse as the hit-man. The acting is exceptionally good, and the location filming and photography is at time breathtaking. There\\'s no let up in this movie, not even with the very very incredible ending. The ending is pretty much unbelievable, and also a fitting end to all the action and violence. Yes, the violence is brutal at times, but this is a very no nonsense crime drama, that will knock your socks off. \\\\Dog Eat Dog\\\\\" definitely needs a more widespread release, including an R1 release for sure. Great movie, highly recommended.\"',\n",
       "       'Yes, this IS a horror anthology film and it was a lot of fun! That\\'s because although the film clearly was horror, some of the stories had a light spirit--and there were even occasionally a few laughs. This isn\\'t at all a bad thing as sometimes horror films are a bit stuffy and overly serious. Because of this and because all four of the stories were pretty good, it\\'s one of the better movies of this style I have seen.<br /><br />The unifying theme that connects each story is the house itself. Four different stories involve people who either rent the home or investigate what happened to the tenants.<br /><br />The first segment starred Denholm Elliott as a horror writer who has writer\\'s block. So, for a change of scenery, they rent this house. Almost immediately Elliott\\'s block vanishes and he works steadily on a tale about a serial killer. Amazingly, soon after his block vanishes he begins to actually see his fictional character! Again and again, the psychotic killer appears and then disappears--making it seem as if he is losing his mind. This might just be the best of the stories, as the nice twist ending makes the story come alive.<br /><br />The second, while not bad at all, is probably the weakest. Peter Cushing plays a bachelor who is pining for a girl friend who died some time ago (though the picture of her looked amazingly contemporary). When he enters a chamber of horrors wax museum in town, he sees a wax figure that reminds him of his lost lady and he is both fascinated and scared by this. Later, a friend (Joss Ackland) visits and he, too, sees the figure and is entranced by it. This all leads to an ending that, frankly, was a bit of a letdown.<br /><br />Christopher Lee then stars as an incredibly harsh and stern father to a pathetic little girl. During most of this segment, Lee seemed like an idiot, but in the end you can understand his demeanor. Though slow, this one ended very well.<br /><br />The fourth segment was the silliest and was meant to parody the genre. Jon Pertwee (the third \\\\Doctor\\\\\" from the DR. WHO television series) is a very temperamental actor known for his portrayals of Dracula. However, nothing is right about the film according to him and in a fit of pique, he stomps off the set to find better props for this vampire film. It\\'s actually pretty interesting that he played this role, as it seemed like a natural for Christopher Lee who played Dracula or other vampires a bazillion times (give or take a few). I enjoyed Pertwee\\'s line when he basically said that Lee\\'s and other recent incarnations of Dracula were all crap compared to Bela Lugosi\\'s! Perhaps this is why Lee didn\\'t take this part! Despite some very silly moments, it was very entertaining and fun--possibly as good or better than the first segment.<br /><br />Considering that the film started and ended so well, had excellent acting and writing, it\\'s hard not to like this film.\"',\n",
       "       \"A charming boy and his mother move to a middle of nowhere town, cats and death soon follow them. That about sums it up.<br /><br />I'll admit that I am a little freaked out by cats after seeing this movie. But in all seriousness in spite of the numerous things that are wrong with this film, and believe me there is plenty of that to go around, it is overall a very enjoyable viewing experience.<br /><br />The characters are more like caricatures here with only their basis instincts to rely on. Fear, greed, pride lust or anger seems to be all that motivate these people. Although it can be argued that that seeming failing, in actuality, serves the telling of the story. The supernatural premise and the fact that it is a Stephen King screenplay(not that I have anything specific against Mr. King) are quite nicely supported by some interesting FX work, makeup and quite suitable music. The absolute gem of this film is without a doubt Alice Krige who plays Mary Brady, the otherworldly mother.<br /><br />King manages to take a simple story of outsider, or people who are a little different(okay - a lot in this case), trying to fit in and twists it into a campy over the top little horror gem that has to be in the collection of any horror fan.\",\n",
       "       'I rented this movie because it falls under the genres of \\\\romance\\\\\" and \\\\\"western\\\\\" with some Grand Canyon scenery thrown in. But if you\\'re expecting a typical wholesome romantic western, forget it. This movie is pure trash! The romance is between a YOUNG GIRL who has not even gone through puberty and a MIDDLE-AGED MAN! The child is also lusted after by other leering men. It\\'s sickening.<br /><br />Peter Fonda is portrayed as being virtuous by trying to resist his attraction to Brooke Shields, and her character is mostly the one that pursues the relationship. He tries to shoo her off at first but eventually he gives in and they drive off as a happy, loving couple. It\\'s revolting.<br /><br />I don\\'t see how this movie could appeal to anyone except pedophiles.\"',\n",
       "       'I first saw this film as a teenager. It was at a time when heavy metal ruled the world. Trick Or Treat has every element for a movie that rocks. With a cast that features Skippy from Family Ties, Gene Simmons of Kiss and Ozzy Osbourne as a Preacher, how can you go wrong? Backwards evil messages played on vinyl! Yes thats right, they use records in this movie. In one scene Eddie (Skippy) is listening to a message from the evil rockstar on his record player when things begin to get scary. Monsters start to come out of his speakers and his stereo becomes possessed. As a teenager I tried playing my records backwards hoping it would happen to mine. Almost 20 years later Trick Or Treat is still one of my all time favorite movies.',\n",
       "       'IT IS So Sad. Even though this was shot with film i think it stinks a little bit more than flicks like Blood Lake, There\\'s Nothing Out There & . The music they play in this is the funniest stuff i\\'ve ever heard. i like the brother and sister in this movie. They both don\\'t try very hard to sound sarcastic when they\\'re saying stuff like \\\\My friends are going to be so jealous!\\\\\" Hey, whats with the killer only wearing his mask in the beginning? Thats retarded! I practically ignored the second half of this. My favorite part about this movie is the sound effect they use when the killer is using the axe. The same exact sound for every chop!\"',\n",
       "       \"A somewhat dull made for tv movie which premiered on the TBS cable station. Antonio and Janine run around chasing a killer computer virus and...that's about it. For trivia buffs this will be noted as debuting the same weekend that the real life 'Melissa' virus also made it's debut in e-mail inboxes across the world.\",\n",
       "       'WARNING: POSSIBLE SPOILERS (but not really - keep reading). Ahhh, there are so many reasons to become utterly addicted to this spoof gem that I won\\'t have room to list them all. The opening credits set the playful scene with kitsch late 1950s cartoon stills; an enchanting Peres \\'Prez\\' Prado mambo theme which appears to be curiously uncredited (but his grunts are unmistakable, and no-one else did them); and with familiar cast names, including Kathy Najimi a full year before she hit with Sister Acts 1 & 2 plus Teri Hatcher from TV\\'s Superman.<br /><br />Every scene is imbued with shallow injustices flung at various actors, actresses and producers in daytime TV. Peeking behind the careers of these people is all just an excuse for an old-fashioned, delicious farce. Robert Harling penned this riotous spoof that plays like an issue of MAD Magazine, but feels like a gift to us in the audience. Some of the cliched characters are a bit dim, but everyone is drizzling with high jealousy, especially against Celeste Talbert (Sally Field) who is the show\\'s perennial award-winning lead, nicknamed \\\\America\\'s Sweetheart\\\\\". The daytime Emmies-like awards opening does introduce us to Celeste\\'s show, The Sun Also Sets. Against all vain fears to the contrary, Celeste wins again. She is overjoyed, because it\\'s always \\\\\"such a genuine thrill\\\\\": \\\\\"Adam, did you watch? I won! Well, nguh...\\\\\" The reason for Adam\\'s absence soon becomes the justification for the entire plot, and we\\'re instantly off on a trip with Celeste\\'s neuroses. She cries, screeches, and wrings her hands though the rest of the movie while her dresser Tawnee (Kathy Najimi, constantly waddling after Celeste, unseen through Celeste\\'s fog of paranoia) indulges a taste for Tammy Faye Baker, for which Tawnee had been in fact specifically hired.<br /><br />Rosie Schwartz (Whoopi Goldberg) has seen it all before. She is the head writer of the show, and she and Celeste have been excellent support networks to each other for 15 years. So when Celeste freaks, Rosie offers to write her off the show for six months: \\\\\"We\\'ll just say that Maggie went to visit with the Dalai Lama.\\\\\" But Celeste has doubts: \\\\\"I thought that the Dalai Lama moved to LA.\\\\\" \\\\\"-Well, then, some other lama, Fernando Lamas, come on!\\\\\". Such a skewering line must be rather affronting to still living beefcake actor Lorenzo Lamas, son of aforementioned Fernando Lamas (d. 1982).<br /><br />Those who can remember the economics teacher (Ben Stein) in Ferris Bueller\\'s Day Off (1986) as he deadeningly calls the roll (\\\\\"Bueller. Bueller. Bueller\\\\\"), will take secret pleasure from seeing him again as a nitwit writer. Other well hidden member of the cast include Garry Marshall (in real life Mr Happy Days and brother of Penny), who \\\\\"gets paid $1.2 million to make the command decisions\\\\\" on The Sun Also Sets - he says he definitely likes \\\\\"peppy and cheap\\\\\"; and Carrie Fisher as Betsy Faye Sharon, who\\'s \\\\\"a bitch\\\\\".<br /><br />Geoffrey Anderson (Kevin Kline) is the \\\\\"yummy-with-a-spoon\\\\\" (and he is, by the way) dinner theater actor now rescued from his Hell by David Seaton Barnes (Robert Downey Jr), and brought back to the same show he was canned from 20 years earlier. Of course this presents some logical challenges for the current scriptwriters because his character, Rod Randall, was supposed to have been decapitated all those years ago. Somehow they work out the logical difficulties, and Geoffrey Anderson steps off the choo-choo.<br /><br />Celeste can now only get worse, and her trick of going across the Washington bridge no longer helps. First, her hands shake as she tries to put on mascara, but she soon degenerates into a stalker. Unfortunately, she cannot get rid of Geoffrey Anderson so easily. Geoffrey\\'s been promised development of his one-man play about Hamlet, and he means to hold the producer to that promise. \\\\\"I\\'m not going back to Florida no-how!\\\\\", argues Geoffrey. \\\\\"You try playing Willie Loman in front of a bunch of old farts eating meatloaf !\\\\\" And indeed, seeing Geoffrey\\'s dinner theater lifestyle amongst all the hocking and accidents is hilarious. Back in Florida in his Willie Loman fat suit in his room, Geoffrey Anderson used to chafe at being called to stage as \\\\\"Mr Loman\\\\\". He was forced to splat whatever cockroaches crawled across his TV with a shoe, and to use pliers instead of the broken analog channel changer. Now he find himself as the yummy surgeon dating Laurie Craven, the show\\'s new ingenue; so he\\'s not leaving.<br /><br />Beautiful Elizabeth Shue (as Laurie) rounds out the amazing ensemble cast who all do the fantastic job of those who know the stereotypes all too well. But, of course, the course to true love never did run smoothly. Montana Moorehead (Cathy Moriarty) is getting impatient waiting for her star to rise, and is getting desperate for some publicity.<br /><br />Will her plots finally succeed? Will Celeste settle her nerves, or will she kill Tawnee first? Will the producer get Mr Fuzzy? -You\\'ll just have to watch * the second half * of this utterly lovable, farcically malicious riot.<br /><br />And you\\'ll really have to see to believe how the short-sighted Geoffrey reads his lines without glasses live off the TelePrompter. If you are not in stitches with stomach-heaving laughter and tears pouring down your face, feel free to demand your money back for the video rental. Soapdish (1991) is an unmissable gem that you will need to see again and again, because it\\'s not often that a movie can deliver so amply with so many hilarious lines. This is very well-crafted humor, almost all of it in the writing. A draw with Blazing Saddles (1974) for uproarious apoplexy value, although otherwise dissimilar. Watch it and weep. A happy source for anyone\\'s video addiction. 10 out of 10.\"',\n",
       "       \"I was hoping that this film was going to be at least watchable. The plot was weak to say the least. I was expecting a lot more considering the cast line up (I wonder if any of them will include this on their CVs?). At least I didn't pay to rent it. The best part of the film is definitely Dani Behr, but the rest of the film is complete and utter PANTS.\",\n",
       "       \"The King of Masks is a beautifully told story that pits the familial gender preference towards males against human preference for love and companionship. Set in 1930s China during a time of floods, we meet Wang, an elderly street performer whose talents are magical and capture the awe of all who witness him. When a famous operatic performer sees and then befriends Wang, he invites Wang to join their troupe. However, we learn that Wang's family tradition allows him only to pass his secrets to a son. Learning that Wang is childless, Wang is encouraged to find an heir before the magic is lost forever. Taking the advice to heart, Wang purchases an 8 year old to fulfill his legacy; he would teach his new son, Doggie, the ancient art of silk masks. Soon, Wang discovers a fact about Doggie that threatens the rare and dying art.<br /><br />Together, Wang and Doggie create a bond and experience the range of emotions that invariably accompany it. The story is absorbing. The setting is serene and the costuming simple. Summarily, it is an International Award winning art film which can't help but to move and inspire.\",\n",
       "       'I really wanted to like this film, but the story is ridicules. I don\\'t want to spoil this film, - don\\'t worry right from the begin you know something bad is going to happen - but here\\'s an example of how sloppy this film was put together. The Cowboy and \\\\Twig\\\\\" ride up the ridge. The Cowboy has a handle bar mustache. The Cowboy and \\\\\"Twig\\\\\" get into a shoot out and race half way down the ridge. The Cowboy is clean shaven through out the rest of the film. Sometime between the gun fight and the ride down the mountain the cowboy has had time to shave, in dark, on the back of a horse.<br /><br />To be fair, the acting by the four main characters is solid.\"',\n",
       "       \"I am a big fan of cinema verite and saw this movie because I heard how interesting it was. I can honestly say it was very interesting indeed. The two lead actors are awesome, the film isn't ever boring, and the concept behind it (though obviously inspired by the Columbine killings and the home movies of the killers) is really interesting. There are some weaknesses, such as the final 20 minutes which really detracts from the realism seen in the first hour or so and the ending really doesn't make any sense at all. The shaky camera sometimes can be a distraction, but in cinema verite that is a given. But I still think the movie is very well done and the director Ben Coccio deserves some credit.\",\n",
       "       'How do I begin to review a film that will soon be recognized as the `worst film of all time\\' by the `worst director of all time?\\' A film that could develop a cult following because it\\'s `so bad it\\'s good?\\'<br /><br />An analytical approach criticizing the film seems both pointless and part of band-wagon syndrome--let\\'s bash freely without worry of backlash because every other human on earth is doing it, and the people who like the film like it for those flaws we\\'d cite.<br /><br />The film\\'s universal poor quality goes without saying-- \\'Sixteen Years of Alcohol\\' is not without competition for title of worst film so it has to sink pretty low to acquire the title and keep a hold of it, but I believe this film could go the distance. IMDb doesn\\'t allow enough words to cite all the films failures, and it be much easier to site the elements \\'Sixteen Years of Alcohol\\' does right. Unfortunately, those moments of glory are so far buried in the shadows of this film\\'s poorness that that\\'s a task not worth pursuing.<br /><br />My impressions? I thought I knew what I was getting into, I had been warned to drink several cups of coffee before sitting down to watch this one (wish that suggestion had been cups of Vodka). Despite my low expectations, \\'Sixteen Years of Alcohol\\' failed to entertain me even on a `make fun of the bad movie\\' level. Not just bad, but obnoxiously bad as though Jobson intentionally tried to make this film a poetical yawn but went into overkill and shoved the poetry down our throats making it not profound but funny . .. and supposedly Jobson sincerely tried to make a good movie? Even after viewing the \\'Sixteen Years of Alcohol\\' promotional literature, I have trouble believing Jobson\\'s sincerity. Pointless and obnoxious till the end with a several grin/chuckle moments (all I\\'m sure none intentional)spiced the film, and those few elements prevented me from turning the DVD off. So bad it\\'s good? No. It had just enough \\'I can\\'t believe this is a serious movie moments\\' to keep me from turning it off, and nothing more.<br /><br />Definitely a film to watch with a group of bad-movie connoisseurs. Get your own running commentary going. That would\\'ve significantly improved the experience for me. So bad it\\'s Mike Myers commentating in his cod Scottish accent on it as it runs, to turn this whole piece of sludge into a comic farce \\\\Ok dare ma man, pass me annuder gliss of dat wiskey\\\\\".\"',\n",
       "       'You\\'ve been fouled and beaten up in submission by my harsh statements about \\\\femme fatale\\\\\" / \\\\\"guns n\\' gals\\\\\" movies! Now comes another breed in disappointing rediscoveries: ninja movies! Many of these I\\'ve seen before, and let me tell you, they aren\\'t all that\\'s cracked up to be! They usually don\\'t stick to the point. This, among all others, suffers from no originality! What\\'s a ninja got to do with preventing a nuclear holocaust in Russia? And isn\\'t this supposed to be a \\\\\"martial arts\\\\\" movie, too? Does plenty of gunfire sound like an incredible action movie to you? Is blood the number one reason to love this to death? Will you waste some of your hard-earned cash over a lady singing in her see-through tank top? The answers to these important questions are found in THE NINJA MISSION, which should be in the martial arts section of your video store. For even more nonsense ninja fun, try checking out those Godfrey Ho movies put out by Trans World. You get what you deserve, and that\\'s a promise! Recommended only for hardcore ninja addicts!\"',\n",
       "       '....as to the level of wit on which this comedy operates. Barely even reaching feature length, \\\\Can I Do It....\\'Till I Need Glasses\\\\\" is a collection of (mostly) dirty jokes. Many of them are so short that you can\\'t believe it when you realize that THAT was supposed to be the punchline (example: the Santa Claus gag); others are so long that you can\\'t believe it when you realize that they needed so much time to set up THAT punchline (example: the students\\' awards gag). And nearly all are directed without any artistry. Don\\'t get me wrong: about 1 every 10 jokes actually manages to be funny (the iron / phone one is probably my favorite). There is also some wonderful full-frontal nudity that proves, yet again, that the female body, especially in its natural form, is the best thing on this planet (there is some comedic male nudity as well). And I agree with others that the intentionally stupid title song is actually pretty damn catchy! But none of those reasons are enough to give this film anything more than * out of 4.\"',\n",
       "       'I have been a huge Lynn Peterson fan ever since her breakthrough role in the 1988 blockbuster movie \\\\Far North\\\\\", and even though I loved her in her one other film \\\\\"Slow\\\\\" (2004) where she plays \\\\\"Francis\\\\\", this is by far and away her strongest role.<br /><br />Lynn, as I\\'m sure you all know (or should), plays the critical role of \\\\\"Driver\\\\\".<br /><br />Unfortunately, other than Lynn\\'s amazing performance, I\\'m afraid this movie doesn\\'t really have much going for it.<br /><br />Oh wait - there was one other thing - the amazing creativity of the editing to remove profanity for TV viewers. Memorable lines like: \\\\\"You son-of-a-gun!\\\\\", \\\\\"You son-of-a-witch!\\\\\", \\\\\"Shoot!\\\\\", and \\\\\"Well, Forget You!\\\\\"<br /><br />O.K. Bye.<br /><br />P.S.: Does anyone know where I can get another Lynn Peterson poster?\"',\n",
       "       'Often laugh out loud funny play on sex, family, and the classes in Beverly Hills milks more laughs out of the zip code than it\\'s seen since the days of Granny and Jed Clampett. Plot centers on two chauffers who\\'ve bet on which one of them can bed his employer (both single or soon to be single ladies, quite sexy -- Bisset and Woronov) first. If Manuel wins, his friend will pay off his debt to a violent asian street gang -- if he loses, he must play bottom man to his friend! <br /><br />Lots of raunchy dialogue, fairly sick physical humour, etc. But a lot of the comedy is just beneath the surface. Bartel is memorable as a very sensual oder member of the family who ends up taking his sexy, teenaged niece on a year long \\\\missionary trip\\\\\" to Africa.<br /><br />Hilarious fun.\"',\n",
       "       'Some very interesting camera work and a story with much potential. But it never comes together as anything more than a student\\'s graduate thesis in film school.<br /><br />There are two primary reasons for this. Fist, there is not a single likable character, not even a villain we might admire for his/her chutzpah. Secondly, all the acting is awful - even from veteran Willem DaFoe. The ham is so plentiful here, you feel like you\\'re at a picnic - but one of those wretched company employee picnics where you drink too much cheap beer and get your hangover before you even stop drinking. Then you eat an underdone hotdog and throw up.<br /><br />All right, I\\'m being a little rough on a young director who might still go places - as I said, the camera work is quite good.<br /><br />But I feel cheated - the blurb for this film suggests we will get to watch a \\\\Modern western\\\\\", and the DVD packaging has pictures on it that suggest this as well - but nobody actually connected to the film\\'s making seems to know that this is the kind of film they\\'re supposed to be making.<br /><br />That betrayal is what hurts; but even without it, the fact remains that we don\\'t like these characters, we feel embarrassed for the actors, the story is hopelessly muddled, and in the last analysis, we just don\\'t care.<br /><br />I took it out of the DVD player about half way through. but the rental store wouldn\\'t give me my money back.<br /><br />Now, that really hurts.\"',\n",
       "       \"The original DeMille movie was made in 1938 with Frederic March. A very good film indeed. Hollywood's love of remakes brings us a fairly interesting movie starring Yul Brynner. He of course was brilliant as he almost always seemed to be in all of his movies. Charlton Heston as Andrew Jackson was a stroke of genius. However, the movie did tend to get a little long in places. It does not move at the pace of the 1938 version. Still, it is a fun movie that should be seen at least once.\",\n",
       "       \"Before watching this movie I thought this movie will be great as Flashpoint because before watching this movie Flashpoint was the last Jenna Jameson and Brad Armstrong movie I previously watched. As far as sexual scenes are concerned I was disappointed, I thought sexual scenes of Dreamquest will be great as Flashpoint sexual scenes but I was disappointed. Except Asia Carrera's sexual scene, any sexual scene in this movie doesn't make me feel great (you know what I mean). The great Jenna Jameson doesn't do those kind of sexual scenes of what she is capable of. Felecia and Stephanie Swift both of those lovely girls disappoint me as well as far as sexual scenes are concerned.<br /><br />Although its a adult movie but if you aside that sexual scenes factor, this movie is very good. If typical adult movie standards are concerned this movie definitely raised the standards of adult movies. Story, acting, direction, sets, makeups and other technical stuff of this movie are really great. The actors of this movie done really good acting, they all done a great job. Dreamquest is definitely raised the bar of quality of adult movies.\",\n",
       "       'Jeanette MacDonald and Nelson Eddy star in this \\\\modern\\\\\" musical that showcases MacDonald\\'s comic abilities. Surreal 40s musical seem to be making fun of 40s fashions even as they were in current vogue. Eye-popping costumes and sets (yes B&W) add to the surreal, dreamlike quality of the entire film. Several good songs enliven the film, with the \\\\\"Twinkle in Your Eye\\\\\" number a total highlight, including a fun jitterbug number between MacDonald and Binnie Barnes. Also in the HUGE cast are Edward Everett Horton, Reginal Owen, Mona Maris, Douglas Dumbrille and Anne Jeffreys. Also to been seen in extended bit parts are Esther Dale, Almira Sessions, Grace Hayle, Gertrude Hoffman, Rafaela Ottiano, Odette Myrtile, Cecil Cunningham and many others.<br /><br />Great fun and nice to see the wonderful MacDonald in her jitterbug/vamp routines. She could do it all.\"',\n",
       "       \"I love this movie. My friend Marcus and I were browsing the local Hastings because we had an urge to rent something we had never seen before and stumbled across this fine film. We had no idea what it was going to be about, but it turned out spectacular. 2 thumbs up. I liked how the film was shot, and the actors were very funny. If you are are looking for a funny movie that also makes you think I highly suggest you quickly run to your local video store and find this movie. I would tell you some of my favorite parts but that might ruin the film for you so I won't. This movie is definitely on my top 10 list of good movies. Do you really think Nothing is bouncy?\",\n",
       "       'Those who are not familiar with Cassandra Peterson\\'s alter-ego Elvira, then this is a good place to start.<br /><br />\\\\Elvira, Mistress of the Dark\\\\\" starts off with our heroine with the gravity defying boobs receiving a message. It seems that a great aunt of hers has died and that she needs to be present for the reading of the will. Anxious to raise money for a show she wants to open in Las Vegas, she decides to go in hopes of getting lots and lots of money.<br /><br />Unfortunately, the place she has to go is the town of Fallwell, Massachusetts. Having to stay a spell due to her car breaking down, she finds out that her great aunt left her 3 things: a house, a dog and a cookbook. The town residents have mixed reactions:the teens like her, the women hate her, and the men lust after her (Although trying to remain moral pillars of the community). Her worst problem turns out to be her great uncle Vincent (W. Morgan Sheppard), because he wants her cookbook. Seems that the cookbook is a book of spells that will make him a more powerful warlock.<br /><br />The film is actually pretty funny, with Peterson a.k.a. Elvira using her \\\\\"endowments\\\\\" and sexiness as a joke (\\\\\"And don\\'t forget, tomorrow we\\'re showing the head with two things... I mean the thing with two heads\\\\\"). Especially funny as Edie McClurg as Chastity Pariah, the woman that works her hardest to keep the town in line, but ends up looking ridiculous (The picnic scene is the perfect example). Deserves a peek (The film, not her boobs, of course).\"',\n",
       "       'A sequel to (actually a remake of) Disney\\'s 1996 live-action remake of 101 Dalmations. Cruella deVil (Glenn Close) is released from prison after being \\\\cured\\\\\" of her obsession with fur by a psychologist named Dr. Pavlov (ugh!). But the \\\\\"cure\\\\\" is broken when Cruella hears the toll of Big Ben, and she once again goes on a mad quest to make herself the perfect coat out of dalmation hides.<br /><br />This movie is bad on so many levels, starting with the fact that it\\'s a \\\\\"Thanksgiving family schlock\\\\\" movie designed to suck every last available dime out of the Disney marketing machine. Glenn Close over-over-over-over-acts as Cruella. With all that she had to put up with in this movie -- the lame script, the endless makeup, getting baked in a cake at the end -- I hope they gave her an extremely-large paycheck.<br /><br />(Speaking of which, where in the world are you going to find a fur coat factory, a bakery with a Rube Goldberg assembly line, and a candlelight restaurant all located within the same building -- as you do in the climax of this film?) Of course, the real stars of the movie are supposed to be the dogs. They serve as the \\\\\"Macaulay Culkin\\'s\\\\\" of this movie, pulling all the stupid \\\\\"Home Alone\\\\\" gags on the villains. (Biting them in the crotch, running over their hands with luggage carts, squirting them with icing, etc., etc., etc., ad nauseum.) I have to admit, the dogs were fairly good actors -- much better than the humans.<br /><br />Gerard Depardieu is completely wasted in this movie as a freaked-out French furrier. The two human \\\\\"dog lovers\\\\\" -- rehashed from the earlier film, but with different actors -- are completely boring. When they have a spaghetti dinner at an Italian restaurant, the movie cuts back and forth between the two lovers, and their dogs at home, watching the dinner scene from \\\\\"Lady and the Tramp.\\\\\" I thought to myself, \\\\\"Oh please, don\\'t go there!\\\\\" I half-expected the humans to do a satire on the \\\\\"Lady and the Tramp\\\\\" dinner scene -- as Charlie Sheen did in \\\\\"Hot Shots: Part Deux\\\\\" -- doing the \\\\\"spaghetti strand kiss,\\\\\" pushing the meatball with his nose, etc.<br /><br />And don\\'t get me started on the annoying parrot with Eric Idle\\'s voice.<br /><br />The costumes were nominated for an Oscar, and the costumes in the movie *are* good. But they are the only good thing in the movie. The rest of it is unbearable dreck.\"',\n",
       "       'There are movies like \\\\Plan 9\\\\\" that are so bad they have a charm about them, there are some like \\\\\"Waterworld\\\\\" that have the same inexplicable draw as a car accident, and there are some like \\\\\"Desperate living\\\\\" that you hate to admit you love. Cowgirls have none of these redemptions. The cast assembled has enough talent to make almost any plot watchable, and from what I\\'ve been told, the book is enjoyable.<br /><br />How then could this movie be so intolerably bad? To begin with, it seems the director brought together a cast of names with no other tie than what will bring in the 20 somethings. Then tell them to do their best Kevin Costner imitations. Open the book at random and start shooting whatever is on the page making sure to keep the wide expanses of America from being interesting in any way. Finally give the editing job to your brother-in-law, because the meat packing plant just laid him off. He does have twenty years of cutting experience.<br /><br />This movie now defines the basement for me. It is so bad, it isn\\'t even good for being bad.\"',\n",
       "       'And I\\'m serious! Truly one of the most fantastic films I have ever had the pleasure of watching. What\\'s so wonderful is that very rarely does a good book turn into a movie that is not only good, but if possible better than the novel it was based on. Perhaps in the case of Lord of the Rings and Trainspotting, but it is a rare occurrence indeed. But I think that the fact that Louis Sachar was involved from the beginning helped masses, so that the film sticks close to the story but takes it even further. This film has many elements that make it what it is:<br /><br />1. A unique, original story with a good mix of fun and humour, but a mature edge. 2. Brilliant actors. Adults and kids alike, these actors know how to bring the story to life and deliver their lines with enthusiasm and style without going overboard, as sometimes happen with kids movies. 3. Breathtaking scenery. And it doesn\\'t matter if it\\'s real or CGI, the setting in itself is a masterpiece. I especially love the image of the holes from a birds eye view. 4. A talented director who breathes life into the book and turns it into technicolour genius. The transitions in time work well and capture the steady climax from the book, leading up to the twists throughout the film. 5. Louis Sachar! The guy who had me reading a book nonstop from start to finish so that I couldn\\'t put it down. He makes sure that the script sticks to the book, with new bits added in to make it even better. 6. And speaking of the script! The one-liners in this are smart, funny and unpatronising. But there are also parts to make you smile, make you cry, and tug at your heartstrings to make you love this story all the more. 7. Beautiful soundtrack. There\\'s not a song in this film that I haven\\'t fallen for, and that\\'s something considering I\\'m supposed to be a punk-rocker. The songs link to the story well and add extra jazz to the overall style of the film. If you\\'re going to buy the film, I recommend you buy the soundtrack too, especially for \\\\If Only\\\\\", which centres around the story and contains the chorus from the book.<br /><br />I do not work for the people who made Holes, by the way, I\\'m just a fan, plugging my favourite film and giving it the review it deserves. If you haven\\'t seen it, do it. Now. This very instant. Go!\"',\n",
       "       'Channel surfing and caught this on LOGO. It was one of those \\\\I have to watch this because it\\'s so horribly bad\\\\\" moments, like Roadhouse without the joy. The writing is atrocious; completely inane and the acting is throw-up-in-your-mouth bad.<br /><br />There\\'s low budget and then there is the abyss which is where this epic should be tossed and never seen from again. I mean, the main characters go to a ski retreat in some rented house and the house is, well, ordinary which is no big deal, but they choose to show all the houseguests pouring over it like it was the Sistine Chapel. I\\'m sorry but watching 6 guys stare into every 10\\'x10\\' boring room with a futon in it and gushing is lame. I guess they didn\\'t learn anything from the Bad News Bears in Breaking Training (see hotel room check scene)...wow a toilet !!! yaayyyyy !!!! I don\\'t buy the its all over the top so anything goes routine. If it smells like...and it looks like...well, you know the rest.<br /><br />Avoid like the plague.<br /><br />edit: Apparently other more close minded reviewers believe that since I disliked this movie, I am an \\\\\"obvious hater\\\\\" which I can only assume means I am phobic, which of course is not true. I decided to do this wacky, crazy thing and judge the movie based on the actual content of the film and not by its mere presence (i.e. its refreshing to see...)<br /><br />Sure, it may be refreshing to see but that doesn\\'t equate into a great movie, just give them some better material to work with and tighter direction. In fact, I applaud the effort. Frankly, I\\'d rather go listen to my Kitchens of Distinction catalogue than watch this again.\"',\n",
       "       \"When I first saw the Romeo Division last spring my first reaction was BRILLIANT! However, on future viewings I was provided with much more than masterful film-making. This picture has a singular voice that will echo throughout the annuls of film history.<br /><br />The opening montage provides a splendid palette which helmer JP Sarro uses to establish his art on this canvas of entertainment.<br /><br />Sarro truly uses the camera as his paintbrush while he brings us along on a ride that envelops the audience in a tremendous action movie that goes beyond the traditional format we have become accustomed to and dives deeply into dark themes of betrayal, revenge and the importance of companionship. This movie is any director's dream at its very core.<br /><br />However, Sarro was not alone in this epic undertaking. The writing, provided by scribe Tim Sheridan, was just as breathtaking.<br /><br />The dialogue was so precise and direct that it gave the actors such presence and charisma on the screen. Specifically speaking, the final scene (WARNING: SPOILERS!!! SPOILERS!!!) where Vanessa reveals herself to be one of the coalition and a villain all the time, is written in such a dark tone that it is one of the most chilling endings I have ever seen. Sheridan is the next Robert Towne.<br /><br />In a final note it is obvious that this production was no small feat.<br /><br />Therefore much praise must be given to producer Scott Shipley who seems to have the creativity and genius to walk next to Jerry Bruckheimer. Never before have I witnessed a production so grand with so much attention directed at every little detail. A producers job is one of the hardest in any movie and Shipley makes it look easy.<br /><br />All in all this film combines creative writing, stunning production and masterful direction. This is the art of film at its best. When the ending of the film arrives the only thing that is desired is more.<br /><br />The Romeo Division is groundbreaking, a masterpiece and, most importantly, The Romeo Division is indeed art.\",\n",
       "       'It looks to me as if the creators of \\\\The Class Of Nuke \\'Em High\\\\\" wanted it to become a \\\\\"cult\\\\\" film, but it ends up as any old high school B-movie, only tackier. The satire feels totally overshadowed by the extremely steretyped characters. It\\'s very un-funny, even for a turkey.\"',\n",
       "       'I totally agree that \\\\Nothing\\\\\" is a fantastic film! I\\'ve not laughed so much when watching a film for ages! and David Hewlett and Andrew Miller are fantastic in this! they really work well together! This film may not appeal to some people (I can\\'t really say why without spoiling it!) but each to their own! I loved it and highly recommend it!<br /><br />The directing is great and some of the shots are very clever. It looks as though they may have had a lot of fun when filming it!<br /><br />Although there are really only main 2 characters in the film and not an awful lot of props the actors manage to pull it off and make the film enjoyable to watch.\"',\n",
       "       \"This isn't the worst movie I've ever seen, but I really can't recall when I've seen a worse one. I thought this would be about an aircraft accident investigation. What it really was is a soap opera, and a bad one at that. They overplayed the 'conflict' card to the extreme. The first hour or so seems like a shouting match, with some implausible scenes thrown in.<br /><br />*Possible spoiler*<br /><br />The 40-or-so minute 'memorial' scene (with requisite black umbrellas and rain) to fictitious crash victims was lame, and I thought it would never end. <br /><br />Avoid this one at all costs, unless you revel in 'conflict'.<br /><br />\",\n",
       "       'Beautiful attracts excellent idea, but ruined with a bad selection of the actors. The main character is a loser and his woman friend and his friend upset viewers. Apart from the first episode all the other become more boring and boring. First, it considers it illogical behavior. No one normal would not behave the way the main character behaves. It all represents a typical Halmark way to endear viewers to the reduced amount of intelligence. Does such a scenario, or the casting director and destroy this question is on Halmark producers. Cat is the main character is wonderful. The main character behaves according to his friend selfish.',\n",
       "       \"Complete drivel. An unfortunate manifestation of the hypocritical, toxic culture of a decade ago. In this movie, pedestrian regrets for slavery go hand in hand with colonialist subtexts (the annoying redhead feeding Shaka rice?). Forget historical reality too. Didn't most western slaves comes from West Africa? An American slaver easily capturing Shaka with a handful of men?. Finally, David Hasslehoff could not have been any more obnoxious. One can only ponder, how would he have fared in the miniseries? (Promptly impaled most likely). The miniseries was superb, and it is unfortunate that DH should have gotten his hands on something unique, and made it mundane. (I tend to think that he had hand in creating this fiasco).\",\n",
       "       \"Okay, first of all I got this movie as a Christmas present so it was FREE! FIRST - This movie was meant to be in stereoscopic 3D. It is for the most part, but whenever the main character is in her car the movie falls flat to 2D! What!!?!?! It's not that hard to film in a car!!! SECOND - The story isn't very good. There are a lot of things wrong with it.<br /><br />THIRD - Why are they showing all of the deaths in the beginning of the film! It made the movie suck whenever some was going to get killed!!! Watch it for a good laugh , but don't waste your time buying it. Just download it or something for cheap.\",\n",
       "       'As soon as it hits a screen, it destroys all intelligent life forms around ! But on behalf of its producers I must say it doesn\\'t fall into any known movie category, it deserves a brand new denomination of its own ! It\\'s a \\\\Neurological drama\\\\\" ! It saddens and depresses every single neuron inside a person\\'s brain.<br /><br />It\\'s the closest thing one will ever get to a stroke without actually suffering one. It drives you speechless, all you members go numb, your mouth falls open and remains so, and the most strange symptom of all is that you get yourself wishing to go blind and deaf.<br /><br />No small feat for such a sort of a \\\\\"movie\\\\\".<br /><br />The only word that comes to my mind just having finished my ordeal is OUTRAGE !!!!!!\"',\n",
       "       'Unfortunately for myself - I stumbled onto this show late in it\\'s lifetime. I only caught a few episodes (about three) before it was cancelled by ABC. I loved the characters, and storyline - but most of all the GREAT actors! I was a fan of Sex and the City, so I saw two characters I recognized (Bridget Moynahan was & The Character \\\\Todd\\\\\" was \\\\\"Smith Jared\\\\\"), as well as Jay Hernandez (From Carlito\\'s Way: Rise To Power) and Erika Christensen (Swimfan). I enjoy watching young actors get their due, and felt like this show would propel their career further along. I hope this at least gets put back out on DVD, and maybe WB will pick it up for a second season sometime? In the meantime, I\\'m viewing it on ABC\\'s website from the beginning.\"',\n",
       "       \"I had never heard of this one before it turned up on Cable TV. It's very typical of late 50s sci-fi: sober, depressing and not a little paranoid! Despite the equally typical inclusion of a romantic couple, the film is pretty much put across in a documentary style - which is perhaps a cheap way of leaving a lot of the exposition to narration and an excuse to insert as much stock footage as is humanly possibly for what is unmistakably an extremely low-budget venture! While not uninteresting in itself (the-apocalypse-via-renegade-missile angle later utilized, with far greater aplomb, for both DR. STRANGELOVE [1964] and FAIL-SAFE [1964]) and mercifully short, the film's single-minded approach to its subject matter results in a good deal of unintentional laughter - particularly in the scenes involving an imminent childbirth and a gang of clueless juvenile delinquents!\",\n",
       "       'This was a hit in the South By Southwest (SXSW) Film festival in Austin last year, and features a fine cast headed up by E.R.\\'s Gloria Reuben, and a scenery-chewing John Glover. Though shot on a small budget in NYC, the film looks and sounds fabulous, and takes us on a behind the scenes whirl through the rehearsal and mounting of what actors call \\\\The Scottish Play,\\\\\" as a reference to the word \\\\\"Macbeth\\\\\" is thought to bring on the play\\'s ancient curse. The acting company exhibits all the emotions of the play itself, lust, jealousy, rage, suspicion, and a bit of fun as well. The games begin when an accomplished actor is replaced (in the lead role) by a well-known \\\\\"pretty face\\\\\" from the TV soap opera scene in order to draw bigger crowds. The green-eyed monster takes over from there, and the drama unfolds nicely. Fine soundtrack, and good performances all around. The DVD includes director\\'s commentary and some deleted scenes as well.\"',\n",
       "       \"I gave 1 to this film. I can't understand how Ettore Scola,one of the greater directors of Italian cinema, made a film like this, so stupid and ridiculous! All the stories of the people involved in the movie are unsubstantial,boring and not interesting. Too long,too boring. The only things I save in this movie are Giancarlo Giannini and Vittorio Gasmann. Hope that Scola will change radically themes and style in his next film.\",\n",
       "       'As a big fan of David Mamet\\'s films and plays, especially his first film House of Games that also starred Joe Mantegna, I was expecting great things from this film. Instead, I found myself annoyed by the film\\'s superficiality and lack of credibility. Racial slurs are thrown about without any feeling or meaning behind them, in the hopes of setting up a racial tension that for me never materialized. Identity is totally reevaluated and men become \\\\heroes\\\\\" for no apparent reason. Because of his oaths taken as a cop, the lead character adamantly refuses to perform one relatively small action that would harm no one and could possibly save lives, and yet performs another action which is very violent and VERY illegal, but then still refuses the minor action. In addition, a highly unbelievable subplot involving a man who has killed his family is introduced just for the sake of a plot point that was all but advertised with skywriting, and the cop\\'s reaction to that occurrence stretch credulity way beyond all reasonable limits. Needless to say, after expecting another exciting thriller from David Mamet, I was extremely disappointed to say the least. 3 out of 10.\"'], dtype=object)"
      ]
     },
     "execution_count": 88,
     "metadata": {},
     "output_type": "execute_result"
    }
   ],
   "source": [
    "X_test"
   ]
  },
  {
   "cell_type": "code",
   "execution_count": 89,
   "metadata": {
    "collapsed": false
   },
   "outputs": [],
   "source": [
    "tk = keras.preprocessing.text.Tokenizer(nb_words=2000, filters=keras.preprocessing.text.base_filter(), lower=True, split=\" \")"
   ]
  },
  {
   "cell_type": "code",
   "execution_count": 97,
   "metadata": {
    "collapsed": false
   },
   "outputs": [],
   "source": [
    "tk.fit_on_texts(X_train)\n",
    "tk.fit_on_texts(X_test)"
   ]
  },
  {
   "cell_type": "code",
   "execution_count": 99,
   "metadata": {
    "collapsed": false
   },
   "outputs": [],
   "source": [
    "X_train = tk.texts_to_sequences(X_train)\n",
    "X_test = tk.texts_to_sequences(X_test)"
   ]
  },
  {
   "cell_type": "code",
   "execution_count": 100,
   "metadata": {
    "collapsed": true
   },
   "outputs": [],
   "source": [
    "max_len = 80"
   ]
  },
  {
   "cell_type": "code",
   "execution_count": 101,
   "metadata": {
    "collapsed": false
   },
   "outputs": [],
   "source": [
    "X_train = sequence.pad_sequences(X_train, maxlen=max_len)\n",
    "X_test = sequence.pad_sequences(X_test, maxlen=max_len)\n"
   ]
  },
  {
   "cell_type": "code",
   "execution_count": 102,
   "metadata": {
    "collapsed": false
   },
   "outputs": [
    {
     "name": "stdout",
     "output_type": "stream",
     "text": [
      "Build model...\n"
     ]
    }
   ],
   "source": [
    "max_features = 20000\n",
    "model = Sequential()\n",
    "print('Build model...')"
   ]
  },
  {
   "cell_type": "code",
   "execution_count": 103,
   "metadata": {
    "collapsed": false
   },
   "outputs": [
    {
     "name": "stdout",
     "output_type": "stream",
     "text": [
      "Train on 40 samples, validate on 10 samples\n",
      "Epoch 1/1\n",
      "40/40 [==============================] - 0s - loss: 0.6810 - val_loss: 0.6941\n"
     ]
    },
    {
     "data": {
      "text/plain": [
       "<keras.callbacks.History at 0x7f1d60f242d0>"
      ]
     },
     "execution_count": 103,
     "metadata": {},
     "output_type": "execute_result"
    }
   ],
   "source": [
    "model.add(Embedding(max_features, 128, input_length=max_len, dropout=0.2))\n",
    "model.add(LSTM(128, dropout_W=0.2, dropout_U=0.2))\n",
    "model.add(Dense(1))\n",
    "model.add(Activation('sigmoid'))\n",
    "model.compile(loss='binary_crossentropy', optimizer='rmsprop')\n",
    "model.fit(X_train, y=Y_train, batch_size=200, nb_epoch=1, verbose=1, validation_split=0.2, show_accuracy=True, shuffle=True)"
   ]
  },
  {
   "cell_type": "code",
   "execution_count": 104,
   "metadata": {
    "collapsed": false
   },
   "outputs": [
    {
     "name": "stdout",
     "output_type": "stream",
     "text": [
      "0.680801153183\n"
     ]
    }
   ],
   "source": [
    "# Final evaluation of the model\n",
    "scores = model.evaluate(X_test, Y_test, verbose=0)\n",
    "print scores"
   ]
  },
  {
   "cell_type": "code",
   "execution_count": null,
   "metadata": {
    "collapsed": true
   },
   "outputs": [],
   "source": []
  }
 ],
 "metadata": {
  "kernelspec": {
   "display_name": "Python 2",
   "language": "python",
   "name": "python2"
  },
  "language_info": {
   "codemirror_mode": {
    "name": "ipython",
    "version": 2
   },
   "file_extension": ".py",
   "mimetype": "text/x-python",
   "name": "python",
   "nbconvert_exporter": "python",
   "pygments_lexer": "ipython2",
   "version": "2.7.11"
  }
 },
 "nbformat": 4,
 "nbformat_minor": 0
}
