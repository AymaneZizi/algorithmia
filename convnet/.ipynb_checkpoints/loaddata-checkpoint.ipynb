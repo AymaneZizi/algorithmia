{
 "cells": [
  {
   "cell_type": "code",
   "execution_count": 77,
   "metadata": {
    "collapsed": false
   },
   "outputs": [],
   "source": [
    "import pydot\n",
    "from keras.datasets import mnist\n",
    "from keras.models import Sequential\n",
    "from keras.layers import Dense, Dropout, Activation, Flatten\n",
    "from keras.layers import Convolution2D, MaxPooling2D\n",
    "from keras.utils import np_utils\n",
    "import matplotlib.pyplot as plt\n",
    "import theano\n",
    "import numpy as np\n",
    "%matplotlib inline"
   ]
  },
  {
   "cell_type": "code",
   "execution_count": 62,
   "metadata": {
    "collapsed": true
   },
   "outputs": [],
   "source": [
    "# input image dimensions\n",
    "img_rows, img_cols = 28, 28"
   ]
  },
  {
   "cell_type": "code",
   "execution_count": 63,
   "metadata": {
    "collapsed": false
   },
   "outputs": [],
   "source": [
    "(X_train, y_train), (X_test, y_test) = mnist.load_data()"
   ]
  },
  {
   "cell_type": "code",
   "execution_count": 64,
   "metadata": {
    "collapsed": false
   },
   "outputs": [],
   "source": [
    "X_train = X_train.reshape(X_train.shape[0], 1, img_rows, img_cols)\n",
    "X_test = X_test.reshape(X_test.shape[0], 1, img_rows, img_cols)"
   ]
  },
  {
   "cell_type": "code",
   "execution_count": 65,
   "metadata": {
    "collapsed": false
   },
   "outputs": [],
   "source": [
    "X_train = X_train.astype('float32')\n",
    "X_test = X_test.astype('float32')"
   ]
  },
  {
   "cell_type": "code",
   "execution_count": 66,
   "metadata": {
    "collapsed": true
   },
   "outputs": [],
   "source": [
    "X_train /= 255\n",
    "X_test /= 255"
   ]
  },
  {
   "cell_type": "code",
   "execution_count": 67,
   "metadata": {
    "collapsed": false
   },
   "outputs": [],
   "source": [
    "Y_train = np_utils.to_categorical(y_train, 10)\n",
    "Y_test = np_utils.to_categorical(y_test, 10)"
   ]
  },
  {
   "cell_type": "code",
   "execution_count": 68,
   "metadata": {
    "collapsed": false
   },
   "outputs": [],
   "source": [
    "###########visualize##############\n",
    "plt.imshow(X_train[1].squeeze())\n",
    "plt.show()"
   ]
  },
  {
   "cell_type": "code",
   "execution_count": 69,
   "metadata": {
    "collapsed": false
   },
   "outputs": [],
   "source": [
    "batch_size = 128\n",
    "nb_classes = 10\n",
    "nb_epoch = 1\n",
    "# input image dimensions\n",
    "img_rows, img_cols = 28, 28\n",
    "# number of convolutional filters to use\n",
    "nb_filters = 32\n",
    "# size of pooling area for max pooling\n",
    "nb_pool = 2\n",
    "# convolution kernel size\n",
    "kernel_size = (3, 3)"
   ]
  },
  {
   "cell_type": "code",
   "execution_count": 70,
   "metadata": {
    "collapsed": true
   },
   "outputs": [],
   "source": [
    "model = Sequential()\n",
    "\n",
    "model.add(Convolution2D(nb_filters, kernel_size[0], kernel_size[1],\n",
    "                        border_mode='valid',\n",
    "                        input_shape=(1, img_rows, img_cols)))"
   ]
  },
  {
   "cell_type": "code",
   "execution_count": 71,
   "metadata": {
    "collapsed": false
   },
   "outputs": [],
   "source": [
    "model.add(Activation('relu'))\n",
    "model.add(Convolution2D(nb_filters, kernel_size[0], kernel_size[1]))\n",
    "model.add(Activation('relu'))\n",
    "model.add(MaxPooling2D(pool_size=(nb_pool, nb_pool)))\n",
    "model.add(Dropout(0.25))\n",
    "model.add(Flatten())\n",
    "model.add(Dense(128))\n",
    "model.add(Activation('relu'))\n",
    "model.add(Dropout(0.5))\n",
    "model.add(Dense(nb_classes))\n",
    "model.add(Activation('softmax'))"
   ]
  },
  {
   "cell_type": "code",
   "execution_count": 72,
   "metadata": {
    "collapsed": true
   },
   "outputs": [],
   "source": [
    "model.compile(loss='categorical_crossentropy',\n",
    "              optimizer='adadelta',\n",
    "              metrics=['accuracy'])\n"
   ]
  },
  {
   "cell_type": "code",
   "execution_count": 73,
   "metadata": {
    "collapsed": false
   },
   "outputs": [
    {
     "name": "stdout",
     "output_type": "stream",
     "text": [
      "Train on 60000 samples, validate on 10000 samples\n",
      "Epoch 1/1\n",
      "60000/60000 [==============================] - 100s - loss: 0.3773 - acc: 0.8846 - val_loss: 0.0889 - val_acc: 0.9723\n"
     ]
    },
    {
     "data": {
      "text/plain": [
       "<keras.callbacks.History at 0x7fbd3a11f510>"
      ]
     },
     "execution_count": 73,
     "metadata": {},
     "output_type": "execute_result"
    }
   ],
   "source": [
    "model.fit(X_train, Y_train, batch_size=batch_size, nb_epoch=nb_epoch,\n",
    "          verbose=1, validation_data=(X_test, Y_test))"
   ]
  },
  {
   "cell_type": "code",
   "execution_count": 74,
   "metadata": {
    "collapsed": false
   },
   "outputs": [
    {
     "name": "stdout",
     "output_type": "stream",
     "text": [
      "0 <keras.layers.convolutional.Convolution2D object at 0x7fbd39692e10>\n",
      "1 <keras.layers.core.Activation object at 0x7fbd3a6cf0d0>\n",
      "2 <keras.layers.convolutional.Convolution2D object at 0x7fbd3a6cf110>\n",
      "3 <keras.layers.core.Activation object at 0x7fbd3a6cfb10>\n",
      "4 <keras.layers.pooling.MaxPooling2D object at 0x7fbd3a700c90>\n",
      "5 <keras.layers.core.Dropout object at 0x7fbd3a6f5750>\n",
      "6 <keras.layers.core.Flatten object at 0x7fbd3a6f5910>\n",
      "7 <keras.layers.core.Dense object at 0x7fbd3a700d10>\n",
      "8 <keras.layers.core.Activation object at 0x7fbd3a662650>\n",
      "9 <keras.layers.core.Dropout object at 0x7fbd3a662d50>\n",
      "10 <keras.layers.core.Dense object at 0x7fbd3a662490>\n",
      "11 <keras.layers.core.Activation object at 0x7fbd3a662d10>\n"
     ]
    }
   ],
   "source": [
    "for layerNo in range(0,len(model.layers)):\n",
    "    print layerNo,model.layers[layerNo]"
   ]
  },
  {
   "cell_type": "code",
   "execution_count": 132,
   "metadata": {
    "collapsed": false
   },
   "outputs": [],
   "source": [
    "big_array = []\n",
    "# for layerNo in range(0,len(model.layers)):\n",
    "layer = model.layers[2]\n",
    "g=layer.get_config()\n",
    "h=layer.get_weights()\n",
    "h[0].shape\n",
    "html =  open('html.html','w')\n",
    "html.writelines(\"<table>\")\n",
    "count=0\n",
    "for outShapeNo in h[0]:\n",
    "    html.writelines(\"<tr>\")\n",
    "    for innerShapeNo in outShapeNo:\n",
    "        fig = plt.figure(frameon=False)\n",
    "        fig.set_size_inches(3,3)\n",
    "        ax = plt.Axes(fig, [0., 0., 1., 1.])\n",
    "        ax.set_axis_off()\n",
    "        fig.add_axes(ax)\n",
    "        html.writelines(\"<td>\")\n",
    "#         print innerShapeNo\n",
    "        plt.axis('off')\n",
    "        ax.imshow(innerShapeNo.squeeze(),interpolation='nearest, aspect='normal') #,interpolation='nearest'\n",
    "        fig.savefig(str(count)+\".png\")\n",
    "        html.writelines(\"<img src='\"+str(count)+\".png\"+\"'\")\n",
    "        html.writelines(\"</td>\")\n",
    "        count =  count+1\n",
    "        plt.close()\n",
    "    html.writelines(\"</tr>\")\n",
    "html.writelines(\"</table>\")\n",
    "\n",
    "\n"
   ]
  },
  {
   "cell_type": "code",
   "execution_count": 131,
   "metadata": {
    "collapsed": false
   },
   "outputs": [
    {
     "name": "stdout",
     "output_type": "stream",
     "text": [
      "(32, 3, 3)\n",
      "(32, 3, 3)\n",
      "(32, 3, 3)\n",
      "(32, 3, 3)\n",
      "(32, 3, 3)\n",
      "(32, 3, 3)\n",
      "(32, 3, 3)\n",
      "(32, 3, 3)\n",
      "(32, 3, 3)\n",
      "(32, 3, 3)\n",
      "(32, 3, 3)\n",
      "(32, 3, 3)\n",
      "(32, 3, 3)\n",
      "(32, 3, 3)\n",
      "(32, 3, 3)\n",
      "(32, 3, 3)\n",
      "(32, 3, 3)\n",
      "(32, 3, 3)\n",
      "(32, 3, 3)\n",
      "(32, 3, 3)\n",
      "(32, 3, 3)\n",
      "(32, 3, 3)\n",
      "(32, 3, 3)\n",
      "(32, 3, 3)\n",
      "(32, 3, 3)\n",
      "(32, 3, 3)\n",
      "(32, 3, 3)\n",
      "(32, 3, 3)\n",
      "(32, 3, 3)\n",
      "(32, 3, 3)\n",
      "(32, 3, 3)\n",
      "(32, 3, 3)\n"
     ]
    }
   ],
   "source": [
    "big_array = []\n",
    "# for layerNo in range(0,len(model.layers)):\n",
    "layer = model.layers[2]\n",
    "g=layer.get_config()\n",
    "h=layer.get_weights()\n",
    "h[0].shape\n",
    "count=0\n",
    "for outShapeNo in h[0]:\n",
    "    print outShapeNo.shape"
   ]
  },
  {
   "cell_type": "code",
   "execution_count": null,
   "metadata": {
    "collapsed": true
   },
   "outputs": [],
   "source": []
  }
 ],
 "metadata": {
  "kernelspec": {
   "display_name": "Python 2",
   "language": "python",
   "name": "python2"
  },
  "language_info": {
   "codemirror_mode": {
    "name": "ipython",
    "version": 2
   },
   "file_extension": ".py",
   "mimetype": "text/x-python",
   "name": "python",
   "nbconvert_exporter": "python",
   "pygments_lexer": "ipython2",
   "version": "2.7.11"
  }
 },
 "nbformat": 4,
 "nbformat_minor": 0
}
