{
 "cells": [
  {
   "cell_type": "code",
   "execution_count": 23,
   "metadata": {
    "collapsed": false
   },
   "outputs": [
    {
     "name": "stderr",
     "output_type": "stream",
     "text": [
      "/home/sunil/.local/lib/python2.7/site-packages/fuzzywuzzy/fuzz.py:35: UserWarning: Using slow pure-python SequenceMatcher. Install python-Levenshtein to remove this warning\n",
      "  warnings.warn('Using slow pure-python SequenceMatcher. Install python-Levenshtein to remove this warning')\n"
     ]
    }
   ],
   "source": [
    "import string\n",
    "import random\n",
    "from keras.models import Sequential\n",
    "from keras.layers.recurrent import LSTM\n",
    "from keras.layers.core import TimeDistributedDense, Activation, Dropout\n",
    "from keras.preprocessing.sequence import pad_sequences\n",
    "from keras.layers.embeddings import Embedding\n",
    "from sklearn.cross_validation import train_test_split\n",
    "from sklearn.metrics import confusion_matrix, accuracy_score, precision_recall_fscore_support\n",
    "import os\n",
    "from theano.tensor.shared_randomstreams import RandomStreams\n",
    "srng = RandomStreams(seed=234)\n",
    "import numpy as np\n",
    "from keras.utils import np_utils\n",
    "from matplotlib import pyplot\n",
    "from tempfile import mkdtemp\n",
    "import numpy as np\n",
    "import matplotlib.pyplot as plt\n",
    "import os.path as path\n",
    "import matplotlib.pyplot as plt\n",
    "import theano\n",
    "from keras.layers.wrappers import TimeDistributed\n",
    "import keras\n",
    "from  keras.optimizers import Adadelta\n",
    "from scipy.misc import toimage\n",
    "from keras.models import Sequential\n",
    "from keras.layers.core import Flatten, Dense, Dropout,Activation , initializations, regularizers, constraints\n",
    "from keras.layers.convolutional import Convolution1D,Convolution2D, MaxPooling2D, ZeroPadding2D, MaxPooling1D\n",
    "from keras.optimizers import SGD\n",
    "from keras.utils.np_utils import to_categorical\n",
    "%matplotlib inline\n",
    "from keras import backend as K\n",
    "from keras.layers import Merge\n",
    "from sklearn.metrics import confusion_matrix, accuracy_score, precision_recall_fscore_support\n",
    "from keras.utils import np_utils\n",
    "from keras.engine.topology import Layer\n",
    "from keras.layers.core import Dense, Activation, TimeDistributedDense, Dropout, Reshape, Flatten\n",
    "from keras.layers.recurrent import LSTM\n",
    "import traceback\n",
    "import re\n",
    "import sys\n",
    "from fuzzywuzzy import fuzz\n",
    "from fuzzywuzzy import process\n",
    "%matplotlib inline"
   ]
  },
  {
   "cell_type": "code",
   "execution_count": 2,
   "metadata": {
    "collapsed": true
   },
   "outputs": [],
   "source": [
    "stringSize = 100 # defining string size\n",
    "maxWordLength = 100 "
   ]
  },
  {
   "cell_type": "code",
   "execution_count": 3,
   "metadata": {
    "collapsed": true
   },
   "outputs": [],
   "source": [
    "# lets consider 63 basic character, those occur the most\n",
    "# character to integer mapping dictionary\n",
    "charToInt = {'0':0,'1':1,'2':2,'3':3,'4':4,'5':5,'6':6,'7':7,'8':8,'9':9,'A':10,'a':11,'B':12,'b':13,'C':14,'c':15,'D':16,'d':17,'E':18,'e':19,'F':20,'f':21,'G':22,'g':23,'H':24,'h':25,'I':26,'i':27,'J':28,'j':29,'K':30,'k':31,'L':32,'l':33,'M':34,'m':35,'N':36,'n':37,'O':38,'o':39,'P':40,'p':41,'Q':42,'q':43,'R':44,'r':45,'S':46,'s':47,'T':48,'t':49,'U':50,'u':51,'V':52,'v':53,'W':54,'w':55,'X':56,'x':57,'Y':58,'y':59,'Z':60,'z':61 ,' ':62,'.':63}"
   ]
  },
  {
   "cell_type": "code",
   "execution_count": 4,
   "metadata": {
    "collapsed": true
   },
   "outputs": [],
   "source": [
    "# integer to character maping dictionary \n",
    "intToChar = {v: k for k, v in charToInt.iteritems()}"
   ]
  },
  {
   "cell_type": "code",
   "execution_count": 5,
   "metadata": {
    "collapsed": true
   },
   "outputs": [],
   "source": [
    "def string_generator(size=stringSize, chars=string.ascii_uppercase + string.digits):\n",
    "    \"\"\"\n",
    "    will generate random string\n",
    "    \"\"\"\n",
    "    return ''.join(random.choice(chars) for _ in range(size))"
   ]
  },
  {
   "cell_type": "code",
   "execution_count": 6,
   "metadata": {
    "collapsed": true
   },
   "outputs": [],
   "source": [
    "def mutator(originalString, percentageMutation):\n",
    "    \"\"\"\n",
    "    will take a string and mutate it as per percentage specified\n",
    "    \"\"\"\n",
    "    originalStringArray = list(originalString)\n",
    "    for i in range(percentageMutation):\n",
    "        # print originalStringArray\n",
    "        randomPlace = random.randint(0,len(originalString)-1)\n",
    "        randomLetter = random.choice(string.letters)\n",
    "        originalStringArray[randomPlace] = randomLetter\n",
    "    return \"\".join(originalStringArray)"
   ]
  },
  {
   "cell_type": "code",
   "execution_count": 7,
   "metadata": {
    "collapsed": true
   },
   "outputs": [],
   "source": [
    "def giveWordmatrix(word):\n",
    "    \"\"\"\n",
    "    will generate 2d matrix of the string, which will be an input to convolutional network\n",
    "    word : is a string given to function\n",
    "    \"\"\"\n",
    "    #2d matrix of size 100*63 initilaized with all cell having value \"false\"\n",
    "    tempMatrix = np.zeros((maxWordLength, 63),dtype=bool)\n",
    "    charNo=0\n",
    "    for charNo in range (0,len(word)):\n",
    "        if charNo<maxWordLength:\n",
    "            try:\n",
    "                try:\n",
    "                    # for above defined 63 character, if character exists then \"true\" is placed in place \n",
    "                    characterToIndex = int(word[charNo])\n",
    "                    tempMatrix[charNo][characterToIndex]=True\n",
    "                    charNo += 1\n",
    "                except:\n",
    "                    characterToIndex = charToInt[word[charNo]]\n",
    "                    tempMatrix[charNo][characterToIndex]=True\n",
    "                    charNo += 1\n",
    "            except:\n",
    "                tempMatrix[charNo][0]=False\n",
    "    \n",
    "    return tempMatrix"
   ]
  },
  {
   "cell_type": "code",
   "execution_count": 10,
   "metadata": {
    "collapsed": false
   },
   "outputs": [],
   "source": [
    "# lets do little visualization\n",
    "\n",
    "# generating new string\n",
    "originalString = string_generator()\n",
    "# print originalString\n",
    "# mutating the same string randomly\n",
    "prcentageMutation = random.randint(0,100)\n",
    "mutatedString = mutator(originalString,prcentageMutation)\n",
    "\n",
    "# genearting 2d matrix for original string\n",
    "originalStringMatrix = giveWordmatrix(originalString)\n",
    "# genearting 2d matrix for mutated string\n",
    "mutatedStringMatrix = giveWordmatrix(mutatedString)"
   ]
  },
  {
   "cell_type": "code",
   "execution_count": 11,
   "metadata": {
    "collapsed": false
   },
   "outputs": [
    {
     "name": "stdout",
     "output_type": "stream",
     "text": [
      "Original String\n"
     ]
    },
    {
     "data": {
      "image/png": "[encoded data removed]",
      "text/plain": [
       "<matplotlib.figure.Figure at 0x7f8580193d50>"
      ]
     },
     "metadata": {},
     "output_type": "display_data"
    },
    {
     "name": "stdout",
     "output_type": "stream",
     "text": [
      "Mutated String\n"
     ]
    },
    {
     "data": {
      "image/png": "[encoded data removed]",
      "text/plain": [
       "<matplotlib.figure.Figure at 0x7f85802fde10>"
      ]
     },
     "metadata": {},
     "output_type": "display_data"
    }
   ],
   "source": [
    "# visualizing original and muataed string\n",
    "print (\"Original String\")\n",
    "pyplot.imshow(toimage(originalStringMatrix)) #showing first image\n",
    "pyplot.show()\n",
    "print (\"Mutated String\")\n",
    "pyplot.imshow(toimage(mutatedStringMatrix)) #showing first image\n",
    "pyplot.show()"
   ]
  },
  {
   "cell_type": "code",
   "execution_count": 15,
   "metadata": {
    "collapsed": false
   },
   "outputs": [
    {
     "name": "stdout",
     "output_type": "stream",
     "text": [
      "____________________________________________________________________________________________________\n",
      "Layer (type)                     Output Shape          Param #     Connected to                     \n",
      "====================================================================================================\n",
      "convolution1d_7 (Convolution1D)  (None, 100, 64)       12160       convolution1d_input_4[0][0]      \n",
      "____________________________________________________________________________________________________\n",
      "maxpooling1d_4 (MaxPooling1D)    (None, 50, 64)        0           convolution1d_7[0][0]            \n",
      "____________________________________________________________________________________________________\n",
      "convolution1d_8 (Convolution1D)  (None, 48, 128)       24704       maxpooling1d_4[0][0]             \n",
      "____________________________________________________________________________________________________\n",
      "flatten_4 (Flatten)              (None, 6144)          0           convolution1d_8[0][0]            \n",
      "____________________________________________________________________________________________________\n",
      "dense_10 (Dense)                 (None, 64)            393280      flatten_4[0][0]                  \n",
      "____________________________________________________________________________________________________\n",
      "dropout_4 (Dropout)              (None, 64)            0           dense_10[0][0]                   \n",
      "____________________________________________________________________________________________________\n",
      "dense_11 (Dense)                 (None, 32)            2080        dropout_4[0][0]                  \n",
      "____________________________________________________________________________________________________\n",
      "convolution1d_5 (Convolution1D)  (None, 100, 64)       12160       convolution1d_input_3[0][0]      \n",
      "____________________________________________________________________________________________________\n",
      "maxpooling1d_3 (MaxPooling1D)    (None, 50, 64)        0           convolution1d_5[0][0]            \n",
      "____________________________________________________________________________________________________\n",
      "convolution1d_6 (Convolution1D)  (None, 48, 128)       24704       maxpooling1d_3[0][0]             \n",
      "____________________________________________________________________________________________________\n",
      "flatten_3 (Flatten)              (None, 6144)          0           convolution1d_6[0][0]            \n",
      "____________________________________________________________________________________________________\n",
      "dense_8 (Dense)                  (None, 64)            393280      flatten_3[0][0]                  \n",
      "____________________________________________________________________________________________________\n",
      "dropout_3 (Dropout)              (None, 64)            0           dense_8[0][0]                    \n",
      "____________________________________________________________________________________________________\n",
      "dense_9 (Dense)                  (None, 32)            2080        dropout_3[0][0]                  \n",
      "____________________________________________________________________________________________________\n",
      "dense_12 (Dense)                 (None, 64)            4160        merge_2[0][0]                    \n",
      "____________________________________________________________________________________________________\n",
      "activation_3 (Activation)        (None, 64)            0           dense_12[0][0]                   \n",
      "____________________________________________________________________________________________________\n",
      "dense_13 (Dense)                 (None, 64)            4160        activation_3[0][0]               \n",
      "____________________________________________________________________________________________________\n",
      "activation_4 (Activation)        (None, 64)            0           dense_13[0][0]                   \n",
      "____________________________________________________________________________________________________\n",
      "dense_14 (Dense)                 (None, 100)           6500        activation_4[0][0]               \n",
      "====================================================================================================\n",
      "Total params: 879,268\n",
      "Trainable params: 879,268\n",
      "Non-trainable params: 0\n",
      "____________________________________________________________________________________________________\n"
     ]
    }
   ],
   "source": [
    "# defining model\n",
    "\n",
    "# model2 will take original string\n",
    "model2 = Sequential()\n",
    "model2.add(Convolution1D(64, 3, border_mode='same', input_shape=(100, 63,)))\n",
    "model2.add(MaxPooling1D(pool_length=2))\n",
    "model2.add(Convolution1D(nb_filter=128,filter_length=3,border_mode='valid',activation='relu'))\n",
    "model2.add(Flatten())\n",
    "model2.add(Dense(64, activation='relu'))\n",
    "model2.add(Dropout(0.5))\n",
    "model2.add(Dense(32, activation='sigmoid'))\n",
    "# model2.summary()\n",
    "\n",
    "# model1 will take mutated string\n",
    "model1 = Sequential()\n",
    "model1.add(Convolution1D(64, 3, border_mode='same', input_shape=(100, 63,)))\n",
    "model1.add(MaxPooling1D(pool_length=2))\n",
    "model1.add(Convolution1D(nb_filter=128,filter_length=3,border_mode='valid',activation='relu'))\n",
    "model1.add(Flatten())\n",
    "model1.add(Dense(64, activation='relu'))\n",
    "model1.add(Dropout(0.5))\n",
    "model1.add(Dense(32, activation='sigmoid'))\n",
    "\n",
    "# both model merges \n",
    "merged = Merge([model1, model2], mode='concat')\n",
    "# final model will decide final result\n",
    "final_model = Sequential()\n",
    "final_model.add(merged)\n",
    "final_model.add(Dense(64))\n",
    "final_model.add(Activation('tanh'))\n",
    "final_model.add(Dense(64))\n",
    "final_model.add(Activation('tanh'))\n",
    "\n",
    "final_model.add(Dense(100, activation='sigmoid'))\n",
    "final_model.summary()\n"
   ]
  },
  {
   "cell_type": "code",
   "execution_count": 9,
   "metadata": {
    "collapsed": false
   },
   "outputs": [],
   "source": [
    "# compiling model\n",
    "final_model.compile(optimizer='sgd', loss='categorical_crossentropy',metrics=['mse'])"
   ]
  },
  {
   "cell_type": "code",
   "execution_count": 13,
   "metadata": {
    "collapsed": false,
    "scrolled": true
   },
   "outputs": [],
   "source": [
    "# file to watch intermediate results\n",
    "testFileOut = open(\"intermediate_results.txt\",\"w\") \n",
    "\n",
    "# repeate for 5000 iterations, you may change this\n",
    "for times in range(10000):\n",
    "    originalStringArray  = [] # to keep original strings\n",
    "    mutatedStringArray = [] # to keep mutated strings\n",
    "    percentageSameArray = []\n",
    "    response = [] # to keep percentage simillarity between original and mutated strings\n",
    "    print times\n",
    "    \n",
    "    # every time new 10000 strings and their mutated strings are generated and kept in RAM\n",
    "    for batchOf in range(10000):\n",
    "        # generating origianl string\n",
    "        originalString = string_generator()\n",
    "        #randomly deciding percentage mutation\n",
    "        prcentageMutation = random.randint(1,100)\n",
    "        #100(stringSize) - mutation = percentage simillarity between original and muatated string\n",
    "        percentageSame = 100-prcentageMutation\n",
    "        percentageSameArray.append(percentageSame)\n",
    "        #generating mutated string\n",
    "        mutatedString = mutator(originalString,prcentageMutation)\n",
    "        \n",
    "        #generating original string matrix\n",
    "        originalStringMatrix = giveWordmatrix(originalString)\n",
    "        #appending original string matrix to originalStringArray\n",
    "        #after 10000 loops, originalStringArray will be having marix for 10000 original strings\n",
    "        originalStringArray.append(originalStringMatrix)\n",
    "        \n",
    "        #generating mutated string matrix\n",
    "        mutatedStringMatrix = giveWordmatrix(mutatedString)\n",
    "        #appending mutated string matrix to mutatedStringArray\n",
    "        #after 10000 loops, mutatedStringArray will be having marix for 10000 muated strings\n",
    "        mutatedStringArray.append(mutatedStringMatrix)\n",
    "        \n",
    "        #response vector is having %simillarity  between original and muatated string\n",
    "        #after 10000 loops, response will be having % for above geenrated 10000 original and \n",
    "        #corrosponding mutated strings\n",
    "        response.append(percentageSame)\n",
    "        \n",
    "    if times%1000 == 0:\n",
    "        # at every 1000 iteration it will dump output to testFileOut; this is to see progress of learning\n",
    "        #converting originalStringArray having 10000 strings to numpy boolean array\n",
    "        originalStringArray =  np.asarray(originalStringArray,dtype = 'bool')\n",
    "        # changed nothing in reshape; precautionary \n",
    "        originalStringArray = originalStringArray.reshape(originalStringArray.shape[0],originalStringArray.shape[1],originalStringArray.shape[2])\n",
    "        \n",
    "        #converting mutatedStringArray having 10000 mutated strings to numpy boolean array\n",
    "        mutatedStringArray =  np.asarray(mutatedStringArray,dtype = 'bool')\n",
    "        # changed nothing in reshape; precautionary \n",
    "        mutatedStringArray = mutatedStringArray.reshape(mutatedStringArray.shape[0], mutatedStringArray.shape[1],mutatedStringArray.shape[2])\n",
    "        \n",
    "        #converting respose vector to categorical \"one hot encoding\" \n",
    "        #when we use categorical_crossentropy as loss function, converting to \"one hot encoding\" is must.\n",
    "        response = np_utils.to_categorical(response,100)\n",
    "        \n",
    "        # training\n",
    "        final_model.fit([originalStringArray,mutatedStringArray],response,batch_size=10000,nb_epoch=1, verbose=2,validation_split=0.2)\n",
    "        # getting probability for intermediate inspection\n",
    "        prob =  final_model.predict_classes([originalStringArray,mutatedStringArray],verbose=0)\n",
    "        \n",
    "        # writting to file\n",
    "        for eachNo in range(0,len(list(prob))):\n",
    "            testFileOut.write(str(prob[eachNo])+\"\\t\"+str(percentageSameArray[eachNo])+\"\\n\")\n",
    "        testFileOut.flush()\n",
    "    else:\n",
    "        # When in pection is not required\n",
    "        #converting originalStringArray having 10000 strings to numpy boolean array\n",
    "        originalStringArray =  np.asarray(originalStringArray,dtype = 'bool')\n",
    "        # changed nothing in reshape; precautionary \n",
    "        originalStringArray = originalStringArray.reshape(originalStringArray.shape[0],originalStringArray.shape[1],originalStringArray.shape[2])\n",
    "        #converting mutatedStringArray having 10000 mutated strings to numpy boolean array\n",
    "        mutatedStringArray =  np.asarray(mutatedStringArray,dtype = 'bool')\n",
    "        # changed nothing in reshape; precautionary \n",
    "        mutatedStringArray = mutatedStringArray.reshape(mutatedStringArray.shape[0], mutatedStringArray.shape[1],mutatedStringArray.shape[2])\n",
    "        \n",
    "        #converting respose vector to categorical \"one hot encoding\" \n",
    "        #when we use categorical_crossentropy as loss function, converting to \"one hot encoding\" is must.\n",
    "        response = np_utils.to_categorical(response,100)\n",
    "        # training\n",
    "        final_model.fit([originalStringArray,mutatedStringArray],response,batch_size=10000,nb_epoch=1, verbose=1,validation_split=0.2)"
   ]
  },
  {
   "cell_type": "code",
   "execution_count": null,
   "metadata": {
    "collapsed": true
   },
   "outputs": [],
   "source": [
    "# to save model\n",
    "# final_model.save_weights(\"string_matching_refined.h5\")"
   ]
  },
  {
   "cell_type": "code",
   "execution_count": 18,
   "metadata": {
    "collapsed": false
   },
   "outputs": [],
   "source": [
    "# to load model\n",
    "final_model.load_weights(\"string_matching.h5\")"
   ]
  },
  {
   "cell_type": "code",
   "execution_count": 35,
   "metadata": {
    "collapsed": false
   },
   "outputs": [
    {
     "name": "stdout",
     "output_type": "stream",
     "text": [
      "PQSPUK8N2U23QI6TIC0QA6OQ61SKT8Q5GFCYZM9LXJD7CFPTOTFRB59Z8SKTCXFLNXZ5P7U0ZR5EAUAKC3R4DY48RWOB8GFWIMKI \tPQSPPK8X2Uo3QI6nQS0aA6OP61SKT8Q5tCunvt9LvJD7CFPTOTJRB59B8SKuCYFLNXe5PnUZZR5EAUGbC3R4DYwlReOB8GFWKMKI \tPredicted:\t67 \tOriginal\t64 \t Levenshtein Distance\t73\n",
      "8TWTZZGHOPV2BMVI0MOTDPYSYQ0WRVADDY60PDLDNORA6NF4TXE9QY0SPXPXD37A5I3PH7NTVLQQGETNK27ZVSD2UJC3P8HU0Z8V \t8TWTZZGHOPV2BMVI0MOTDPYSuQ0ARVbDDY60PDLDNORA6Nj4TXE9QY0SoaPXJ37Q5I3PH7NKVLcaZETvK27ZVSD2lJCHP8HU0F8V \tPredicted:\t77 \tOriginal\t84 \t Levenshtein Distance\t82\n",
      "6HBQFWZUOAI536CS30H7CRVGXAV4OGFQGZBN80AFXONABMQTPDIMPYTBSX209EXHXBTXXIKSLNO6LX1WJ97L4JC4UC18I4ACWL2N \tIeBTFWZUyRI536CSg0H7KRVGhAVdOGfQFZBN80dqXgUATMtSPfhMlYTBoX2s9IXHXBgzXIgSONPaLX1WJI7L4wC4UCPYI4AoJL2N \tPredicted:\t57 \tOriginal\t50 \t Levenshtein Distance\t63\n",
      "FHGOE4MR7U2PLVUWMSIHX3NAA4M9YQJ12RN97LQFSJGCWGPVLMZIHFL30SEWBB50M608TOYRW0DJJHMJDZSFPA8ADGYAKTMX4UGM \tFiGOE4MtsObPLVlWMSIdXhRAA4M9oYJWxyN9crQtSJNCrDPVYpPwHFL30RhWnCE0LVk8WuYRG0DJJHYHGZSFmA8iVGZAKMFXPUGt \tPredicted:\t45 \tOriginal\t30 \t Levenshtein Distance\t55\n",
      "J1D9IVKK96L7T7BSKWEQPMH6SW3WJVLK62RIZOF6BCGX4B40QNX6AK341PPNY6FT9JXYTF56MAHQDRAXRCXWA4F3ODLMAGDC8FAS \tJ1D9IVKK96L7T7BSKhEQPMH6SW3WJRLK62RIZOF6BCGX4B4VQNXRAK341kPNY6FT9JXYTF56MAHQDRdXRCXzA4FpODLMAGDC8FAS \tPredicted:\t81 \tOriginal\t92 \t Levenshtein Distance\t92\n",
      "LPNWRRRJJNVD7R18J1QIC2ONY8P6XVC8NQ2VCF7ZL3FBJ1B8TA3IPTEN6DOSIB0R01YLG9YGXN3A01TRDJUAC3XAD8VWY2II7JKP \tLPNWRRRJJcIART18JPQIC2ONV8PiXVs8NQ2VCF7ZL3FBJ1B8TA3ILTPN6DOeIB0R01YLG9YGXN3rZ1TRDJUAC3XAD8VWY2II7JKP \tPredicted:\t80 \tOriginal\t82 \t Levenshtein Distance\t87\n",
      "ZS3GZ8YIRQ9EROA72VWT8SXIOWAX8XY8ZOIEYFNQ8VF2VFKZ0NYOIVI9ZDZLLWR8ZLY1RZGKOUR4VPSKK49EE2VYFT645CS6PTM3 \tZS3Pc8YfIQ9EROz72VWT8rXIOWAktXK8ZOJVpFyQ8VFqymKZ0NYHIKl9qUZLLHa8ZLY1RqfKOUR4VVSKKJiEE2VHFT64YCs6PTM3 \tPredicted:\t60 \tOriginal\t57 \t Levenshtein Distance\t71\n",
      "3ISB3ETECAJPNSH8RE0LD9FWEU3ZTGDDCYJW6Z9NSMP7LBPFBKZ0PP84YXZYGRYP87EDT5XJ4MJJRYPE66V2YDJZWWL2ARZCUE5S \t3xSB3ETECAJPNSH8RE0LD9FWEU3ZTGDDCYJW6Z9NSMP7LBPFuKZ0PP84YXZYGRYPg7EDT5XJ4MJJRYPE66V2YDJZWWL2ARZCUE5S \tPredicted:\t89 \tOriginal\t97 \t Levenshtein Distance\t97\n",
      "IDV3DVC0V1N9BQAZ9KZX6I7PGK0H7NAAZE4MBSNMU2R7NR8UCVLITNK32RPV8OF6XH2BOZPHUCJ9Z64DTZFWBIAHWWI7C4UDPO0J \tIDVMDRaOQ1N9BEJktKQX6IyJGT0Q7geAxVmMBLNZURMCNR8UCVOITVKI2RPu8sy6XH2BOZPHUCGLZ64DTaFWeMAHWxI7CgNhYO0i \tPredicted:\t57 \tOriginal\t42 \t Levenshtein Distance\t58\n",
      "FF6QQW9F0MZ9WYFOFXAT67X1M95KGCSEBN3A9NSRPRVB9WVPCL6222GJ4U8YM8JLFCDR64JFC5A9E3L748JF0N0GWRKHD2Y1X1YE \tcQ6KbW9O0MZEWNFoFXAwK7z1W9mUgvvuuGDP9uSMDRjUBWtCCLG2laGJ4CweT8mJfxDF6yJFBpArdVLgiQJO0I0GzRKYDIoFXLYG \tPredicted:\t26 \tOriginal\t11 \t Levenshtein Distance\t33\n",
      "29SQAMPYYT1BAD5XV60R42L8X6JSZO3BC4PAOEW3SCCRANZS8MCF7B1KQP1GV7HP49Q7IQ9WZFYYNB1SXWF96SEJMV4S17USL72O \tO9hQpwPYYTOSAD5XTwwb42izGHltZy3qCPMBOHo3SCCRANal8fUr7xqEjP1GztNO4Ci7IY9fZFiYJsZTXaH9bKErMdxS17UchKlF \tPredicted:\t26 \tOriginal\t2 \t Levenshtein Distance\t44\n",
      "BP627INOTB0EX2T82M83N0U8N9NYDHLO3IU7UJR6J1UL7KPNF002GMP0DQ47USNCXBPWTAY0T8R8BF6C47XT572Q6DHUE1R8M34U \tBb6U7KuOml0EOktuTx83N0RbV9JYDDLOSlbXYiR6JzeL7SPNi0nLgMP0dQ4PUSNCXKPFPAYtaCW8xF6W47sA572kLDCUEblqMq4R \tPredicted:\t42 \tOriginal\t25 \t Levenshtein Distance\t52\n",
      "TCMWQPKDPV9CU3H6OWB7F6ZHOASFY0GO79QDRDOG6Z0DQMHVMQ1GQY1DWR21YULLWQJ6YXCJJZYI39EEH8Z8CEQZ4202RHA6BJNJ \tfCMWoCKbPV9CUCHNOWHCFIvqOASFY0oO7JdzZDOv6Z0WIKHVROxGQYUDWRR1SXLLWQJiYTCJmZfi3YzEomZ8CYQZK202lHCQBJWF \tPredicted:\t53 \tOriginal\t41 \t Levenshtein Distance\t59\n",
      "Q2CX10WJOJME64QLXMTYE1HFCDKEK41RF7YOZ6VE2X6TLKV6ECA76FF7RYPZI4A4JZ4HERR7SO7Q5MSKG56DNGF58ZNHWZG9DA37 \tQ2CX1iKJOJME64VhXMTYE1HFCDKTK41RD7aOZ6VE2X6TIKV6ECA76nF7pYPjI4A4WZ4mEOR7SO7QhMSKGt6DNGFO8ZNHWZGjDA37 \tPredicted:\t70 \tOriginal\t78 \t Levenshtein Distance\t82\n",
      "DFOJGKEG61NLG2U5H42ST1JXFOS3BS2A3KVFX3GSK996Y2XMCW1X7TNV1SW1YCVPFFROAPFMZ8VJ2NH0MNO6IVQGPEJJ35V5BJ3M \tDFOJGKEG6XNLG2UXY4dlT1JXFOS3BS2A3KVFXWGSK99SYdXMCW1X7TNVGSWOYdVPFFROAPFMU8VJ2NH0aNO6DVQGPEJJ35V5OJ3M \tPredicted:\t74 \tOriginal\t83 \t Levenshtein Distance\t85\n",
      "3OPG6WY2X0JNBVLWIAO4Y6SUKDF61FHATSFG08UIF98K2VJTE2J935R9UAEUB6JHGIZK7ZB2UQMK9RYKIUNRX48W096IYQS0ZJ23 \t3lveyWY2XFJNBULfIAB4Y6SgerFJeFHtTHFqxjUCF9mLfVJTE2b93qRiKARUBuJTGIZK7ZB2wnMKiSYKeUNRXnhu0e6IYQS0ZJL3 \tPredicted:\t38 \tOriginal\t53 \t Levenshtein Distance\t61\n",
      "7AFNW6454V68ENHZE5RJ212GM1TVCQOLFAXJSMDXBT6FZFXU6N5JGTKON1K3IVT53C7LUFS8SEFCM3KEMZVJ2HJQU8358092OUN7 \t7pFFW645Ixt8ENHuP5RJ212rMYfVWQpdFAXJSMDXBT6FZcXUSNdxGTVJNtKAjVaZ3C7VqFn8bEKCMPKjMZVKXCGYA8sxqw92GUN7 \tPredicted:\t49 \tOriginal\t51 \t Levenshtein Distance\t57\n",
      "AJN1UYKHFM8VSFZ31VL6W78YJ453PR8T3ILELPN9R8RJXY3Z9ZK46BJV211XETXT3LH6E091EBR87K38XHU43JUC50U9BM6CZ0UI \tKONvbBmQFM8VSucE1VUyW78YJ4qQPR8HgfkOUyNvhRRzXNZX9pKW6Bwq2H1XEOXTfLsfEHh1pRY87i38XHU43OUC5XU9Be6nlwUI \tPredicted:\t40 \tOriginal\t22 \t Levenshtein Distance\t49\n",
      "PLFD17T36T5S52WU63A8N5KIZDIBBDOZGNRE9PPJ4IMP4G1Y5TJ8WCOSAS23ARV53MOLCZ0XO8CVL4O3QPNZRKYOPRKMLC8DWWW7 \tgSFD17K3wpcS52WDJ3A8NQKIZDIBBDmBGNRE9ZeJ4TMP4G1H5yJFxCFSMXU3ARYluMOLCt0XsbCZL4OLQzNZlKYXBaKACCUDWWD7 \tPredicted:\t57 \tOriginal\t51 \t Levenshtein Distance\t61\n",
      "MKMYM21SBKUFM4I2FNO65MBOSFZZSBI0HA8RBC7STSKKC66CM5PCCDHNLCPNFK8OV275APDA2SP2U2GKBD1G95BUR0G9YB94A1JB \taKlYZz1SBKYFV4u2nVOEdMBOfFZZvJc0dACRBrXzUiDaC6oXM5POCiJDmdPNFF8yw2sIQPDg2KAMU2DKtfqG9HlURjO9yrloa1cc \tPredicted:\t18 \tOriginal\t23 \t Levenshtein Distance\t46\n",
      "DWD90KYW7TVXPVPLWIO5KNX8EBGG7V1AKJRT5TVNQ5GVYYANV44ZGNJE3MRY7LV09O9IS6RJUNDNFPVD9RQ8D0L899AXVLJ0AU3T \tDWY9lUYUwyVHPVPLJIOMbAX8EQGGZQ1AKJRw5TVNQugyYNANj4PMGNJP3MIY7yV09s9IS6RyUrsNxPVD9IQtD0L899AXVLa0XU3T \tPredicted:\t63 \tOriginal\t63 \t Levenshtein Distance\t69\n",
      "RUMY06KTO04KS2ZW5SO5BZGEBJ8XDX6CBCW4RKL45EYRC1ZX79ZBLVSQDDHJH1IXXCV2851K9SSRF0JX51D4FGEBFRM0Z95VH8IB \tjruyFaNcOD4Km2ZN5loftZGuBdZvDXtCrFWzRcLWwQsTgzrXVhrBLVSQhRHxhyiqZCV2h5kC9JARnRJKpesxCGEgqRWUH95nHaGB \tPredicted:\t0 \tOriginal\t8 \t Levenshtein Distance\t44\n",
      "4BDLIQCR540J13J1I4IRAF4WUZX2NENTMKNPW6RPB7QTU03IVK8STMZAOT6IAZ09AX3ZWZIMZBZ4BPHRY03VMUARZ6AKUILAP3G1 \tjBSLIMCeRg0J13jEI4dRAjKWpqX2zEqTMkNPWORPB7QTU03IVp8SYUaAzwMIUZJoAXZSWZIMBNeOXPHxEr3hGUtRZ6AKUyOlP3G1 \tPredicted:\t51 \tOriginal\t43 \t Levenshtein Distance\t64\n",
      "VOGLK6U10SXNB9TANXWX0XE1CXNAM4C2Q4QJSN8J2NCP4HDSAAZFDSW0M3WJS0YJAG5YKNQXC9B2DR3FTQ82K0SHTIPQF717VL9B \tVLELd6UTBSZEBETJNBMp0WECCXNnR4DWQZYMSNaO2KqkJRDSoAAFDvWTO3WJS0YegG5YjuQXRlBlCM3FjO82K0SHTMPWK71jyLfX \tPredicted:\t57 \tOriginal\t25 \t Levenshtein Distance\t48\n",
      "8BT6BC24WKN3LZC51ECPGL4NY5OBTB63IK1UYODFMUUA8E9YJWCW78KAL1S4N65P2L362ROYNI0OM9K9V5GOZIA0XRW6VH0K5DGP \t8hT6BC2XWKNMLZXBCEaPGL4NB5OBTB6pIK1UYONFMUUJGEUZJWCW78KAL1S4N65P2L362ZOYNI0Og9K9V5pOzIA0XsW6VH0K5DEP \tPredicted:\t73 \tOriginal\t78 \t Levenshtein Distance\t82\n",
      "D43F6EEBEKCAHAK6IVS13O520GCE61L3I4HQC6EUQLYL55GKE7INJOC9YYBA02WUAV12U88HOJIVCEO2ECO667A094XFZY2EHBLS \tDu3AHFXhteKJLZK6ZhIM3W5I0WMR61ntinQQMQcRQLmL5ZGVEoIWpOf9UYSA02TqNNn2UjKHOJOVfZC2EhO667NE9TXFJDoxbhgS \tPredicted:\t45 \tOriginal\t1 \t Levenshtein Distance\t47\n",
      "3P9U58G54E8QHXIMRWRI26ZQRLWTRIZDOAUVW5J0TOATSDNQ8U2AL06C8OIZJRV2TBWD9FBLCFPOICOP2LBNIK4LTQBDLFT6LOKE \t3YhyEFGZLN8QHbzgRREIyTxGDNwTRKZXMHUVhDyrmuATCqCQVUEAruxy8BBZPswwTSWDqqILkFPOeCOTELBSIrLZTQLPLFn6LzKE \tPredicted:\t0 \tOriginal\t11 \t Levenshtein Distance\t36\n",
      "6HMQ5CTZRIMBZLR2I3MOOOTFC016GTL1DHQ0N7G6IOK8S1OZXRZ0W6N2SF7EBBWYY9QOEKEITZU1FSRLG5OYMU84BXAJ706SOJ39 \t6HMs5CTZRIMCZSR2IVMsONTrv016GTLZzHQ0N7k6UQKJSlOZNRZgW6N2oFVEBBWYd9xOEsEITZU1FSRLG5JHMU8kBXAJR06iOJ39 \tPredicted:\t67 \tOriginal\t64 \t Levenshtein Distance\t73\n",
      "BFU2QPG4GS8YHDEXT17W4QYOUIXME9PHY3FRRDJR4EOUJ0JC6NZDW39MMLDH41N18BG5KHN7LIEDIZF94JNHVKUVEEJ7ZKOH8D2B \tBFU2QPG4CSgYHDEXTq7W4QYOUoRME9PHY3QRRDJR4EOLJ0JC6NZDW39MILDH41N18BGeKgN7LIEDIZF94JNHVKjVEEJMQKOH8D2B \tPredicted:\t80 \tOriginal\t85 \t Levenshtein Distance\t87\n",
      "FMUKTRZHZZXQTEOAS8OMR3DMLG4GZV6ZY8LOOO61SNZNEB4Z0W0EU0ZIQNTOI1ZLIAAR166Z14CPDPEWL7RZBIU7J7XQ21HJABK7 \tFMUKTzZvZZXQEEOAHeQMF3ZxLx4Gku6ZeZwKCO6JSNzCExIL0WkEjvZIQCLZr1ZLIIATE66Z14MrtPEWH7QZjIU7JfdQ21OJsBK7 \tPredicted:\t57 \tOriginal\t45 \t Levenshtein Distance\t58\n",
      "CGEGG1SLUOE2X3II53JDN75HCTOO4983NX9T6R0296Z8FVEM0LBQISJ9H3KNP7ZDPN7XII9P3KYTVG6E0HW2JBJTXKPO3TWH4H6R \tCGvzGdcuBJonXMIIsGokFC5yCzOR49eJNkjg6bd2f6o8FVUM0LBQDqd9H3MNZ7ZgkmdGIIRP3rvTmB6Y0HcHJXJSXVrb3WCCZH6R \tPredicted:\t31 \tOriginal\t17 \t Levenshtein Distance\t43\n",
      "RR5I9995MG3LVT5T33EGOBHGD51OJDYO6FGUY0FCWIPAHGPRVM5VQQGUSCPJO9BBJ6AE1NT7F7NQWK3NYN5WEU56WJQJ9VHLA1P8 \tRRWI999ZMGCLVTZTlEfLOBLGgcROTDfKDFGUj0ACuaPADGPRVa5VnQnUdvAmO9BcJ6AEeNNwyhNGWI3xYqRqGUGQWJQJ9jHLAUue \tPredicted:\t35 \tOriginal\t35 \t Levenshtein Distance\t52\n",
      "AIMGFG18AYDGHU5817MWH26GLUP3HYY0HLNLBKBCYFGHB987X6P5R27OH3GT3Z6GZG4YM6TCR7QD6WAEQ9CM93YSKS1QAM7CRG88 \tAIMGFG18AYDGHUHL17MWH26FLUP3HYY0HLNLBKBCYFGHB98cX6P5R27OH3GT3Z6GZG4YM6TCR7QD6WAEQ9Ct93YSZSIsAM7CRG88 \tPredicted:\t92 \tOriginal\t92 \t Levenshtein Distance\t92\n",
      "6Q66RDRQABBVY9160XD88PVQP7G1PCL2A4FE6E0CGT7ORF4J3HL9YSSV9IUWZMDB0U2NULIXMJ0UZ2UNL5FBX8DFXGH56RP8ZXM6 \twP66RDVCAABVTv1ccuMo8sdQj7C1fRL2k4cEaE0kGTIrRSes3Hg9Ytuh9RLWZMDBmoAJUFIYMA0UZ2UUL5QqXXDFXKvwAROOssy6 \tPredicted:\t38 \tOriginal\t12 \t Levenshtein Distance\t45\n",
      "PDF0R39DFQKQUZFXHSDI1TL5V7SROH3WUOT6KJU30K2VEXUIPC0E1QFYO6PAV8NGC0O9KQM9ALGK6CZE0QJZRQQZK4DF8MUMKPAR \tPDFBG39tFQKzUZFXHSDk1TL5S7SsJH3WzOTvKSK30K2CEXUIPCEE1QFYOGPvVXNTC0O9KQKklLGK6qZE0QJZaQQZKagF8bEKKrAF \tPredicted:\t64 \tOriginal\t63 \t Levenshtein Distance\t70\n",
      "EGF4CEFGP0BM7HQXEKYKW77N8AXP2S44VWKO336BBUW72N87L1CUULFZKQXEKS8VH4RFU4YTIQZ125XFISOZ1F6VL9AWL30WNDKL \tvQxoCXFGV0BS7HwXXKoKW77NzACP2Wt4RdKO336BmUp72N87LpXPiLFzCQksKxKJnuRFf4sTxQZiJ5XFaCZZSF6gLGoxXcfJNwHL \tPredicted:\t42 \tOriginal\t21 \t Levenshtein Distance\t52\n",
      "SJNTIM6I33T73W96GB92B2KO0QYNAAXOV03XLNECQP7AGVIATMZ6JDFZALL9RZVI1YMFUOBEZAG0OVPRLMOSAOCNNOV3ZVP1ZD1W \tIJNTIM6I33c73W96GB92tSKO0QRNAAXOV03XLNECQP7AaVIATMZ6JTFZALL9RZVIHYMqUOBEEAG0ODHRLMOSAOCNNOV3ZVP1ZD1W \tPredicted:\t85 \tOriginal\t85 \t Levenshtein Distance\t88\n",
      "E8JVFT1SJSITKF2NX95WTSRRK6IVQL6SNI73C19Q88DE487NJEVPL17J1QBBNQB1XC3AP4Q9AB1FOMCTRUJG7UKV93FA3V2W7VY4 \tE8JVFT1SJSIZKF2NX95WTlRRK6IVQL6SNI7qC1XO88DE487NJEVPL17JmQBBNQB1XC3AP4Q9AB1FOMCTRUJG7UKV93FA3V2W7VY4 \tPredicted:\t93 \tOriginal\t93 \t Levenshtein Distance\t94\n",
      "Q3S4L09J5341BCZPUG6KQTUZ9E9VGBU3EFHEHJQ011PBNXJJ1244IWQFSIT8G8N2ZNE1MAZ4XVGYJLT4AX9XIS0YP23SUL164UOV \tQ3S4v09J5341nCZPUG6KtTUZ9E9VdBK3EWHEHJQ011PBNnJJ1244IWQFSIT8G8NSZNE1MAZ4XVvYJLT4HX9XIS0YP23SUL164UOV \tPredicted:\t85 \tOriginal\t87 \t Levenshtein Distance\t90\n",
      "1UB1QONKK9L956ICGAJLXRLM6YN88RIBUHWLTW132PJ21C28ZOWMJ0SLAI49FAKM5XJAZ8HUJBVMH0M4AUEGVEG4QUMZBTDXZUBV \tVUF1OONKY9L95saCvEJeXDjM6Ks88IIBTgWzHW132IJ2Eob8fwYBtTSrAI49FANv5XJAZRHWJCzNH0C4AUEGeEc4QSMZBTPlZUtX \tPredicted:\t58 \tOriginal\t46 \t Levenshtein Distance\t56\n",
      "8BBZOP76MXF7O2VXF0BHME2IMCSB8MQR1YM4VGMEY43I8I20FO65UH01TFIHKZD6RSVHSILJ970X1EZOAD4GO0TGSSQN0GR7LF61 \t8GIZaV7QMXF7h2SlFVydMcgIrCJwxMQd1YyxVeMEvJ3Z8Y20qSgCtmjwTRlHpKD6RSVHCTLJ970X1EZcUXALs0ydSSQk0GRjLD6q \tPredicted:\t38 \tOriginal\t32 \t Levenshtein Distance\t43\n",
      "930R6L5SF6HOUFVKRGM915C6SQ9VDLQP3GABPLLWF2CRK0D7MU3K4517YSSIITXGY4OQXGNFP7V0ZD8UCBBEMJ0V9AX3Y62D4NDN \t930RBLxfF6HOUFVKRbW915S6SQ9VDLQP3GhBPLLWFJCRK0D7MUfK451EYRSIITXGY4OQXGNFP7VWZJ8sCBBEMJ0V9AX3c62D4LDN \tPredicted:\t73 \tOriginal\t81 \t Levenshtein Distance\t84\n",
      "DBGLKXJ9NS2X4SU62E02SLT0RRZBB9CV39QFNLCK40EZYOS6A6D8YYR4C1O77075T5OYVINCXH03X5PFTCAMQ5GFY1BF8QJAUZY2 \tLBQdKdI9NzdXnSg62EkMrLj0RTZFGuAS3AQjNLCPU0EZDOT6AWASIYaiCFOw7w75x5IXgIQCbH03NtwFTCAZZFGFbypF8IrAUEs2 \tPredicted:\t45 \tOriginal\t19 \t Levenshtein Distance\t47\n",
      "LXEUL24SRW0WA2H1VTQH6WHV7WPVD37G28GN4XRPRIU4DCX7PW5ZQA1GZECKKWTCO7JP7LIDE3LGMR3F0Y1HV8FX7RZ068OE9TGQ \tOnYULnTnRW0WA2H1VaQHwWHVnWPxD37aJ8SN4XdPHpr4HCX7PZ5ZQAtGIhCKKWTJgmJP7LIxE3LbMR3mnYaHVTij7RU0c8OZ9TGK \tPredicted:\t51 \tOriginal\t50 \t Levenshtein Distance\t64\n",
      "BCF3A7GRQ95ZJPFQWJ177VIXD90Q9WI2VUZCISBK2JE3ZBXLXSGN0DV88BO427NO3GV61AGCJ90OJAUB66MQ428HT2KG4EOG777K \tBCB3A7GRL95ZJMuQWJW7mVHXt90Q9WI2VyZCxfBK2JEkZaXLgPGNPFV8tBR4OiNf3fVnFTGMJ90OJczB6lxf4CEHT2KG4NOGU77Y \tPredicted:\t51 \tOriginal\t59 \t Levenshtein Distance\t62\n",
      "DOIUH99EQ3H71MVRXV0X5XBEOV1QD1H156WT211ODAYYWQFE9J8413XUREFSJWLFZPO1HREJ2MDW1BOEKPELYC3OAQG53IZMT1H7 \tDaSUH99EQ3HV1MqRDV0X5wBEOV1QD1EwmeWsf1GOLAYYWLdE9J8T13XtRmFSJqGFZPO1cRvJ2MDWSBOuKPvLYGKOASGs3IpMT1Ht \tPredicted:\t53 \tOriginal\t63 \t Levenshtein Distance\t67\n",
      "5PENR2W0KIW8146QQGSTLZ5U2TH5CC9RJ2N8PE388QNWG24DEV6WN83HYLVC7255DDZFJ0EPFL7BCVMN8KUAHY262YYFP4F5FG91 \t5bEJn2W0RIY81O6hQGSToZTU2TW5ZC9RJ2NdPE388QzWGC4DlmdWN8UHILsS7255DDZbJ0EPFL7BCiMaVKkQHY2U2YYFP4FoFGW1 \tPredicted:\t63 \tOriginal\t60 \t Levenshtein Distance\t71\n",
      "XDLOXVYJNSU1OPDC98FCJFI9AZLAZGWKFOLOOYZ461N03NM9OCB9SE82WIB1GRA573LPYH1RBNXDEZZRKML7JKGNLZCISTXON37S \tXDLOXVYJNFU1OADC98FCEeI9QZKAnGWuVLmoUYE461NH3UrqtgB9TE82WIB1tBW573Ledi1lBNNDEZZRKszSJKnNkWHzSTVON37s \tPredicted:\t61 \tOriginal\t50 \t Levenshtein Distance\t63\n",
      "T83OLHQHIFZENSVL5INSWTKTHR46LJC7K87J1QXHQSR7IJKQP7DPISGID11CEE4CG814M2VQT34GMGC3VR0KJBCBFK6MRUD24T1L \tkW3VIuQHIFZENfrhbFPSWTKlHPr6LqC7KDakMXXHQYo7IxYQP7KPbSSIDZCCEE4nZ81GMPVQH34NMGg3VC0KGBWhFY6MJUD2gH1L \tPredicted:\t57 \tOriginal\t39 \t Levenshtein Distance\t57\n",
      "UC46KAJFJPR674QO270UD0F4CPSP148UQGX11YZDJ4727KRBPM60TQD0ZNXGJHLGTQAWMGFMH01L0L3IV0LUJFZYK4EVM5BR1OJE \tUCWTNAJTJiR6twQE27YUD0z4CPSPNXtUQGGY1LZgs4NgBKRBVA60GQD0qipGwULeWQiiMPBMHcpL0L3IlHBUWPZYF4EgM5ds1OJE \tPredicted:\t49 \tOriginal\t41 \t Levenshtein Distance\t55\n",
      "BKQBGL0VR0JUPMGHCO1QFWNZ6AV6EB08BLBFWUEI0QO43BHTCY5KZMTS2AFI46LL5A2ZRCTSGR29Z3PMT8MJQ5LMI727QG64Q4EN \tBzQBGL0VR0JUPggHCo1QeWNZ6AV6EBP8BZBFTUJIlQO43BHTCk5LZMTs2Yaqz6LC5AfZRqLSGR29Z3PMTQdJQhLMI727QG64QSEN \tPredicted:\t67 \tOriginal\t70 \t Levenshtein Distance\t76\n",
      "70HQTCSE0BVOE3N1HQSPN81SYGJI1CKZ0I7RYK6GBQ3S5QA1IGOKS5EOLPGVZJNDQX0Y93RQIPOX7U0YX55VMOWG2WAOHTPUIZ2H \tfQwQTWNE0PbCEUN1HQkPD81nYGJiiuHG0QzoYKDGBn3SuQV1yGOFr5SJVRxVZeIDQX0vZepQIPOX7UQxX5VqzwxGiWKORTPElNSH \tPredicted:\t42 \tOriginal\t34 \t Levenshtein Distance\t49\n",
      "9FQBHJD97LM8C1DOOUEC8OI0VFYWYB7MNE31P06MTHEBT3KVLCGPG0FJERG7MDQIUUM9O18FYHIE8A3XKOA2YN0HWTZFIQLSE8A9 \t9LQBHJLMFLkcCFWOOUwJ8gILsFRJYB7MNEueP0qMQjEBT3KTLdGPG0FJEaGGMzQIUHM9b1QFYHIEjA3XKOAwAs0HcGyXdQLSE8wj \tPredicted:\t51 \tOriginal\t52 \t Levenshtein Distance\t62\n",
      "9LHIKP4T7YKEYZTBZYMJHPUA4ASKCHOWQFDUAYO1ZB68XRFNNG13YQQKUZ7TDQYLDSD5YQULD8MOJFUXHVT3YF18FMCI0O9QKNTP \tILaaDPaTjYKEgZTBZrGJHRrAwzSKaDiWQnNUAVO1ZBW8XRFNNG1AYQJKwZzTDMGLDoDcYNUCDtMGJkUXGiTlYK18FmCI0l9GKNTP \tPredicted:\t49 \tOriginal\t46 \t Levenshtein Distance\t44\n",
      "R849MVEQRRUPA7URP0IXI320DXR42YV05GEDC8DG2AEBFWY6ZTZVQ1GZI76E43ZTIRPHNCFO4GL5ZUM557M3H70V165QQCBSEE7D \tIGc9haEtRMUmA7UIP0JXI32MDXcLCptI5XBMH8DG2AEatsYFeqdkMcGHIArEnmiTXlPHNtFO4qL5ZWYX5BR3HD0WZ6amQloWQS7J \tPredicted:\t38 \tOriginal\t19 \t Levenshtein Distance\t36\n",
      "776ASSRSFPOTWLAO8T3EFI58X9R9OUNCTS5X1DWX45WE8FDILG7NX8ZEKVPW7LZUPJZAF2HVPCKUCUZ5889WLR74H380B3P4WAIF \tY7sATStSToeTULVO8TaESLqYXTR9OUDKTS5n1lCX45WE8FDDLr7eX8ZEZVPW7LZUPJZgniHAdEKspUZ58PiuxR7At380POd4hAIv \tPredicted:\t51 \tOriginal\t48 \t Levenshtein Distance\t59\n",
      "WUGVHOU6GQFN5XN5Y1SZJPBY101HRAVOO7HEUL0P4THGHJCJTQI86O214AG19UWN92JVFOM52RM4ITRVP8VM7R90L4I99T1P5QM9 \tWUGVHOMsGbKstXN5YHSZJPBe1p1HIuIdOPyjULRyXiHGHEtJpQIL6rXH4bGkyJMIyAMSNLMu2RQfIFRGtcOMxR9MD4IqgTOzRtRC \tPredicted:\t0 \tOriginal\t18 \t Levenshtein Distance\t39\n",
      "WOH8NT0CQ403FSJFJJ42O1A7KQ5HJQLXVE0YV9Z8B7E6JX8NHURA9JBGFRD1CE7V93I7M15R2UI3LZRO5WUDYW1J6VHUSBT1LFYM \tWoCvNT0CQf03qBJFJJZOMaAESQ5HJQLXVE0YarjDBbE6JXzAVURR9JILFRyyLE7Xsxo7Mb5RzqNMazgO5WUDyWpL6VChSBZeDFYi \tPredicted:\t38 \tOriginal\t43 \t Levenshtein Distance\t58\n",
      "XMESC4GO529WB52U9YZ6E7WGAHOLQ2VWQOCRHRDYSHSFEF7KD5WX1UJR7J8NZB76CF6UJUOATIYOZC1TC9X1FG6YVIG1M1HEMIY0 \tXMjSD4kYH29eB5UT9Yu6jeKkAHOsI2pWQiMRuwAYdQSfEF7KG5WLwUSv7lNmfEE6CBnUbhmCnvQFxSbTP9c1WZ6YDTUcM1ZeyPLA \tPredicted:\t42 \tOriginal\t12 \t Levenshtein Distance\t44\n",
      "55VM0ECNKUXMEYVRUNS2ZWDV23WQHS6IXDK3WA265CYMMQTKMR3D32BWHKOG2DDX2NXMCM8M5MC5PAQDXBS30VWNO6H2RBNDJ4RE \tMBUMrNrhKUXnhmUscASwFWMRmgAfISLeXsK3WAelLviMJKFpgD3DivuWGKBGPVYL2YWDNM8f5MG5PsQDiHZ30VWNP6Q2RBBny4xu \tPredicted:\t26 \tOriginal\t2 \t Levenshtein Distance\t39\n",
      "UYBP9ZRZS6Y0DIOUJNLNQ9FZZW6I7KUE1RFI64TBUPNXEIH2E2J45JTOICG7VSBZT57V0YQIP1E9F165XT9XVKFPF039SUK65EW2 \tUYOccZRwZvz0gIOUJNLDQ9EZec6I7KUEZvFIi4TBUPNnEujcE2bR5JTOIuGCVSBZv57V0eQIP1l9q1Z5RTUuVKyPKO39qUb65vW2 \tPredicted:\t51 \tOriginal\t56 \t Levenshtein Distance\t57\n",
      "ZJUJDGRBHQNRF4BNKWCMBWL8SZOOGCK04BAKR4PYXJO77G2UGJGX8ZGKQH0QYKKM8855DASZ228ALZF87F4TDOAGCQ7Z2DABP787 \tZJZJDGRnHPBRd4BNKxoMyWnmSjOCGCm04NAwh4PYXJJ7eIIUGJMXFZQoQgbpYsKFXvP5DANZN2MALZp87FpTwulGCQ7ZRthuPOd7 \tPredicted:\t38 \tOriginal\t33 \t Levenshtein Distance\t48\n",
      "V58EVPN0UTNFMJSK5AVZLDNYL2Y26TGGIL7ZNR5PT87XIW7QT9VAROCLYIIYIWUKVQ9G0044VJ36KPBZM09LJ705CSOU708VIXVX \tV58EVCwVdTNlMyrHgHVZLOkRv2Y2JBCiIL7ZfRQPvNgsaWkQq9VAjCskYeIYoWstXHVn004LyJHATPUrud9VJO05CSOlx0oTIQVX \tPredicted:\t26 \tOriginal\t12 \t Levenshtein Distance\t44\n",
      "HCIBZ5O2C7QRK8K7RBEH4D8SAPBY9T1E1VIDMOSHDEV8Q719ISL7BQEJBO44JVA2PRB2C5ZH9X1NSKI6KOPLCEUTK8MR0YTT31C5 \tErIBmoVnSSIGd8KvnBUK4DuSAhBpyzrELVSDMfBHtbn8h7WLYSNmBQZJBy4TxVTyKRXkH5NuOXlNQKI6qOPLhEaTTQMNaYTaonCt \tPredicted:\t0 \tOriginal\t8 \t Levenshtein Distance\t29\n",
      "1816MARW57XEBCFS475CTRHJBPU08IP1J011FYNU4AK08FD2J3VHMQ4AA227UFPQ1HZ2XPK2UZ29AOF1AV4D867FBWMT0D81YT9Y \thmzrMARFA7BanLFS4rLoTucCBbK08IPeJ0ClFONU4zvg8FZsdusANl4AA227MaeQuHSWXLvvUZL9AjS1AntY86GFuWMFdD8OYT9U \tPredicted:\t26 \tOriginal\t16 \t Levenshtein Distance\t43\n",
      "NL2ZZIAIW21YS1X3I0RR4ILQIHRR25T49YMH7V51GRGU1J2JRSGX0SGIXAEPN4WA7Q2R3ZWDOUWX7PV0OVTV60HHLVF7EYEUEJVY \tUL2LpmIIW2FYk1X3h0RR4IAQxHRR25TuhYTZ7Va1GRGU1GLJRSjX0SGIXAEEA4WAiQ2w3YWDSUWP7LV0OqTYjuHHLVFzEbEUEJVT \tPredicted:\t63 \tOriginal\t58 \t Levenshtein Distance\t68\n",
      "TH6M4DRABJF3TEN3ER51GFA0XLEB42QSGV6KONJOHGX0UFD49XNEITKSK8LBMUBJW02N8AVG5URPK8Q7PJ04214LH8L8A8JMCC8O \tTB6M4DMAoNFcTEN3ERO1xhA0ILEBR2chGVcKOBsOHVXktuD4SXNbIFKEKQLRMUBJd02NKAVGVURQKIQTci042R4LHHL8AVYMCp8y \tPredicted:\t53 \tOriginal\t40 \t Levenshtein Distance\t48\n",
      "TGN29V6I4UC6ABONHXQ037B6M2WYL8SMUANDWPX25XKBZQXXZA2MMPT7EU26XDHGTFKZ6QP4PEG4KWDYT5BXMNIVCDSLYQ7YBDKT \tTGN29V6I4UCUABONHXQ037BTM2AYL8SMUANDWPX25XKBZQXXZA2MMPT7EU26XDHGTFKZ6QP4PEG4KWDYT5BXMNIVCDSLYQ7YBDKT \tPredicted:\t94 \tOriginal\t97 \t Levenshtein Distance\t97\n",
      "U5NCTIDPL0RZBE9Q2F0ZL7XQ15XSJSRAFMWR1QRDVGHG9CF7BVIQDXNK07B52RJMNDVO87TU9XS264P1OY6UI601420KYCXS5AMT \tU5NkTIDPL0RZBa9QOFoZR7XGj5XrJSkAbMWo1QuDHGHekxHQBVdxDfNK07L52RprNuVvfURy9XS264S1OVgUs60VXcojcCoS5kkW \tPredicted:\t42 \tOriginal\t45 \t Levenshtein Distance\t58\n",
      "EVX8TN3VD1Y7S52OBN038L6TN5L3RUBCNTD3Y0K1HP0HXEWXUFED5LCY0GNTLNDUXND7SDH92PO3VXIOTZ621COGRP6JUGY5I4ZM \tZuk8TN3VD1j7u52YAN038v6TKqL3RUBCqTD3Y0K1HP0HXEWXUFEshLCYcwNTLNDUXND7vDHhgPO3rXIfTZXD1mOGRPhJzrYdI4ZM \tPredicted:\t53 \tOriginal\t67 \t Levenshtein Distance\t73\n",
      "KHACNNTTSMSLCRQKPF5K6RGCC3FF1DKOILJS9A6UP5MKKTLQZGFY2UZCYFLPM8PDGKR644YXD55G59R4TTI0NJSUKMHF1E6SEN2Y \tKfACKNTgSMSLCRtKkF5K6RKCC3FKTDKOIKJS9ACgP5UJKTLQZkFYkUkCYFLKM8PDGKh64fYXDa5P59R4TTIXNJSSsMHF1EXDfWvY \tPredicted:\t61 \tOriginal\t68 \t Levenshtein Distance\t71\n",
      "8IA3E711D59OCQ901HRH1PDEYFGZN04EP8FD0B4218PV2EB56LMD30Z7J8WG1NJFYPD4G5TBBX8VH0UCD1DL456CN59PT1TOHYUQ \t8IAir7Z1D59OCQfW1HRHOxACYUGBN04LP8LD0u421PPV2GBf6LMp30W7DcWG1AJtWPDeG5TBBX8VHPtCDaDL45lCJZjTh1TOHCUQ \tPredicted:\t58 \tOriginal\t57 \t Levenshtein Distance\t42\n",
      "5TNZSBF2GP1VKA27WAO77NO23QKPB3GO9HNHM05TLRMLQ3ZPU8WB066G79U9O8NGM84X3MPLQ9AB9A8DW6DJ9FKS7M0W43O29LPX \t5mdESIv2GP1VKA27WAp7wbK23QLPBjsOlUHHMk5TLRSMm3ZkZxJk066GosUCc8NGMfIX3MPLQ9kn9AADWQDJ9FKImM0RAJO2vYrX \tPredicted:\t45 \tOriginal\t50 \t Levenshtein Distance\t60\n",
      "UIW0HEO46DG9UTOE9PBHBZV3TFNQGGDFJBZ56EDJSR1LRI8K60DM88UN3LCMYM4WR93RTVN0723LIZPTZ2O1RLH3TL64I4ZYNNKK \tUIW0HEO46DG9KTOkJPBHBkV3TFNQGGDFJBZ56EDJSR1LRp8K60sO88UNKLCMYM4iR93RTpN0723LIPPTZMOGRLH3TL6RI4ZYoNKK \tPredicted:\t75 \tOriginal\t83 \t Levenshtein Distance\t85\n",
      "SAGCGNT43OIZNVF5GKWS40CUKFH23ESTLOUKG2TB6H3TOSZDNT4440SEVMTH0QDZ8Q0YSB7ERK0XATLA4VW0PZNCENOG8EJ8FL2V \tRPkWGNoAPOIZNsF5GKePmpCUiFp23ESTDOqKaovPlG3NOSZEjTe44BSxVMwHDQsYcQ0BSl7zRKXXmJLA4VWFZZRCEiOGyBJZFT2V \tPredicted:\t42 \tOriginal\t41 \t Levenshtein Distance\t53\n",
      "5QKH3D3XBI4B2S30S479654YS7NS3R59KTZHWUEQPZZ1YYDWN4OT27HPLOZ8TM9QB5TT0RPYB5MDKAF94Y0N2RI053SYRASB4X49 \twQKMNDoaDIVB2S3vCMr9X5uSOvNS3R5SKdZHuwTQsYZ1CPDQN4WTOyHPNCZATo9QBEVc0LPEy5eHKsF94kEg2DIM53ShRzaBpuhv \tPredicted:\t40 \tOriginal\t27 \t Levenshtein Distance\t44\n",
      "U599RV9D3QAYMNIHZO2G30432R6IOM1DQR63DKHIXK8WZOF3BFI18VU4QJA53V5UNRP73C4EPQ6ZD8VJD33SHBS09WF8KSRN8NZ3 \tReI9HZ9D3cAYKNIHUOLGeo43bRYpTOzDQRVFpFPusKubROC3BZIn8VU4QJA5dVQZbaWeZVpSPQgZV8DJD3IsixMK9WjiKvij8NZJ \tPredicted:\t26 \tOriginal\t12 \t Levenshtein Distance\t47\n",
      "EXTV67EIZ6LZM7N68A5JUVILU841PG6ZR21NGJLGCKS4HKEI2CQY4NJV4CF9SVZRZVKP022TQTJPIU8GOSKQNE6FMYRVMQD0F52K \tlXTV6PEIZ6LkM7NP8LyjUVQLU841PGEZR21NTJLGCKf4ZKEI2jQY4NKV4CFxSVZRGVUP02ATQTNPIU8GOSKtNEjUMYRVMQD0Fixw \tPredicted:\t68 \tOriginal\t68 \t Levenshtein Distance\t76\n",
      "B8NE7E8JNPH71SAKXAORORIYSM0LIXAJPU6LIV6PQPXX2DBPICBP8CRR0SQ4SBZW649MYQTFR6G5UEQWHUQGH1PS89VU1FV9EIKF \tB8DE7MOJNPJVsNAKwAORGFIYSQCLIXAWPUZLIa6PQPXXrdBPXCMOPTRR0hQ4MBgWQ49rDaTFUPG5iRQWdNQaJaWSA9VUBfV9RIKF \tPredicted:\t58 \tOriginal\t43 \t Levenshtein Distance\t61\n",
      "W8G23SULP9PHP9DXK8COY1ZOXF1R7YAK63D5KJIBUA1PN2TTSP8BAV300GTAM1Q1XNHQPWDPBK6I8767CE4MFW30KV8PBCQF99ID \tWPG23FRLJDPyPLDXK8KOY1ZSJLnpOIaKS3HCKgXeUrIPNDcTSQ8Mlv3FTGewtkQaXNOvPPQdBF6Iwb6nxnpimo30vVbPaCAb9rIY \tPredicted:\t18 \tOriginal\t1 \t Levenshtein Distance\t47\n",
      "DOLK72Y8KVG87AVGDEMZ1CZ5HCJWPSWIXEZGR37FTCULVDR0CHQC1URDT8P3RI6VT1XIDX3T2JBJ1MWVN5P1WR6FMME9V94N2R9Z \tDOLK7sY8KVG87AVGDHMd1CZ5HCoWMSWIXUYGRV7FTCrLVDR0CFQCPURDTIPeRt6Vg1sIDXPT2JBJhMoVN5b1WR6FMhEUe94rHcQQ \tPredicted:\t60 \tOriginal\t65 \t Levenshtein Distance\t73\n",
      "87I307OPY21055FUNEXLRHXLG60VA028LVQ2PPYS8AV9HDAXW6V49BCXIJGFUQHMF36OTMX79KC8C49JNKL6GUQD6BD3QT54R4QF \t87V3POjPYeQB55FiNEXwRHXJKD0VG028LVQiPPPS8AbfNEAXUbbm9BCXIhGFEQHMF36oTYX79KCUxB9SzKjGGuQD6BD3HTw4R4UF \tPredicted:\t53 \tOriginal\t53 \t Levenshtein Distance\t65\n",
      "LVCS83UVQN27MOGSZXWLII28CJGJFPTIQ53A5437A9E2HES5UQRJ262HIEU66GJNLFHEMFFRS1KUMEOW5TQS0E33L7XF6YSC72R5 \tEVeS83UVCNupoFGFZoWLzbM8aJGFFPMIQpEAHx37ASENHESdUZRvBs2HIEz66GJNxBHRizFRSCKKWEOWFSvSgg33L7XFskSh72r5 \tPredicted:\t45 \tOriginal\t32 \t Levenshtein Distance\t58\n",
      "LA3DQITISLV39H2Y5HK8X08SX1KFSWH78C0OAWEVXX0PZYKEISF4945OECPUVLALM67MFV83JU8UQ7CXA701XG4HZG43Y59YQLWW \tgA3ljILySFV3QN2YZHJFXN8vXswEoWH7GCmOAPNVXX0yZYLEKSFG9S5OECPUULALM67MFV8sSv8UQEiXAZ01XG4HLs43YC9YQLWj \tPredicted:\t57 \tOriginal\t56 \t Levenshtein Distance\t63\n",
      "QC8JVY6IXK0F46YBNLJXJ44P4GZHWCW882Q4QARKGRC5LOHXNP3YJT8SK0MIAY10ULVQ3L596RWXIV1MABCQYTRTJCP65NPP7094 \twCjvVYlIeP0FFBZsbtJbz4KPXbZOoCWD82QKQAyKGLe5yfJXaPoDAXzocxMIHY10JLKQ3fMXGqbCIVQuTqWNYTRTJxb6ibPMAFso \tPredicted:\t0 \tOriginal\t14 \t Levenshtein Distance\t36\n",
      "4TCOZ9R29TJJCUHICD69XO48QWAI2WW58H31388R70YQJFJLHU535Q9UD19L6OOJMZWUXS47SBEC9W7GVB06U58TA4TEUJPC90FZ \t4TCwZ9R29TJJCUHICD69ZO4RQWAI2HW5ZH31388R70YQJFJLHU5M5QQUD19I6OOJMZWUXS47XBEx9W7yVO06Zu8TANvEUJPC90FZ \tPredicted:\t84 \tOriginal\t81 \t Levenshtein Distance\t85\n",
      "MU2TQ1EJOJ7G35NFSFCSWAHHNKZMNGXMKCZB9OLM16V32B1SA4GJTW0RI0C4RG2G7RYIKXY3SPBSZH8ECLYPER6KJVYOOLY5BTF9 \tMUFDQFFJipHogtNFSTnSvbqSRKmMNGIaKCgXXnRRHpV32LISAFZITW0eI0dYIGoJ7IOwsXxhSaySZe8SVLYYEP6jmKBalLeyBTFa \tPredicted:\t0 \tOriginal\t12 \t Levenshtein Distance\t20\n",
      "W2CS0PCAIM4V4R7GCEFHLJGQF4AQTYX2Y97BNNIMI11UF854OHJ0I7KB78OGRMSYA2SZ1O4W1ONF0R83A43LP2PDOZLG6EZKMNW2 \tW2CS0PCAIM4V4d7GVxFHLhGIF4AQTYX2Y97BNNXMI11UF854OHD0I7Ks78OGRMSYA2SZ1O4W1ONF0R83A43LP2PDOZnG6ESKMNW2 \tPredicted:\t89 \tOriginal\t90 \t Levenshtein Distance\t90\n",
      "Y05ZJP092O8WH861TDZ16A6CGANEP4044RF5HCQGQI0C8GUFW74667LVROSC4UU9IT5GLNXUWS8OBYPI9XL6FAR3466N2PVAG67K \tY05ZPAqt2O8PM8X1AJkP6ITMGsNjR4d44Re5eCQWtPLobyUkQtVfN7MVqISaUUU9ye5IwNXdPSWOBYgD9XH6XUW34WPIaPbAu6ya \tPredicted:\t40 \tOriginal\t20 \t Levenshtein Distance\t33\n",
      "VAA8SPFAP053VH3S24OV5Q6R5SDPABGOA35YK2YLQ80E1CN4ZSACUNCZWCWD6SJY8VM8X44OYS8DXTU2QZCW3SRNMUWT4G9GR6HT \tbWY8SAFiP053OHDS24LNeQNwsSSaABGKt3lfl2miQRXMrGWFZXACUSaZWUWs6SmYkmunXk4OGU8MnTUMoECWJSRbMfQTfGqHugcV \tPredicted:\t18 \tOriginal\t7 \t Levenshtein Distance\t33\n",
      "DRQM1JSC06R447DZFOGYJSL3T1ZATOOCTHD3HCT9RYFWQ2UDEMHJQ50LNX6B6KP119TXZ3O9DQW8E7DW8NZPFQXWE1RO4CJGX820 \tDRQM1NSu0hR447DZFDGYkWL3T1hAtOOBTfD3JCTFRYFWQ2HBEMLAG50jNX6B6KPCr9nXZ3O9DQWjE7DW8orEFQXWlvRZ4iJOXG20 \tPredicted:\t67 \tOriginal\t65 \t Levenshtein Distance\t66\n",
      "G7EVR3NU0BTIOV8BUWOM4MHOVKLVC39UH1ZLL9EZAQ1TOLL12B5H5QVHTMT4YOKMUA8T0DBGB10TEK8QD5NMPASUJ7WYNDGMWKK7 \tW7iVRYNU0BTIOgpBoWOM4MHOVKLVC39UH1DLL9EZAQQTGLL12X5HXQVHVMQ4tOKMWA8T0DBGB10TEK8wD5NMxweUJ7WYQDGMWEK7 \tPredicted:\t74 \tOriginal\t75 \t Levenshtein Distance\t78\n",
      "3SMGAOYW3GPN81ET58IZXOVRRT23MZZCWSCA7Q89M9279CGZPNAE6QOBT1X7D8C6C3I6ZEKPWXUZWL7J9BC1EHLP02IDXT8IXIAW \t3SEGIOCWsGbNGdJz58xZXOzRRaDKqZZCeSyAqQXBM9u79TWZIqAE6DOBT1XPV8C6CSa6iEhhWvjZcL7O9BC1pHDKz2IDhTXIyIGP \tPredicted:\t45 \tOriginal\t28 \t Levenshtein Distance\t52\n",
      "D0N8AV4MNHG90C1RTH5GPN2KH9YMERCQDKVPUM6CA3D8YJHAXSDFX70JN0CSJ43K1ZQCPTBC1K2QN4JDLKRMRKHTK5RIB6KKYD81 \tDzV8AV4MNHG9QCjzTf5CUN2IH9mMvRCQDSVPUMvCA3D8tJHGXSEFX7JJN0dSA43p1ZQCPiBC1U2kn4JDWARMFKHTKVRIB6KKYDh1 \tPredicted:\t67 \tOriginal\t64 \t Levenshtein Distance\t72\n",
      "S28F954O422VQRJFDGNZXT76DAC83W10PVU812V9BYDF8VF5ICML243OH9RZWWIZLFCYI0X4KEONHYIZYCJOX5UYTBED7NL14D5K \tSy8FgI4O4rtetWJFDGfkXBp6DAS83WdjWMUy1FECZzDFmVe5ACMF243OS9RZdWIZEzCmINX4KEONYYIZYCSay5UumfEx7NR14F5O \tPredicted:\t45 \tOriginal\t32 \t Levenshtein Distance\t56\n",
      "Y64DCSU4W2ZHGFKLA4F8OVTVIZUG33BSOAEYPW0NZ13NVZ78WEE6YPGHYWSTLI85IWXRQH7VE16PP8PGHFB0AVA34V4HNYFP49D5 \tY64DCSLHbXZHNFFLIjFQfVTrIWGG33BiOHSGBWyNgx3dLlOwCmt6EIGpYosbgILJDoRDQHLVEREMLmWuzFMFAVAG4K4kXZrP4Idg \tPredicted:\t26 \tOriginal\t7 \t Levenshtein Distance\t38\n",
      "BYP18HJ362SA4BER82KY3Q4BINTDH0UCFS8JMBX266U111VBBL4FVZP0TV8PDJXVU64G2A6OKLPFRBI5VAOEXF713J3JL8GSIZBC \tBYPI8HnYhoSAFBER82KYCQ4FBNTDH0UCXrhJAzX2UrU1p1VBTLmjNeHFTXkJGJnxW6VG2I6OGBPyvjIhVAODXWg13JWJL8USIdMC \tPredicted:\t49 \tOriginal\t46 \t Levenshtein Distance\t54\n",
      "S6LLCAWYIEYZJUADAR1MDZX7IB03HVAUJ3D1HO06YUUX979UPEGN2HZ7LYZAI1Z7ED01VEIE8J7Y9YFL5FQ3BYS3XI6YMUMB5KVO \tSpLpCDWYINDZZUADep1SDSX7IB0VAVAGF3DoHsNvDUUX97GUPEGN2Hh7xYZQnhZ7EDe1pOIE8JpYTYWL5FV3BVSbXT6YMUNvIzuh \tPredicted:\t53 \tOriginal\t41 \t Levenshtein Distance\t60\n",
      "BIJ71F988PQ6211N9QMEESCYPWY1R1MPIN4PJDH8YYFOVIFVOY54NOY3XPYN2W14SZIW9RVOD2PGWB4ECYIKFATVOQEZZFEC0ED1 \tBIbl1F9t8PFPJodN9QMEESCRdWYlR1MGIN4PLDH8ztfOsIJuOrF4NOY3XPYN2M14SZIb9TVOY2PeQg4EXYRKFiqVOcJDgDEc0EDO \tPredicted:\t57 \tOriginal\t51 \t Levenshtein Distance\t58\n",
      "1C6KGRFN2VTYG0P15PRNSQLZABWUZXVM8CD60VCLSGJLWYE6JY13GS4S3UFD21F56406OC4JM8M88S6BFNA8912HFRABRWBLAMR0 \tfMIKaDFGOaTYa0X15PjVSQLZAGWeZXVP8CDdpVCLMGYLbYE6Ju13GD4S3UFDu1FHv406OCQJZ8Mq8S6BFNPZ912HjMABkNBVQMR0 \tPredicted:\t63 \tOriginal\t49 \t Levenshtein Distance\t64\n"
     ]
    }
   ],
   "source": [
    "# testing on random 100 strings\n",
    "for i in range(100):\n",
    "    # gerate new original string\n",
    "    originalString = string_generator()\n",
    "    # generated mutated string\n",
    "    prcentageMutation = random.randint(0,99)\n",
    "    percentageSame = 100-prcentageMutation\n",
    "    mutatedString = mutator(originalString,prcentageMutation)\n",
    "    \n",
    "    #Get numpy matrrix for original And muuated string\n",
    "    originalStringMatrix_test = giveWordmatrix(originalString)\n",
    "    mutatedStringMatrix_test = giveWordmatrix(mutatedString)\n",
    "\n",
    "    # reshaping to meet dimension requirement\n",
    "    originalStringArray = originalStringMatrix_test.reshape(1,originalStringMatrix_test.shape[0],originalStringMatrix_test.shape[1])\n",
    "    mutatedStringArray = mutatedStringMatrix_test.reshape(1, mutatedStringMatrix_test.shape[0],mutatedStringMatrix_test.shape[1])\n",
    "#     print \"Original String :\",originalString\n",
    "#     print \"Mutated String :\",mutatedString\n",
    "#     # printing \n",
    "    print originalString,\"\\t\",mutatedString,\"\\t\",\"Predicted:\\t\",final_model.predict_classes([originalStringArray,mutatedStringArray],verbose=0)[0],\"\\tOriginal\\t\",percentageSame,\"\\t Levenshtein Distance\\t\", fuzz.token_sort_ratio(originalString,mutatedString)"
   ]
  },
  {
   "cell_type": "code",
   "execution_count": 27,
   "metadata": {
    "collapsed": false
   },
   "outputs": [
    {
     "name": "stdout",
     "output_type": "stream",
     "text": [
      "39\n"
     ]
    }
   ],
   "source": []
  },
  {
   "cell_type": "code",
   "execution_count": null,
   "metadata": {
    "collapsed": true
   },
   "outputs": [],
   "source": []
  },
  {
   "cell_type": "code",
   "execution_count": null,
   "metadata": {
    "collapsed": true
   },
   "outputs": [],
   "source": []
  },
  {
   "cell_type": "code",
   "execution_count": null,
   "metadata": {
    "collapsed": true
   },
   "outputs": [],
   "source": []
  }
 ],
 "metadata": {
  "kernelspec": {
   "display_name": "Python [Root]",
   "language": "python",
   "name": "Python [Root]"
  },
  "language_info": {
   "codemirror_mode": {
    "name": "ipython",
    "version": 2
   },
   "file_extension": ".py",
   "mimetype": "text/x-python",
   "name": "python",
   "nbconvert_exporter": "python",
   "pygments_lexer": "ipython2",
   "version": "2.7.12"
  }
 },
 "nbformat": 4,
 "nbformat_minor": 0
}
