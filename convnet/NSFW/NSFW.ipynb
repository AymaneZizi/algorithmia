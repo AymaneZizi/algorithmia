{
 "cells": [
  {
   "cell_type": "code",
   "execution_count": 1,
   "metadata": {
    "collapsed": false
   },
   "outputs": [],
   "source": [
    "#defining imports\n",
    "from PIL import Image\n",
    "import os\n",
    "import numpy as np\n",
    "from tempfile import mkdtemp\n",
    "import os.path as path\n",
    "import matplotlib.pyplot as plt\n",
    "import numpy as np\n",
    "import theano\n",
    "import keras\n",
    "import traceback\n",
    "from keras.models import Sequential\n",
    "from scipy.misc import imread, imresize, imsave\n",
    "from keras.layers.core import Flatten, Dense, Dropout,Activation\n",
    "from keras.layers.convolutional import Convolution2D, MaxPooling2D, ZeroPadding2D,UpSampling2D,UpSampling1D,Cropping2D\n",
    "from keras.optimizers import SGD\n",
    "from keras.utils.np_utils import to_categorical\n",
    "%matplotlib inline\n",
    "from keras import backend as K\n",
    "from keras.utils import np_utils\n",
    "K.set_image_dim_ordering('th')\n",
    "import traceback\n",
    "from scipy import ndimage\n",
    "from sklearn.cross_validation import train_test_split\n",
    "from keras import callbacks\n",
    "remote = callbacks.RemoteMonitor(root='http://172.21.10.13:9000')"
   ]
  },
  {
   "cell_type": "code",
   "execution_count": 2,
   "metadata": {
    "collapsed": false
   },
   "outputs": [],
   "source": [
    "def imageResize(basename,imageName):\n",
    "    \"\"\"\n",
    "    resize images\n",
    "    basename : eg. /home/sunil/fishes/bet\n",
    "    iamgename : xyz.jpg\n",
    "    \"\"\"\n",
    "    new_width  = 224\n",
    "    new_height = 224\n",
    "    try:  \n",
    "        img = Image.open(basename+\"/\"+imageName) # image extension *.png,*.jpg\n",
    "        img = img.resize((new_width, new_height), Image.ANTIALIAS)\n",
    "        img.save(basename+'_resized/'+imageName)\n",
    "    except:\n",
    "        os.mkdir(basename+'_resized/')\n",
    "        img = Image.open(basename+\"/\"+imageName) # image extension *.png,*.jpg\n",
    "        img = img.resize((new_width, new_height), Image.ANTIALIAS)\n",
    "        img.save(basename+'_resized/'+imageName)"
   ]
  },
  {
   "cell_type": "code",
   "execution_count": 3,
   "metadata": {
    "collapsed": false
   },
   "outputs": [],
   "source": [
    "def resizer(folderPath):\n",
    "    \"\"\"\n",
    "    to resize all files present in a folder\n",
    "    resizer('/home/sunil/imageTagging/data/allCats_resized/')\n",
    "    resizer('/home/sunil/imageTagging/data/allCats_resized/')\n",
    "    \"\"\"\n",
    "    \n",
    "    for subdir, dirs, files in os.walk(folderPath):\n",
    "        for fileName in files:\n",
    "            try:\n",
    "        #         print os.path.join(subdir, file)\n",
    "                filepath = subdir + os.sep + fileName\n",
    "                if filepath.endswith(\".jpg\"):\n",
    "                    imageResize(subdir,fileName)\n",
    "            except:\n",
    "                print traceback.print_exc()\n",
    "                os.remove(subdir+\"/\"+fileName)"
   ]
  },
  {
   "cell_type": "code",
   "execution_count": 4,
   "metadata": {
    "collapsed": false
   },
   "outputs": [],
   "source": [
    "# resizer('/home/sunil/imageTagging/downloadData/SAFE')\n",
    "# resizer('/home/sunil/imageTagging/downloadData/UNSAFE')"
   ]
  },
  {
   "cell_type": "code",
   "execution_count": 5,
   "metadata": {
    "collapsed": true
   },
   "outputs": [],
   "source": [
    "def load_image( infilename ) :\n",
    "    \"\"\"\n",
    "    loads file from disk to ram as numpy array\n",
    "    :param infilename: \n",
    "    :return: \n",
    "    \"\"\"\n",
    "    img = ndimage.imread( infilename )\n",
    "    data = np.asarray( img, dtype=\"int32\" )\n",
    "    resized = data.reshape(data.shape[2],data.shape[0],data.shape[1])\n",
    "    return resized"
   ]
  },
  {
   "cell_type": "code",
   "execution_count": 6,
   "metadata": {
    "collapsed": true
   },
   "outputs": [],
   "source": [
    "def turnToNumpy(folderPath):\n",
    "    \"\"\"\n",
    "    turn stored images on disk to numpy\n",
    "    turnToNumpy('/home/sunil/imageTagging/def generateResponse(class1Size,class2Size):\n",
    "    y = [] \n",
    "    for i in range(class1Size):\n",
    "        y.append(0)\n",
    "    for i in range(class2Size):\n",
    "        y.append(1)\n",
    "    return ydata/allCats')\n",
    "    turnToNumpy('/home/sunil/imageTagging/data/allDogs')\n",
    "    \"\"\"\n",
    "    temp = []\n",
    "    for subdir, dirs, files in os.walk(folderPath):\n",
    "        for fileName in files:\n",
    "                try:\n",
    "                    filepath = subdir + os.sep + fileName\n",
    "                    if load_image(subdir+\"/\"+fileName).shape == (3,224,224):\n",
    "#                         print filepath\n",
    "                        temp.append(load_image(subdir+\"/\"+fileName))\n",
    "                except:\n",
    "                    os.remove(subdir+\"/\"+fileName)\n",
    "        \n",
    "    return np.asarray(temp)"
   ]
  },
  {
   "cell_type": "code",
   "execution_count": 7,
   "metadata": {
    "collapsed": false
   },
   "outputs": [],
   "source": [
    "# loading safe and unsafe images\n",
    "SAFE =  turnToNumpy('/home/sunil/imageTagging/downloadData/SAFE_resized')\n",
    "UNSAFE =  turnToNumpy('/home/sunil/imageTagging/downloadData/UNSAFE_resized')"
   ]
  },
  {
   "cell_type": "code",
   "execution_count": 8,
   "metadata": {
    "collapsed": false
   },
   "outputs": [
    {
     "name": "stdout",
     "output_type": "stream",
     "text": [
      "(5805, 3, 224, 224)\n",
      "(8081, 3, 224, 224)\n"
     ]
    }
   ],
   "source": [
    "# printing shape of both dataset\n",
    "print SAFE.shape\n",
    "print UNSAFE.shape"
   ]
  },
  {
   "cell_type": "code",
   "execution_count": 9,
   "metadata": {
    "collapsed": true
   },
   "outputs": [],
   "source": [
    "def generateResponse(class1Size,class2Size):\n",
    "    \"\"\"\n",
    "    generate response column/ label column\n",
    "    if  fag]fe images then 1 else 0 for unsafe\n",
    "    :param class1Size: \n",
    "    :param class2Size: \n",
    "    :return: \n",
    "    \"\"\"\n",
    "    y = [] \n",
    "    for i in range(class1Size):\n",
    "        y.append(0)\n",
    "    for i in range(class2Size):\n",
    "        y.append(1)\n",
    "    return y"
   ]
  },
  {
   "cell_type": "code",
   "execution_count": 10,
   "metadata": {
    "collapsed": false
   },
   "outputs": [
    {
     "name": "stdout",
     "output_type": "stream",
     "text": [
      "11610\n",
      "11610\n",
      "(11610, 3, 224, 224)\n",
      "(11610, 2)\n"
     ]
    }
   ],
   "source": [
    "X=[]\n",
    "y=[]\n",
    "\n",
    "# creating array of data\n",
    "X.extend(SAFE)\n",
    "X.extend(UNSAFE[:len(SAFE)])\n",
    "# generating response\n",
    "y = generateResponse(len(SAFE),len(SAFE))\n",
    "\n",
    "# CHECKING SHAPE OF DATA AND LABELS\n",
    "print (len(X))\n",
    "print (len(y))\n",
    "\n",
    "# CONVERTING DATA AND LABELS TO NUMPY ARRAY\n",
    "X = np.asarray(X,dtype=\"float32\")\n",
    "y = np.asarray(y,dtype=\"int8\")\n",
    "\n",
    "# USING categorical_crossentropy AS LOSS FUNCTION, IT REQUIRE ONE HOT VECTOR FOR RESPONSE\n",
    "# SO CONVERTING TO CATEGORICAL\n",
    "y = to_categorical(np.asarray(y))\n",
    "\n",
    "# PRINTING SHAPE OF NUMPY ARRAY\n",
    "print (X.shape)\n",
    "print (y.shape)"
   ]
  },
  {
   "cell_type": "code",
   "execution_count": 11,
   "metadata": {
    "collapsed": false
   },
   "outputs": [
    {
     "name": "stdout",
     "output_type": "stream",
     "text": [
      "[ 1.  0.]\n",
      "(11610, 2)\n"
     ]
    }
   ],
   "source": [
    "# NORMALIZING IMAGE FROM 0 TO 1 BY DEVIDING IMAGE WITH 255.\n",
    "\n",
    "X = X/255.0"
   ]
  },
  {
   "cell_type": "code",
   "execution_count": 12,
   "metadata": {
    "collapsed": false
   },
   "outputs": [
    {
     "name": "stdout",
     "output_type": "stream",
     "text": [
      "('x_train : ', (8127, 3, 224, 224), 'x_test : ', (3483, 3, 224, 224), 'y_train : ', (8127, 2), 'y_test : ', (3483, 2))\n"
     ]
    }
   ],
   "source": [
    "X_train,X_test,y_train,y_test = train_test_split(X,y,test_size=0.3,random_state=13)\n",
    "print (\"x_train : \", X_train.shape,\"x_test : \",X_test.shape,\"y_train : \",y_train.shape,\"y_test : \",y_test.shape)"
   ]
  },
  {
   "cell_type": "code",
   "execution_count": 13,
   "metadata": {
    "collapsed": false
   },
   "outputs": [],
   "source": [
    "model = Sequential()\n",
    "model.add(ZeroPadding2D((1,1),input_shape=(3,224,224)))\n",
    "model.add(Convolution2D(64, 3, 3, activation='relu'))\n",
    "model.add(ZeroPadding2D((1,1)))\n",
    "model.add(Convolution2D(64, 3, 3, activation='relu'))\n",
    "model.add(MaxPooling2D((2,2)))\n",
    "model.add(ZeroPadding2D((1,1)))\n",
    "model.add(Convolution2D(128, 3, 3, activation='relu'))\n",
    "model.add(ZeroPadding2D((1,1)))\n",
    "model.add(Convolution2D(128, 3, 3, activation='relu'))\n",
    "model.add(MaxPooling2D((2,2)))\n",
    "model.add(ZeroPadding2D((1,1)))\n",
    "model.add(Convolution2D(256, 3, 3, activation='relu'))\n",
    "model.add(ZeroPadding2D((1,1)))\n",
    "model.add(Convolution2D(256, 3, 3, activation='relu'))\n",
    "model.add(ZeroPadding2D((1,1)))\n",
    "model.add(Convolution2D(256, 3, 3, activation='relu'))\n",
    "model.add(MaxPooling2D((2,2)))\n",
    "model.add(ZeroPadding2D((1,1)))\n",
    "model.add(Convolution2D(512, 3, 3, activation='relu'))\n",
    "model.add(ZeroPadding2D((1,1)))\n",
    "model.add(Convolution2D(512, 3, 3, activation='relu'))\n",
    "model.add(ZeroPadding2D((1,1)))\n",
    "model.add(Convolution2D(512, 3, 3, activation='relu'))\n",
    "model.add(MaxPooling2D((2,2)))\n",
    "model.add(ZeroPadding2D((1,1)))\n",
    "model.add(Convolution2D(512, 3, 3, activation='relu'))\n",
    "model.add(ZeroPadding2D((1,1)))\n",
    "model.add(Convolution2D(512, 3, 3, activation='relu'))\n",
    "model.add(ZeroPadding2D((1,1)))\n",
    "model.add(Convolution2D(512, 3, 3, activation='relu'))\n",
    "model.add(MaxPooling2D((2,2)))\n",
    "model.add(Flatten())\n",
    "model.add(Dense(128, activation='relu'))\n",
    "model.add(Dropout(0.5))\n",
    "model.add(Dense(64, activation='relu'))\n",
    "model.add(Dropout(0.5))\n",
    "model.add(Dense(2, activation='softmax'))\n",
    "# model.summary()"
   ]
  },
  {
   "cell_type": "code",
   "execution_count": null,
   "metadata": {
    "collapsed": false
   },
   "outputs": [],
   "source": [
    "# sgd = SGD(lr=0.1, decay=1e-6, momentum=0.9, nesterov=True)\n",
    "model.compile(optimizer='sgd', loss='categorical_crossentropy',metrics=['accuracy'])\n",
    "\n",
    "model.fit(X_train, y_train, batch_size=10, nb_epoch=10,\n",
    "          verbose=1, validation_data=(X_test, y_test),callbacks=[remote])"
   ]
  },
  {
   "cell_type": "code",
   "execution_count": 14,
   "metadata": {
    "collapsed": true
   },
   "outputs": [],
   "source": [
    "model.load_weights(\"NSFW_wholeNet_10.h5\")"
   ]
  },
  {
   "cell_type": "code",
   "execution_count": 15,
   "metadata": {
    "collapsed": false
   },
   "outputs": [
    {
     "name": "stdout",
     "output_type": "stream",
     "text": [
      "3483/3483 [==============================] - 50s    \n"
     ]
    }
   ],
   "source": [
    "pr = model.predict_classes(X_test)"
   ]
  },
  {
   "cell_type": "code",
   "execution_count": 16,
   "metadata": {
    "collapsed": true
   },
   "outputs": [],
   "source": [
    "actual =  [] \n",
    "for i in y_test:\n",
    "    if(i[0]==1):\n",
    "        actual.append(0)\n",
    "    else:\n",
    "        actual.append(1)"
   ]
  },
  {
   "cell_type": "code",
   "execution_count": 1,
   "metadata": {
    "collapsed": false
   },
   "outputs": [],
   "source": [
    "imageNumber = 0\n",
    "for imageNumber in range (0,len(X_test)):\n",
    "    tempX = X_test[imageNumber].reshape(X_test[imageNumber].shape[1],X_test[imageNumber].shape[2],X_test[imageNumber].shape[0])\n",
    "#     plt.imshow(tempX, interpolation='nearest')\n",
    "#     plt.show()\n",
    "    predicted = pr[imageNumber]\n",
    "#     print predicted\n",
    "#     print actual[imageNumber]\n",
    "    if (int(actual[imageNumber]) == 1 and int(predicted)== 1):\n",
    "        imsave(\"tp/\"+str(imageNumber)+\"_\"+str(actual[imageNumber])+\"_\"+str(predicted)+\".png\",tempX)\n",
    "    if (int(actual[imageNumber]) == 0  and int(predicted)== 0):\n",
    "        imsave(\"tn/\"+str(imageNumber)+\"_\"+str(actual[imageNumber])+\"_\"+str(predicted)+\".png\",tempX)\n",
    "    if (int(actual[imageNumber]) == 0  and int(predicted)== 1):\n",
    "        imsave(\"fp/\"+str(imageNumber)+\"_\"+str(actual[imageNumber])+\"_\"+str(predicted)+\".png\",tempX)\n",
    "    if (int(actual[imageNumber]) == 1  and int(predicted)== 0):\n",
    "        imsave(\"fn/\"+str(imageNumber)+\"_\"+str(actual[imageNumber])+\"_\"+str(predicted)+\".png\",tempX)"
   ]
  },
  {
   "cell_type": "code",
   "execution_count": 2,
   "metadata": {
    "collapsed": false
   },
   "outputs": [],
   "source": [
    "print (len(actual))\n",
    "print (len(pr))\n",
    "fp=0\n",
    "fn=0\n",
    "tp=0\n",
    "tn=0\n",
    "for no in range(0,len(actual)):\n",
    "    if actual[no] == 1 and pr[no]==1:\n",
    "        tp+=1\n",
    "    elif actual[no] == 0 and pr[no]==0:\n",
    "        tn += 1\n",
    "    elif actual[no] == 1 and pr[no]==0:\n",
    "        fn += 1\n",
    "    elif actual[no] == 0 and pr[no]==1:\n",
    "        fp += 1\n",
    "    \n",
    "print (fp,fn,tp,tn,\"Accuracy : \",float(tp+tn)/float(tn+tp+fp+fn))"
   ]
  },
  {
   "cell_type": "code",
   "execution_count": null,
   "metadata": {
    "collapsed": true
   },
   "outputs": [],
   "source": [
    ""
   ]
  },
  {
   "cell_type": "code",
   "execution_count": null,
   "metadata": {
    "collapsed": true
   },
   "outputs": [],
   "source": [
    ""
   ]
  }
 ],
 "metadata": {
  "kernelspec": {
   "display_name": "Python [Root]",
   "language": "python",
   "name": "Python [Root]"
  },
  "language_info": {
   "codemirror_mode": {
    "name": "ipython",
    "version": 2.0
   },
   "file_extension": ".py",
   "mimetype": "text/x-python",
   "name": "python",
   "nbconvert_exporter": "python",
   "pygments_lexer": "ipython2",
   "version": "2.7.12"
  }
 },
 "nbformat": 4,
 "nbformat_minor": 0
}